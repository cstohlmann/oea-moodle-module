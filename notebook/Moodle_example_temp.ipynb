{
  "cells": [
    {
      "cell_type": "markdown",
      "source": [
        "# Test for processing Moodle data\r\n",
        "\r\n",
        "This notebook demonstrates possible data processing and exploration of the Moodle data, using the OEA_py class notebook. \r\n",
        "\r\n",
        "Most of the data processing done in this notebook are also achieved by executing the Moodle module main pipeline. This notebook is designed as an alternate approach to the same processing, as well as module data exploration and visualization. \r\n",
        "\r\n",
        "The steps are clearly outlined below:\r\n",
        "1. Set the workspace,\r\n",
        "2. Land Moodle Module Higher Ed. Test Data,\r\n",
        "3. Ingest the Moodle Module Test Data,\r\n",
        "4. Refine the Moodle Module Test Data, \r\n",
        "5. Demonstrate Lake Database Queries/Final Remarks, and\r\n",
        "6. Appendix"
      ],
      "metadata": {
        "nteract": {
          "transient": {
            "deleting": false
          }
        }
      }
    },
    {
      "cell_type": "code",
      "source": [
        "%run OEA_py"
      ],
      "outputs": [
        {
          "output_type": "display_data",
          "data": {
            "application/vnd.livy.statement-meta+json": {
              "spark_pool": null,
              "session_id": "3",
              "statement_id": -1,
              "state": "finished",
              "livy_statement_state": "available",
              "queued_time": "2023-04-27T23:52:27.1324604Z",
              "session_start_time": null,
              "execution_start_time": "2023-04-27T23:56:27.7087333Z",
              "execution_finish_time": "2023-04-27T23:56:27.7090871Z",
              "spark_jobs": null,
              "parent_msg_id": "bda965f1-42ac-4297-b84e-3a44b70f75f3"
            },
            "text/plain": "StatementMeta(, 3, -1, Finished, Available)"
          },
          "metadata": {}
        },
        {
          "output_type": "stream",
          "name": "stdout",
          "text": [
            "2023-04-27 23:56:26,857 - OEA - INFO - Now using workspace: dev\n2023-04-27 23:56:26,859 - OEA - INFO - OEA initialized.\n"
          ]
        }
      ],
      "execution_count": 1,
      "metadata": {
        "jupyter": {
          "source_hidden": false,
          "outputs_hidden": false
        },
        "nteract": {
          "transient": {
            "deleting": false
          }
        }
      }
    },
    {
      "cell_type": "code",
      "source": [
        "# 1) set the workspace (this determines where in the data lake you'll be writing to and reading from).\r\n",
        "# You can work in 'dev', 'prod', or a sandbox with any name you choose.\r\n",
        "# For example, Sam the developer can create a 'sam' workspace and expect to find his datasets in the data lake under oea/sandboxes/sam\r\n",
        "oea.set_workspace('dev')"
      ],
      "outputs": [
        {
          "output_type": "display_data",
          "data": {
            "application/vnd.livy.statement-meta+json": {
              "spark_pool": "spark3p2sm",
              "session_id": "3",
              "statement_id": 3,
              "state": "finished",
              "livy_statement_state": "available",
              "queued_time": "2023-04-27T23:53:12.6970766Z",
              "session_start_time": null,
              "execution_start_time": "2023-04-27T23:56:27.8466329Z",
              "execution_finish_time": "2023-04-27T23:56:28.0063937Z",
              "spark_jobs": null,
              "parent_msg_id": "15f615d2-07c9-4208-b84e-2da8b84bb7af"
            },
            "text/plain": "StatementMeta(spark3p2sm, 3, 3, Finished, Available)"
          },
          "metadata": {}
        },
        {
          "output_type": "stream",
          "name": "stdout",
          "text": [
            "2023-04-27 23:56:27,822 - OEA - INFO - Now using workspace: dev\n"
          ]
        }
      ],
      "execution_count": 2,
      "metadata": {
        "jupyter": {
          "source_hidden": false,
          "outputs_hidden": false
        },
        "nteract": {
          "transient": {
            "deleting": false
          }
        }
      }
    },
    {
      "cell_type": "markdown",
      "source": [
        "## 2.) Land Moodle Module Higher Ed. Test Data\r\n",
        "\r\n",
        "Directory: ```GitHub.com (raw data) -> stage1/Transactional/moodle```\r\n",
        "\r\n",
        "The code block below lands 27 OEA Moodle module test data tables, formatted as Moodle Higher Ed. data in your data lake. \r\n",
        "\r\n",
        "Moodle test data tables landed in stage 1:\r\n",
        " 1. **assign**\r\n",
        " 2. **assign_grades**\r\n",
        " 3. **assign_submission**\r\n",
        " 4. **assignsubmission_file**\r\n",
        " 5. **assign_user_mapping**\r\n",
        " 6. **cohort**\r\n",
        " 7. **course**\r\n",
        " 8. **course_categories**\r\n",
        " 9. **enrol**\r\n",
        " 10. **forum**\r\n",
        " 11. **forum_discussions**\r\n",
        " 12. **forum_posts** \r\n",
        " 13. **forum_grades**\r\n",
        " 14. **lesson**\r\n",
        " 15. **lesson_answers**\r\n",
        " 16. **lesson_attempts**\r\n",
        " 17. **lesson_grades**\r\n",
        " 18. **lesson_pages** \r\n",
        " 19. **lesson_timer** \r\n",
        " 20. **page** \r\n",
        " 21. **quiz**\r\n",
        " 22. **quiz_attempts**\r\n",
        " 23. **quiz_grades**\r\n",
        " 24. **role**\r\n",
        " 25. **role_assignments**\r\n",
        " 26. **user** \r\n",
        " 27. **user_enrolments**\r\n",
        "\r\n",
        " Tables still to be generated and landed:\r\n",
        " 1. **messages**\r\n",
        " 2. **message_conversations**\r\n",
        " 3. **message_conversation_members**\r\n",
        " 4. **grade_grades**\r\n",
        "\r\n",
        "\r\n",
        "\r\n",
        "**To-Do's:**\r\n",
        " - Correct the test dataset as needed\r\n",
        " - Remove top codeblock for when launching on OEA."
      ],
      "metadata": {
        "nteract": {
          "transient": {
            "deleting": false
          }
        }
      }
    },
    {
      "cell_type": "code",
      "source": [
        "# NOTE: RUN THIS CODE BLOCK (do not run the block below this one - this is for dev, and the other is for when launched on OEA).\r\n",
        "# In this example we pull Moodle HEd test csv data files from github and land it in oea/sandboxes/sam/stage1/Transactional/moodle/v0.1\r\n",
        "data = requests.get('https://raw.githubusercontent.com/cstohlmann/oea-moodle-module/main/test_data/hed_test_data/cohort.csv').text\r\n",
        "oea.land(data, 'moodle/v0.1/cohort', 'cohort_hed_test_data.csv', oea.SNAPSHOT_BATCH_DATA)\r\n",
        "data = requests.get('https://raw.githubusercontent.com/cstohlmann/oea-moodle-module/main/test_data/hed_test_data/course.csv').text\r\n",
        "oea.land(data, 'moodle/v0.1/course', 'course_hed_test_data.csv', oea.SNAPSHOT_BATCH_DATA)\r\n",
        "data = requests.get('https://raw.githubusercontent.com/cstohlmann/oea-moodle-module/main/test_data/hed_test_data/course_categories.csv').text\r\n",
        "oea.land(data, 'moodle/v0.1/course_categories', 'coursecategories_hed_test_data.csv', oea.SNAPSHOT_BATCH_DATA)\r\n",
        "data = requests.get('https://raw.githubusercontent.com/cstohlmann/oea-moodle-module/main/test_data/hed_test_data/enrol.csv').text\r\n",
        "oea.land(data, 'moodle/v0.1/enrol', 'enrol_hed_test_data.csv', oea.SNAPSHOT_BATCH_DATA)\r\n",
        "data = requests.get('https://raw.githubusercontent.com/cstohlmann/oea-moodle-module/main/test_data/hed_test_data/role.csv').text\r\n",
        "oea.land(data, 'moodle/v0.1/role', 'role_hed_test_data.csv', oea.SNAPSHOT_BATCH_DATA)\r\n",
        "data = requests.get('https://raw.githubusercontent.com/cstohlmann/oea-moodle-module/main/test_data/hed_test_data/role_assignments.csv').text\r\n",
        "oea.land(data, 'moodle/v0.1/role_assignments', 'roleassignments_hed_test_data.csv', oea.SNAPSHOT_BATCH_DATA)\r\n",
        "data = requests.get('https://raw.githubusercontent.com/cstohlmann/oea-moodle-module/main/test_data/hed_test_data/user.csv').text\r\n",
        "oea.land(data, 'moodle/v0.1/user', 'user_hed_test_data.csv', oea.SNAPSHOT_BATCH_DATA)\r\n",
        "\r\n",
        "data = requests.get('https://raw.githubusercontent.com/cstohlmann/oea-moodle-module/main/test_data/hed_test_data/page.csv').text\r\n",
        "oea.land(data, 'moodle/v0.1/page', 'page_hed_test_data.csv', oea.DELTA_BATCH_DATA)\r\n",
        "data = requests.get('https://raw.githubusercontent.com/cstohlmann/oea-moodle-module/main/test_data/hed_test_data/user_enrolments.csv').text\r\n",
        "oea.land(data, 'moodle/v0.1/user_enrolments', 'userenrolments_hed_test_data.csv', oea.DELTA_BATCH_DATA)\r\n",
        "\r\n",
        "data = requests.get('https://raw.githubusercontent.com/cstohlmann/oea-moodle-module/main/test_data/hed_test_data/assign.csv').text\r\n",
        "oea.land(data, 'moodle/v0.1/assign', 'assign_hed_test_data.csv', oea.ADDITIVE_BATCH_DATA)\r\n",
        "data = requests.get('https://raw.githubusercontent.com/cstohlmann/oea-moodle-module/main/test_data/hed_test_data/assign_grades.csv').text\r\n",
        "oea.land(data, 'moodle/v0.1/assign_grades', 'assigngrades_hed_test_data.csv', oea.ADDITIVE_BATCH_DATA)\r\n",
        "data = requests.get('https://raw.githubusercontent.com/cstohlmann/oea-moodle-module/main/test_data/hed_test_data/assign_submission.csv').text\r\n",
        "oea.land(data, 'moodle/v0.1/assign_submission', 'assignsubmission_hed_test_data.csv', oea.ADDITIVE_BATCH_DATA)\r\n",
        "data = requests.get('https://raw.githubusercontent.com/cstohlmann/oea-moodle-module/main/test_data/hed_test_data/assignsubmission_file.csv').text\r\n",
        "oea.land(data, 'moodle/v0.1/assignsubmission_file', 'assignsubmissionfile_hed_test_data.csv', oea.ADDITIVE_BATCH_DATA)\r\n",
        "data = requests.get('https://raw.githubusercontent.com/cstohlmann/oea-moodle-module/main/test_data/hed_test_data/assign_user_mapping.csv').text\r\n",
        "oea.land(data, 'moodle/v0.1/assign_user_mapping', 'assignusermapping_hed_test_data.csv', oea.ADDITIVE_BATCH_DATA)\r\n",
        "data = requests.get('https://raw.githubusercontent.com/cstohlmann/oea-moodle-module/main/test_data/hed_test_data/forum.csv').text\r\n",
        "oea.land(data, 'moodle/v0.1/forum', 'forum_hed_test_data.csv', oea.ADDITIVE_BATCH_DATA)\r\n",
        "data = requests.get('https://raw.githubusercontent.com/cstohlmann/oea-moodle-module/main/test_data/hed_test_data/forum_discussions.csv').text\r\n",
        "oea.land(data, 'moodle/v0.1/forum_discussions', 'forumdiscussions_hed_test_data.csv', oea.ADDITIVE_BATCH_DATA)\r\n",
        "data = requests.get('https://raw.githubusercontent.com/cstohlmann/oea-moodle-module/main/test_data/hed_test_data/forum_grades.csv').text\r\n",
        "oea.land(data, 'moodle/v0.1/forum_grades', 'forumgrades_hed_test_data.csv', oea.ADDITIVE_BATCH_DATA)\r\n",
        "data = requests.get('https://raw.githubusercontent.com/cstohlmann/oea-moodle-module/main/test_data/hed_test_data/forum_posts.csv').text\r\n",
        "oea.land(data, 'moodle/v0.1/forum_posts', 'forumposts_hed_test_data.csv', oea.ADDITIVE_BATCH_DATA)\r\n",
        "data = requests.get('https://raw.githubusercontent.com/cstohlmann/oea-moodle-module/main/test_data/hed_test_data/lesson.csv').text\r\n",
        "oea.land(data, 'moodle/v0.1/lesson', 'lesson_hed_test_data.csv', oea.ADDITIVE_BATCH_DATA)\r\n",
        "data = requests.get('https://raw.githubusercontent.com/cstohlmann/oea-moodle-module/main/test_data/hed_test_data/lesson_answers.csv').text\r\n",
        "oea.land(data, 'moodle/v0.1/lesson_answers', 'lessonanswers_hed_test_data.csv', oea.ADDITIVE_BATCH_DATA)\r\n",
        "data = requests.get('https://raw.githubusercontent.com/cstohlmann/oea-moodle-module/main/test_data/hed_test_data/lesson_attempts.csv').text\r\n",
        "oea.land(data, 'moodle/v0.1/lesson_attempts', 'lessonattempts_hed_test_data.csv', oea.ADDITIVE_BATCH_DATA)\r\n",
        "data = requests.get('https://raw.githubusercontent.com/cstohlmann/oea-moodle-module/main/test_data/hed_test_data/lesson_grades.csv').text\r\n",
        "oea.land(data, 'moodle/v0.1/lesson_grades', 'lessongrades_hed_test_data.csv', oea.ADDITIVE_BATCH_DATA)\r\n",
        "data = requests.get('https://raw.githubusercontent.com/cstohlmann/oea-moodle-module/main/test_data/hed_test_data/lesson_pages.csv').text\r\n",
        "oea.land(data, 'moodle/v0.1/lesson_pages', 'lessonpages_hed_test_data.csv', oea.ADDITIVE_BATCH_DATA)\r\n",
        "data = requests.get('https://raw.githubusercontent.com/cstohlmann/oea-moodle-module/main/test_data/hed_test_data/lesson_timer.csv').text\r\n",
        "oea.land(data, 'moodle/v0.1/lesson_timer', 'lessontimer_hed_test_data.csv', oea.ADDITIVE_BATCH_DATA)\r\n",
        "data = requests.get('https://raw.githubusercontent.com/cstohlmann/oea-moodle-module/main/test_data/hed_test_data/quiz.csv').text\r\n",
        "oea.land(data, 'moodle/v0.1/quiz', 'quiz_hed_test_data.csv', oea.ADDITIVE_BATCH_DATA)\r\n",
        "data = requests.get('https://raw.githubusercontent.com/cstohlmann/oea-moodle-module/main/test_data/hed_test_data/quiz_attempts.csv').text\r\n",
        "oea.land(data, 'moodle/v0.1/quiz_attempts', 'quizattempts_hed_test_data.csv', oea.ADDITIVE_BATCH_DATA)\r\n",
        "data = requests.get('https://raw.githubusercontent.com/cstohlmann/oea-moodle-module/main/test_data/hed_test_data/quiz_grades.csv').text\r\n",
        "oea.land(data, 'moodle/v0.1/quiz_grades', 'quizgrades_hed_test_data.csv', oea.ADDITIVE_BATCH_DATA)"
      ],
      "outputs": [
        {
          "output_type": "display_data",
          "data": {
            "application/vnd.livy.statement-meta+json": {
              "spark_pool": "spark3p2sm",
              "session_id": "3",
              "statement_id": 4,
              "state": "finished",
              "livy_statement_state": "available",
              "queued_time": "2023-04-27T23:53:22.4271396Z",
              "session_start_time": null,
              "execution_start_time": "2023-04-27T23:56:28.1966254Z",
              "execution_finish_time": "2023-04-27T23:56:37.0288961Z",
              "spark_jobs": null,
              "parent_msg_id": "90c80d4c-e381-4f41-95f6-bdb55e2b10b0"
            },
            "text/plain": "StatementMeta(spark3p2sm, 3, 4, Finished, Available)"
          },
          "metadata": {}
        },
        {
          "output_type": "execute_result",
          "execution_count": 9,
          "data": {
            "text/plain": "'stage1/Transactional/moodle/v0.1/quiz_grades/additive_batch_data/rundate=2023-04-27 23:56:36/quizgrades_hed_test_data.csv'"
          },
          "metadata": {}
        }
      ],
      "execution_count": 3,
      "metadata": {
        "jupyter": {
          "source_hidden": false,
          "outputs_hidden": false
        },
        "nteract": {
          "transient": {
            "deleting": false
          }
        }
      }
    },
    {
      "cell_type": "code",
      "source": [
        "# 2.1) Land batch data files into stage1 of the data lake.\r\n",
        "# In this example we pull Moodle HEd test csv data files from github and land it in oea/sandboxes/sam/stage1/Transactional/moodle/v0.1\r\n",
        "data = requests.get('https://raw.githubusercontent.com/microsoft/OpenEduAnalytics/main/modules/module_catalog/Moodle/test_data/hed_test_data/context/2023-03-21/moodle_context_hed_test_data.csv').text\r\n",
        "oea.land(data, 'moodle/v0.1/context', 'context_hed_test_data.csv', oea.SNAPSHOT_BATCH_DATA)\r\n",
        "data = requests.get('https://raw.githubusercontent.com/microsoft/OpenEduAnalytics/main/modules/module_catalog/Moodle/test_data/hed_test_data/course/2023-03-21/moodle_course_hed_test_data.csv').text\r\n",
        "oea.land(data, 'moodle/v0.1/course', 'course_hed_test_data.csv', oea.SNAPSHOT_BATCH_DATA)\r\n",
        "data = requests.get('https://raw.githubusercontent.com/microsoft/OpenEduAnalytics/main/modules/module_catalog/Moodle/test_data/hed_test_data/course_categories/2023-03-21/moodle_course_categories_hed_test_data.csv').text\r\n",
        "oea.land(data, 'moodle/v0.1/course_categories', 'coursecategories_hed_test_data.csv', oea.SNAPSHOT_BATCH_DATA)\r\n",
        "data = requests.get('https://raw.githubusercontent.com/microsoft/OpenEduAnalytics/main/modules/module_catalog/Moodle/test_data/hed_test_data/enrol/2023-03-21/moodle_enrol_hed_test_data.csv').text\r\n",
        "oea.land(data, 'moodle/v0.1/enrol', 'enrol_hed_test_data.csv', oea.SNAPSHOT_BATCH_DATA)\r\n",
        "data = requests.get('https://raw.githubusercontent.com/microsoft/OpenEduAnalytics/main/modules/module_catalog/Moodle/test_data/hed_test_data/role/2023-03-21/moodle_role_hed_test_data.csv').text\r\n",
        "oea.land(data, 'moodle/v0.1/role', 'role_hed_test_data.csv', oea.SNAPSHOT_BATCH_DATA)\r\n",
        "data = requests.get('https://raw.githubusercontent.com/microsoft/OpenEduAnalytics/main/modules/module_catalog/Moodle/test_data/hed_test_data/role_assignments/2023-03-21/moodle_role_assignments_hed_test_data.csv').text\r\n",
        "oea.land(data, 'moodle/v0.1/role_assignments', 'roleassignments_hed_test_data.csv', oea.SNAPSHOT_BATCH_DATA)\r\n",
        "data = requests.get('https://raw.githubusercontent.com/microsoft/OpenEduAnalytics/main/modules/module_catalog/Moodle/test_data/hed_test_data/user/2023-03-21/moodle_user_assignments_hed_test_data.csv').text\r\n",
        "oea.land(data, 'moodle/v0.1/user', 'user_hed_test_data.csv', oea.SNAPSHOT_BATCH_DATA)\r\n",
        "\r\n",
        "data = requests.get('https://raw.githubusercontent.com/microsoft/OpenEduAnalytics/main/modules/module_catalog/Moodle/test_data/hed_test_data/user_enrolments/2023-03-21/moodle_user_enrolments_hed_test_data.csv').text\r\n",
        "oea.land(data, 'moodle/v0.1/user_enrolments', 'userenrolments_hed_test_data.csv', oea.DELTA_BATCH_DATA)\r\n",
        "\r\n",
        "data = requests.get('https://raw.githubusercontent.com/microsoft/OpenEduAnalytics/main/modules/module_catalog/Moodle/test_data/hed_test_data/assign/2023-03-21/moodle_assign_hed_test_data.csv').text\r\n",
        "oea.land(data, 'moodle/v0.1/assign', 'assign_hed_test_data.csv', oea.ADDITIVE_BATCH_DATA)\r\n",
        "data = requests.get('https://raw.githubusercontent.com/microsoft/OpenEduAnalytics/main/modules/module_catalog/Moodle/test_data/hed_test_data/assign_grades/2023-03-21/moodle_assign_grades_hed_test_data.csv').text\r\n",
        "oea.land(data, 'moodle/v0.1/assign_grades', 'assigngrades_hed_test_data.csv', oea.ADDITIVE_BATCH_DATA)\r\n",
        "data = requests.get('https://raw.githubusercontent.com/microsoft/OpenEduAnalytics/main/modules/module_catalog/Moodle/test_data/hed_test_data/assign_submission/2023-03-21/moodle_assign_submission_hed_test_data.csv').text\r\n",
        "oea.land(data, 'moodle/v0.1/assign_submission', 'assignsubmission_hed_test_data.csv', oea.ADDITIVE_BATCH_DATA)\r\n",
        "data = requests.get('https://raw.githubusercontent.com/microsoft/OpenEduAnalytics/main/modules/module_catalog/Moodle/test_data/hed_test_data/assignsubmission_file/2023-03-21/moodle_assignsubmission_file_hed_test_data.csv').text\r\n",
        "oea.land(data, 'moodle/v0.1/assignsubmission_file', 'assignsubmissionfile_hed_test_data.csv', oea.ADDITIVE_BATCH_DATA)\r\n",
        "data = requests.get('https://raw.githubusercontent.com/microsoft/OpenEduAnalytics/main/modules/module_catalog/Moodle/test_data/hed_test_data/assign_user_mapping/2023-03-21/moodle_assign_user_mapping_hed_test_data.csv').text\r\n",
        "oea.land(data, 'moodle/v0.1/assign_user_mapping', 'assignusermapping_hed_test_data.csv', oea.ADDITIVE_BATCH_DATA)\r\n",
        "data = requests.get('https://raw.githubusercontent.com/microsoft/OpenEduAnalytics/main/modules/module_catalog/Moodle/test_data/hed_test_data/forum/2023-03-21/moodle_forum_hed_test_data.csv').text\r\n",
        "oea.land(data, 'moodle/v0.1/forum', 'forum_hed_test_data.csv', oea.ADDITIVE_BATCH_DATA)\r\n",
        "data = requests.get('https://raw.githubusercontent.com/microsoft/OpenEduAnalytics/main/modules/module_catalog/Moodle/test_data/hed_test_data/forum_discussions/2023-03-21/moodle_forum_discussions_hed_test_data.csv').text\r\n",
        "oea.land(data, 'moodle/v0.1/forum_discussions', 'forumdiscussions_hed_test_data.csv', oea.ADDITIVE_BATCH_DATA)\r\n",
        "data = requests.get('https://raw.githubusercontent.com/microsoft/OpenEduAnalytics/main/modules/module_catalog/Moodle/test_data/hed_test_data/forum_grades/2023-03-21/moodle_forum_grades_hed_test_data.csv').text\r\n",
        "oea.land(data, 'moodle/v0.1/forum_grades', 'forumgrades_hed_test_data.csv', oea.ADDITIVE_BATCH_DATA)\r\n",
        "data = requests.get('https://raw.githubusercontent.com/microsoft/OpenEduAnalytics/main/modules/module_catalog/Moodle/test_data/hed_test_data/lesson/2023-03-21/moodle_lesson_hed_test_data.csv').text\r\n",
        "oea.land(data, 'moodle/v0.1/lesson', 'lesson_hed_test_data.csv', oea.ADDITIVE_BATCH_DATA)\r\n",
        "data = requests.get('https://raw.githubusercontent.com/microsoft/OpenEduAnalytics/main/modules/module_catalog/Moodle/test_data/hed_test_data/lesson_answers/2023-03-21/moodle_lesson_answers_hed_test_data.csv').text\r\n",
        "oea.land(data, 'moodle/v0.1/lesson_answers', 'lessonanswers_hed_test_data.csv', oea.ADDITIVE_BATCH_DATA)\r\n",
        "data = requests.get('https://raw.githubusercontent.com/microsoft/OpenEduAnalytics/main/modules/module_catalog/Moodle/test_data/hed_test_data/lesson_attempts/2023-03-21/moodle_lesson_attempts_hed_test_data.csv').text\r\n",
        "oea.land(data, 'moodle/v0.1/lesson_attempts', 'lessonattempts_hed_test_data.csv', oea.ADDITIVE_BATCH_DATA)\r\n",
        "data = requests.get('https://raw.githubusercontent.com/microsoft/OpenEduAnalytics/main/modules/module_catalog/Moodle/test_data/hed_test_data/lesson_grades/2023-03-21/moodle_lesson_grades_hed_test_data.csv').text\r\n",
        "oea.land(data, 'moodle/v0.1/lesson_grades', 'lessongrades_hed_test_data.csv', oea.ADDITIVE_BATCH_DATA)\r\n",
        "data = requests.get('https://raw.githubusercontent.com/microsoft/OpenEduAnalytics/main/modules/module_catalog/Moodle/test_data/hed_test_data/messages/2023-03-21/moodle_messages_hed_test_data.csv').text\r\n",
        "oea.land(data, 'moodle/v0.1/messages', 'messages_hed_test_data.csv', oea.ADDITIVE_BATCH_DATA)\r\n",
        "data = requests.get('https://raw.githubusercontent.com/microsoft/OpenEduAnalytics/main/modules/module_catalog/Moodle/test_data/hed_test_data/message_conversations/2023-03-21/moodle_message_conversations_hed_test_data.csv').text\r\n",
        "oea.land(data, 'moodle/v0.1/message_conversations', 'messageconversations_hed_test_data.csv', oea.ADDITIVE_BATCH_DATA)\r\n",
        "data = requests.get('https://raw.githubusercontent.com/microsoft/OpenEduAnalytics/main/modules/module_catalog/Moodle/test_data/hed_test_data/message_conversation_members/2023-03-21/moodle_message_conversation_members_hed_test_data.csv').text\r\n",
        "oea.land(data, 'moodle/v0.1/message_conversation_members', 'messageconversationmembers_hed_test_data.csv', oea.ADDITIVE_BATCH_DATA)\r\n",
        "data = requests.get('https://raw.githubusercontent.com/microsoft/OpenEduAnalytics/main/modules/module_catalog/Moodle/test_data/hed_test_data/quiz/2023-03-21/moodle_quiz_hed_test_data.csv').text\r\n",
        "oea.land(data, 'moodle/v0.1/quiz', 'quiz_hed_test_data.csv', oea.ADDITIVE_BATCH_DATA)\r\n",
        "data = requests.get('https://raw.githubusercontent.com/microsoft/OpenEduAnalytics/main/modules/module_catalog/Moodle/test_data/hed_test_data/quiz_attempts/2023-03-21/moodle_quiz_attempts_hed_test_data.csv').text\r\n",
        "oea.land(data, 'moodle/v0.1/quiz_attempts', 'quizattempts_hed_test_data.csv', oea.ADDITIVE_BATCH_DATA)\r\n",
        "data = requests.get('https://raw.githubusercontent.com/microsoft/OpenEduAnalytics/main/modules/module_catalog/Moodle/test_data/hed_test_data/quiz_grades/2023-03-21/moodle_quiz_grades_hed_test_data.csv').text\r\n",
        "oea.land(data, 'moodle/v0.1/quiz_grades', 'quizgrades_hed_test_data.csv', oea.ADDITIVE_BATCH_DATA)"
      ],
      "outputs": [],
      "execution_count": null,
      "metadata": {
        "jupyter": {
          "source_hidden": false,
          "outputs_hidden": false
        },
        "nteract": {
          "transient": {
            "deleting": false
          }
        }
      }
    },
    {
      "cell_type": "markdown",
      "source": [
        "## 3.) Ingest the Moodle Module Test Data\r\n",
        "\r\n",
        "Directory: ```stage1/Transactional/moodle -> stage2/Ingested/moodle```\r\n",
        "\r\n",
        "This step ingests the Moodle module test data from stage1 to stage2/Ingested.\r\n",
        "\r\n",
        "The code blocks in this step ingest the data using the ```oea.ingest()``` function as normal.\r\n",
        "\r\n",
        "**To-Do's:**\r\n",
        " - Check if Moodle test data accurately reflects actual (production) Moodle data."
      ],
      "metadata": {
        "nteract": {
          "transient": {
            "deleting": false
          }
        }
      }
    },
    {
      "cell_type": "code",
      "source": [
        "# NOTE: RUN THIS CODEBLOCK; not the one below\r\n",
        "# 3) The next step is to ingest the batch data into stage2\r\n",
        "# Note that when you run this the first time, you'll see an info message like \"Number of new inbound rows processed: 2\".\r\n",
        "# If you run this a second time, the number of inbound rows processed will be 0 because the ingestion uses spark structured streaming to keep track of what data has already been processed.\r\n",
        "#options = {'header':True}\r\n",
        "oea.ingest(f'moodle/v0.1/assign', 'id')\r\n",
        "oea.ingest(f'moodle/v0.1/assign_grades', 'id')\r\n",
        "oea.ingest(f'moodle/v0.1/assign_submission', 'id')\r\n",
        "oea.ingest(f'moodle/v0.1/assign_user_mapping', 'id')\r\n",
        "oea.ingest(f'moodle/v0.1/assignsubmission_file', 'id')\r\n",
        "oea.ingest(f'moodle/v0.1/cohort', 'id')\r\n",
        "oea.ingest(f'moodle/v0.1/course', 'id')\r\n",
        "oea.ingest(f'moodle/v0.1/course_categories', 'id')\r\n",
        "oea.ingest(f'moodle/v0.1/enrol', 'id')\r\n",
        "oea.ingest(f'moodle/v0.1/forum', 'id')\r\n",
        "oea.ingest(f'moodle/v0.1/forum_discussions', 'id')\r\n",
        "oea.ingest(f'moodle/v0.1/forum_grades', 'id')\r\n",
        "oea.ingest(f'moodle/v0.1/forum_posts', 'id')\r\n",
        "oea.ingest(f'moodle/v0.1/lesson', 'id')\r\n",
        "oea.ingest(f'moodle/v0.1/lesson_answers', 'id')\r\n",
        "oea.ingest(f'moodle/v0.1/lesson_attempts', 'id')\r\n",
        "oea.ingest(f'moodle/v0.1/lesson_grades', 'id')\r\n",
        "oea.ingest(f'moodle/v0.1/lesson_pages', 'id')\r\n",
        "oea.ingest(f'moodle/v0.1/lesson_timer', 'id')\r\n",
        "oea.ingest(f'moodle/v0.1/page', 'id')\r\n",
        "oea.ingest(f'moodle/v0.1/quiz', 'id')\r\n",
        "oea.ingest(f'moodle/v0.1/quiz_attempts', 'id')\r\n",
        "oea.ingest(f'moodle/v0.1/quiz_grades', 'id')\r\n",
        "oea.ingest(f'moodle/v0.1/role', 'id')\r\n",
        "oea.ingest(f'moodle/v0.1/role_assignments', 'id')\r\n",
        "oea.ingest(f'moodle/v0.1/user', 'id')\r\n",
        "oea.ingest(f'moodle/v0.1/user_enrolments', 'id')"
      ],
      "outputs": [
        {
          "output_type": "display_data",
          "data": {
            "application/vnd.livy.statement-meta+json": {
              "spark_pool": "spark3p2sm",
              "session_id": "3",
              "statement_id": 5,
              "state": "finished",
              "livy_statement_state": "available",
              "queued_time": "2023-04-27T23:57:38.1887048Z",
              "session_start_time": null,
              "execution_start_time": "2023-04-27T23:57:38.3477611Z",
              "execution_finish_time": "2023-04-28T00:02:04.4530712Z",
              "spark_jobs": null,
              "parent_msg_id": "108ed09a-4703-42ec-9839-4a251c46b431"
            },
            "text/plain": "StatementMeta(spark3p2sm, 3, 5, Finished, Available)"
          },
          "metadata": {}
        },
        {
          "output_type": "stream",
          "name": "stdout",
          "text": [
            "2023-04-27 23:57:38,674 - OEA - INFO - Ingesting from: stage1/Transactional/moodle/v0.1/assign, batch type of: additive, source data format of: csv\nsource_path is: abfss://oea@stoeacisd3v08kw1.dfs.core.windows.net/dev/stage1/Transactional/moodle/v0.1/assign/additive_batch_data/rundate=2023-04-27 23:56:31\n2023-04-27 23:57:56,352 - py4j.java_gateway - INFO - Callback Server Starting\n2023-04-27 23:57:56,352 - py4j.java_gateway - INFO - Socket listening on ('127.0.0.1', 35777)\n2023-04-27 23:57:58,107 - py4j.java_gateway - INFO - Callback Connection ready to receive messages\n2023-04-27 23:57:58,130 - py4j.java_gateway - INFO - Received command c on object id p0\n2023-04-27 23:58:33,824 - OEA - INFO - Number of new inbound rows processed: 5\n2023-04-27 23:58:52,773 - OEA - INFO - Ingesting from: stage1/Transactional/moodle/v0.1/assign_grades, batch type of: additive, source data format of: csv\nsource_path is: abfss://oea@stoeacisd3v08kw1.dfs.core.windows.net/dev/stage1/Transactional/moodle/v0.1/assign_grades/additive_batch_data/rundate=2023-04-27 23:56:31\n2023-04-27 23:58:55,065 - py4j.java_gateway - INFO - Received command c on object id p1\n2023-04-27 23:59:00,575 - OEA - INFO - Number of new inbound rows processed: 231\n2023-04-27 23:59:02,101 - OEA - INFO - Ingesting from: stage1/Transactional/moodle/v0.1/assign_submission, batch type of: additive, source data format of: csv\nsource_path is: abfss://oea@stoeacisd3v08kw1.dfs.core.windows.net/dev/stage1/Transactional/moodle/v0.1/assign_submission/additive_batch_data/rundate=2023-04-27 23:56:32\n2023-04-27 23:59:03,847 - py4j.java_gateway - INFO - Received command c on object id p2\n2023-04-27 23:59:11,200 - OEA - INFO - Number of new inbound rows processed: 137\n2023-04-27 23:59:12,968 - OEA - INFO - Ingesting from: stage1/Transactional/moodle/v0.1/assign_user_mapping, batch type of: additive, source data format of: csv\nsource_path is: abfss://oea@stoeacisd3v08kw1.dfs.core.windows.net/dev/stage1/Transactional/moodle/v0.1/assign_user_mapping/additive_batch_data/rundate=2023-04-27 23:56:32\n2023-04-27 23:59:14,589 - py4j.java_gateway - INFO - Received command c on object id p3\n2023-04-27 23:59:18,924 - OEA - INFO - Number of new inbound rows processed: 212\n2023-04-27 23:59:20,550 - OEA - INFO - Ingesting from: stage1/Transactional/moodle/v0.1/assignsubmission_file, batch type of: additive, source data format of: csv\nsource_path is: abfss://oea@stoeacisd3v08kw1.dfs.core.windows.net/dev/stage1/Transactional/moodle/v0.1/assignsubmission_file/additive_batch_data/rundate=2023-04-27 23:56:32\n2023-04-27 23:59:22,217 - py4j.java_gateway - INFO - Received command c on object id p4\n2023-04-27 23:59:26,204 - OEA - INFO - Number of new inbound rows processed: 469\n2023-04-27 23:59:27,887 - OEA - INFO - Ingesting from: stage1/Transactional/moodle/v0.1/cohort, batch type of: snapshot, source data format of: csv\nsource_path is: abfss://oea@stoeacisd3v08kw1.dfs.core.windows.net/dev/stage1/Transactional/moodle/v0.1/cohort/snapshot_batch_data/rundate=2023-04-27 23:56:28\n2023-04-27 23:59:29,465 - py4j.java_gateway - INFO - Received command c on object id p5\n2023-04-27 23:59:33,616 - OEA - INFO - Number of new inbound rows processed: 5\n2023-04-27 23:59:35,238 - OEA - INFO - Ingesting from: stage1/Transactional/moodle/v0.1/course, batch type of: snapshot, source data format of: csv\nsource_path is: abfss://oea@stoeacisd3v08kw1.dfs.core.windows.net/dev/stage1/Transactional/moodle/v0.1/course/snapshot_batch_data/rundate=2023-04-27 23:56:29\n2023-04-27 23:59:36,842 - py4j.java_gateway - INFO - Received command c on object id p6\n2023-04-27 23:59:41,406 - OEA - INFO - Number of new inbound rows processed: 87\n2023-04-27 23:59:43,190 - OEA - INFO - Ingesting from: stage1/Transactional/moodle/v0.1/course_categories, batch type of: snapshot, source data format of: csv\nsource_path is: abfss://oea@stoeacisd3v08kw1.dfs.core.windows.net/dev/stage1/Transactional/moodle/v0.1/course_categories/snapshot_batch_data/rundate=2023-04-27 23:56:29\n2023-04-27 23:59:44,879 - py4j.java_gateway - INFO - Received command c on object id p7\n2023-04-27 23:59:48,896 - OEA - INFO - Number of new inbound rows processed: 87\n2023-04-27 23:59:50,607 - OEA - INFO - Ingesting from: stage1/Transactional/moodle/v0.1/enrol, batch type of: snapshot, source data format of: csv\nsource_path is: abfss://oea@stoeacisd3v08kw1.dfs.core.windows.net/dev/stage1/Transactional/moodle/v0.1/enrol/snapshot_batch_data/rundate=2023-04-27 23:56:29\n2023-04-27 23:59:52,160 - py4j.java_gateway - INFO - Received command c on object id p8\n2023-04-27 23:59:56,557 - OEA - INFO - Number of new inbound rows processed: 87\n2023-04-27 23:59:58,167 - OEA - INFO - Ingesting from: stage1/Transactional/moodle/v0.1/forum, batch type of: additive, source data format of: csv\nsource_path is: abfss://oea@stoeacisd3v08kw1.dfs.core.windows.net/dev/stage1/Transactional/moodle/v0.1/forum/additive_batch_data/rundate=2023-04-27 23:56:32\n2023-04-27 23:59:59,745 - py4j.java_gateway - INFO - Received command c on object id p9\n2023-04-28 00:00:03,512 - OEA - INFO - Number of new inbound rows processed: 5\n2023-04-28 00:00:05,047 - OEA - INFO - Ingesting from: stage1/Transactional/moodle/v0.1/forum_discussions, batch type of: additive, source data format of: csv\nsource_path is: abfss://oea@stoeacisd3v08kw1.dfs.core.windows.net/dev/stage1/Transactional/moodle/v0.1/forum_discussions/additive_batch_data/rundate=2023-04-27 23:56:33\n2023-04-28 00:00:06,851 - py4j.java_gateway - INFO - Received command c on object id p10\n2023-04-28 00:00:10,837 - OEA - INFO - Number of new inbound rows processed: 432\n2023-04-28 00:00:12,343 - OEA - INFO - Ingesting from: stage1/Transactional/moodle/v0.1/forum_grades, batch type of: additive, source data format of: csv\nsource_path is: abfss://oea@stoeacisd3v08kw1.dfs.core.windows.net/dev/stage1/Transactional/moodle/v0.1/forum_grades/additive_batch_data/rundate=2023-04-27 23:56:33\n2023-04-28 00:00:13,952 - py4j.java_gateway - INFO - Received command c on object id p11\n2023-04-28 00:00:17,840 - OEA - INFO - Number of new inbound rows processed: 1353\n2023-04-28 00:00:19,454 - OEA - INFO - Ingesting from: stage1/Transactional/moodle/v0.1/forum_posts, batch type of: additive, source data format of: csv\nsource_path is: abfss://oea@stoeacisd3v08kw1.dfs.core.windows.net/dev/stage1/Transactional/moodle/v0.1/forum_posts/additive_batch_data/rundate=2023-04-27 23:56:33\n2023-04-28 00:00:20,954 - py4j.java_gateway - INFO - Received command c on object id p12\n2023-04-28 00:00:24,932 - OEA - INFO - Number of new inbound rows processed: 1383\n2023-04-28 00:00:26,600 - OEA - INFO - Ingesting from: stage1/Transactional/moodle/v0.1/lesson, batch type of: additive, source data format of: csv\nsource_path is: abfss://oea@stoeacisd3v08kw1.dfs.core.windows.net/dev/stage1/Transactional/moodle/v0.1/lesson/additive_batch_data/rundate=2023-04-27 23:56:33\n2023-04-28 00:00:28,278 - py4j.java_gateway - INFO - Received command c on object id p13\n2023-04-28 00:00:31,500 - OEA - INFO - Number of new inbound rows processed: 5\n2023-04-28 00:00:33,731 - OEA - INFO - Ingesting from: stage1/Transactional/moodle/v0.1/lesson_answers, batch type of: additive, source data format of: csv\nsource_path is: abfss://oea@stoeacisd3v08kw1.dfs.core.windows.net/dev/stage1/Transactional/moodle/v0.1/lesson_answers/additive_batch_data/rundate=2023-04-27 23:56:34\n2023-04-28 00:00:35,522 - py4j.java_gateway - INFO - Received command c on object id p14\n2023-04-28 00:00:38,692 - OEA - INFO - Number of new inbound rows processed: 51\n2023-04-28 00:00:40,407 - OEA - INFO - Ingesting from: stage1/Transactional/moodle/v0.1/lesson_attempts, batch type of: additive, source data format of: csv\nsource_path is: abfss://oea@stoeacisd3v08kw1.dfs.core.windows.net/dev/stage1/Transactional/moodle/v0.1/lesson_attempts/additive_batch_data/rundate=2023-04-27 23:56:34\n2023-04-28 00:00:42,066 - py4j.java_gateway - INFO - Received command c on object id p15\n2023-04-28 00:00:45,284 - OEA - INFO - Number of new inbound rows processed: 2985\n2023-04-28 00:00:46,858 - OEA - INFO - Ingesting from: stage1/Transactional/moodle/v0.1/lesson_grades, batch type of: additive, source data format of: csv\nsource_path is: abfss://oea@stoeacisd3v08kw1.dfs.core.windows.net/dev/stage1/Transactional/moodle/v0.1/lesson_grades/additive_batch_data/rundate=2023-04-27 23:56:34\n2023-04-28 00:00:48,519 - py4j.java_gateway - INFO - Received command c on object id p16\n2023-04-28 00:00:51,635 - OEA - INFO - Number of new inbound rows processed: 315\n2023-04-28 00:00:53,222 - OEA - INFO - Ingesting from: stage1/Transactional/moodle/v0.1/lesson_pages, batch type of: additive, source data format of: csv\nsource_path is: abfss://oea@stoeacisd3v08kw1.dfs.core.windows.net/dev/stage1/Transactional/moodle/v0.1/lesson_pages/additive_batch_data/rundate=2023-04-27 23:56:35\n2023-04-28 00:00:55,143 - py4j.java_gateway - INFO - Received command c on object id p17\n2023-04-28 00:00:57,677 - OEA - INFO - Number of new inbound rows processed: 5\n2023-04-28 00:00:59,163 - OEA - INFO - Ingesting from: stage1/Transactional/moodle/v0.1/lesson_timer, batch type of: additive, source data format of: csv\nsource_path is: abfss://oea@stoeacisd3v08kw1.dfs.core.windows.net/dev/stage1/Transactional/moodle/v0.1/lesson_timer/additive_batch_data/rundate=2023-04-27 23:56:35\n2023-04-28 00:01:00,976 - py4j.java_gateway - INFO - Received command c on object id p18\n2023-04-28 00:01:04,749 - OEA - INFO - Number of new inbound rows processed: 8499\n2023-04-28 00:01:06,443 - OEA - INFO - Ingesting from: stage1/Transactional/moodle/v0.1/page, batch type of: delta, source data format of: csv\nsource_path is: abfss://oea@stoeacisd3v08kw1.dfs.core.windows.net/dev/stage1/Transactional/moodle/v0.1/page/delta_batch_data\n2023-04-28 00:01:08,177 - py4j.java_gateway - INFO - Received command c on object id p19\n2023-04-28 00:01:11,097 - OEA - INFO - Number of new inbound rows processed: 5\n2023-04-28 00:01:12,660 - OEA - INFO - Ingesting from: stage1/Transactional/moodle/v0.1/quiz, batch type of: additive, source data format of: csv\nsource_path is: abfss://oea@stoeacisd3v08kw1.dfs.core.windows.net/dev/stage1/Transactional/moodle/v0.1/quiz/additive_batch_data/rundate=2023-04-27 23:56:35\n2023-04-28 00:01:14,395 - py4j.java_gateway - INFO - Received command c on object id p20\n2023-04-28 00:01:17,895 - OEA - INFO - Number of new inbound rows processed: 5\n2023-04-28 00:01:19,503 - OEA - INFO - Ingesting from: stage1/Transactional/moodle/v0.1/quiz_attempts, batch type of: additive, source data format of: csv\nsource_path is: abfss://oea@stoeacisd3v08kw1.dfs.core.windows.net/dev/stage1/Transactional/moodle/v0.1/quiz_attempts/additive_batch_data/rundate=2023-04-27 23:56:36\n2023-04-28 00:01:21,682 - py4j.java_gateway - INFO - Received command c on object id p21\n2023-04-28 00:01:25,221 - OEA - INFO - Number of new inbound rows processed: 94\n2023-04-28 00:01:26,720 - OEA - INFO - Ingesting from: stage1/Transactional/moodle/v0.1/quiz_grades, batch type of: additive, source data format of: csv\nsource_path is: abfss://oea@stoeacisd3v08kw1.dfs.core.windows.net/dev/stage1/Transactional/moodle/v0.1/quiz_grades/additive_batch_data/rundate=2023-04-27 23:56:36\n2023-04-28 00:01:28,723 - py4j.java_gateway - INFO - Received command c on object id p22\n2023-04-28 00:01:31,733 - OEA - INFO - Number of new inbound rows processed: 108\n2023-04-28 00:01:33,392 - OEA - INFO - Ingesting from: stage1/Transactional/moodle/v0.1/role, batch type of: snapshot, source data format of: csv\nsource_path is: abfss://oea@stoeacisd3v08kw1.dfs.core.windows.net/dev/stage1/Transactional/moodle/v0.1/role/snapshot_batch_data/rundate=2023-04-27 23:56:30\n2023-04-28 00:01:35,338 - py4j.java_gateway - INFO - Received command c on object id p23\n2023-04-28 00:01:37,934 - OEA - INFO - Number of new inbound rows processed: 2\n2023-04-28 00:01:39,541 - OEA - INFO - Ingesting from: stage1/Transactional/moodle/v0.1/role_assignments, batch type of: snapshot, source data format of: csv\nsource_path is: abfss://oea@stoeacisd3v08kw1.dfs.core.windows.net/dev/stage1/Transactional/moodle/v0.1/role_assignments/snapshot_batch_data/rundate=2023-04-27 23:56:30\n2023-04-28 00:01:41,356 - py4j.java_gateway - INFO - Received command c on object id p24\n2023-04-28 00:01:44,779 - OEA - INFO - Number of new inbound rows processed: 600\n2023-04-28 00:01:46,854 - OEA - INFO - Ingesting from: stage1/Transactional/moodle/v0.1/user, batch type of: snapshot, source data format of: csv\nsource_path is: abfss://oea@stoeacisd3v08kw1.dfs.core.windows.net/dev/stage1/Transactional/moodle/v0.1/user/snapshot_batch_data/rundate=2023-04-27 23:56:30\n2023-04-28 00:01:48,801 - py4j.java_gateway - INFO - Received command c on object id p25\n2023-04-28 00:01:53,459 - OEA - INFO - Number of new inbound rows processed: 600\n2023-04-28 00:01:55,102 - OEA - INFO - Ingesting from: stage1/Transactional/moodle/v0.1/user_enrolments, batch type of: delta, source data format of: csv\nsource_path is: abfss://oea@stoeacisd3v08kw1.dfs.core.windows.net/dev/stage1/Transactional/moodle/v0.1/user_enrolments/delta_batch_data\n2023-04-28 00:01:56,723 - py4j.java_gateway - INFO - Received command c on object id p26\n2023-04-28 00:02:00,549 - OEA - INFO - Number of new inbound rows processed: 3600\n"
          ]
        },
        {
          "output_type": "execute_result",
          "execution_count": 11,
          "data": {
            "text/plain": "3600"
          },
          "metadata": {}
        }
      ],
      "execution_count": 4,
      "metadata": {
        "jupyter": {
          "source_hidden": false,
          "outputs_hidden": false
        },
        "nteract": {
          "transient": {
            "deleting": false
          }
        }
      }
    },
    {
      "cell_type": "code",
      "source": [
        "# 3) The next step is to ingest the batch data into stage2\r\n",
        "# Note that when you run this the first time, you'll see an info message like \"Number of new inbound rows processed: 2\".\r\n",
        "# If you run this a second time, the number of inbound rows processed will be 0 because the ingestion uses spark structured streaming to keep track of what data has already been processed.\r\n",
        "#options = {'header':True}\r\n",
        "oea.ingest(f'moodle/v0.1/assign', 'id')\r\n",
        "oea.ingest(f'moodle/v0.1/assign_grades', 'id')\r\n",
        "oea.ingest(f'moodle/v0.1/assign_submission', 'id')\r\n",
        "oea.ingest(f'moodle/v0.1/assign_user_mapping', 'id')\r\n",
        "oea.ingest(f'moodle/v0.1/assignsubmission_file', 'id')\r\n",
        "oea.ingest(f'moodle/v0.1/cohort', 'id')\r\n",
        "oea.ingest(f'moodle/v0.1/course', 'id')\r\n",
        "oea.ingest(f'moodle/v0.1/course_categories', 'id')\r\n",
        "oea.ingest(f'moodle/v0.1/enrol', 'id')\r\n",
        "oea.ingest(f'moodle/v0.1/forum', 'id')\r\n",
        "oea.ingest(f'moodle/v0.1/forum_discussions', 'id')\r\n",
        "oea.ingest(f'moodle/v0.1/forum_grades', 'id')\r\n",
        "oea.ingest(f'moodle/v0.1/lesson', 'id')\r\n",
        "oea.ingest(f'moodle/v0.1/lesson_answers', 'id')\r\n",
        "oea.ingest(f'moodle/v0.1/lesson_attempts', 'id')\r\n",
        "oea.ingest(f'moodle/v0.1/lesson_grades', 'id')\r\n",
        "oea.ingest(f'moodle/v0.1/messages', 'id')\r\n",
        "oea.ingest(f'moodle/v0.1/message_conversations', 'id')\r\n",
        "oea.ingest(f'moodle/v0.1/message_conversation_members', 'id')\r\n",
        "oea.ingest(f'moodle/v0.1/quiz', 'id')\r\n",
        "oea.ingest(f'moodle/v0.1/quiz_attempts', 'id')\r\n",
        "oea.ingest(f'moodle/v0.1/quiz_grades', 'id')\r\n",
        "oea.ingest(f'moodle/v0.1/role', 'id')\r\n",
        "oea.ingest(f'moodle/v0.1/role_assignments', 'id')\r\n",
        "oea.ingest(f'moodle/v0.1/user', 'id')\r\n",
        "oea.ingest(f'moodle/v0.1/user_enrolments', 'id')"
      ],
      "outputs": [],
      "execution_count": 8,
      "metadata": {
        "jupyter": {
          "source_hidden": false,
          "outputs_hidden": false
        },
        "nteract": {
          "transient": {
            "deleting": false
          }
        }
      }
    },
    {
      "cell_type": "code",
      "source": [
        "# 3.5) Now you can run queries against the auto-generated \"lake database\" with the ingested Moodle data.\r\n",
        "#df = spark.sql(\"select * from ldb_sam_s2i_moodle_v0p1.course\")\r\n",
        "df = spark.sql(\"select * from ldb_dev_s2i_moodle_v0p1.course\")\r\n",
        "display(df.limit(10))"
      ],
      "outputs": [],
      "execution_count": 9,
      "metadata": {
        "jupyter": {
          "source_hidden": false,
          "outputs_hidden": false
        },
        "nteract": {
          "transient": {
            "deleting": false
          }
        },
        "collapsed": false
      }
    },
    {
      "cell_type": "markdown",
      "source": [
        "## 4.) Refine the Moodle Module Test Data\r\n",
        "\r\n",
        "Directory: ```stage2/Ingested/moodle -> stage2/Refined/moodle```\r\n",
        "\r\n",
        "This step then refines the Moodle test data from stage2/Ingested to stage2/Refined, using the metadata.csv. This step is responsible for pseudonymization, which preserves sensitive student information by either hashing or masking the sensitive columns. \r\n",
        "\r\n",
        "Tables are separated into either ```stage2/Refined/moodle/v0.1/general``` or ```stage2/Refined/moodle/v0.1/sensitive```, depending on whether each table is pseudonymized or has a sensitive column-hashing/masking mapping, respectively.\r\n"
      ],
      "metadata": {
        "nteract": {
          "transient": {
            "deleting": false
          }
        }
      }
    },
    {
      "cell_type": "code",
      "source": [
        "def refine_moodle(entity_path, metadata=None, primary_key='id'):\r\n",
        "    source_path = f'stage2/Ingested/{entity_path}'\r\n",
        "    primary_key = oea.fix_column_name(primary_key) # fix the column name, in case it has a space in it or some other invalid character\r\n",
        "    path_dict = oea.parse_path(source_path)\r\n",
        "    sink_general_path = path_dict['entity_parent_path'].replace('Ingested', 'Refined') + '/general/' + path_dict['entity']\r\n",
        "    sink_sensitive_path = path_dict['entity_parent_path'].replace('Ingested', 'Refined') + '/sensitive/' + path_dict['entity'] + '_lookup'\r\n",
        "    if not metadata:\r\n",
        "        all_metadata = oea.get_metadata_from_path(path_dict['entity_parent_path'])\r\n",
        "        metadata = all_metadata[path_dict['entity']]\r\n",
        "\r\n",
        "    df_changes = oea.get_latest_changes(source_path, sink_general_path)\r\n",
        "    spark_schema = oea.to_spark_schema(metadata)\r\n",
        "    df_changes = oea.modify_schema(df_changes, spark_schema)        \r\n",
        "\r\n",
        "    if df_changes.count() > 0:\r\n",
        "        df_pseudo, df_lookup = oea.pseudonymize(df_changes, metadata)\r\n",
        "        oea.upsert(df_pseudo, sink_general_path, primary_key) # todo: remove this assumption that the primary key will always be hashed during pseduonymization\r\n",
        "        oea.upsert(df_lookup, sink_sensitive_path, primary_key)    \r\n",
        "        oea.add_to_lake_db(sink_general_path)\r\n",
        "        oea.add_to_lake_db(sink_sensitive_path)\r\n",
        "        logger.info(f'Processed {df_changes.count()} updated rows from {source_path} into stage2/Refined')\r\n",
        "    else:\r\n",
        "        logger.info(f'No updated rows in {source_path} to process.')\r\n",
        "    return df_changes.count()"
      ],
      "outputs": [
        {
          "output_type": "display_data",
          "data": {
            "application/vnd.livy.statement-meta+json": {
              "spark_pool": "spark3p2sm",
              "session_id": "3",
              "statement_id": 11,
              "state": "finished",
              "livy_statement_state": "available",
              "queued_time": "2023-04-28T00:22:19.5147985Z",
              "session_start_time": null,
              "execution_start_time": "2023-04-28T00:22:19.7041982Z",
              "execution_finish_time": "2023-04-28T00:22:19.8919018Z",
              "spark_jobs": null,
              "parent_msg_id": "d7b053cb-4516-4231-8307-9f9a94f96547"
            },
            "text/plain": "StatementMeta(spark3p2sm, 3, 11, Finished, Available)"
          },
          "metadata": {}
        }
      ],
      "execution_count": 10,
      "metadata": {
        "jupyter": {
          "source_hidden": false,
          "outputs_hidden": false
        },
        "nteract": {
          "transient": {
            "deleting": false
          }
        }
      }
    },
    {
      "cell_type": "code",
      "source": [
        "# 4) this step refines the data through the use of metadata (this is where the pseudonymization of the data occurs).\r\n",
        "def refine_moodle_dataset(tables_source):\r\n",
        "    items = oea.get_folders(tables_source)\r\n",
        "    for item in items: \r\n",
        "        table_path = tables_source +'/'+ item\r\n",
        "        if item == 'metadata.csv':\r\n",
        "            logger.info('ignore metadata processing, since this is not a table to be ingested')\r\n",
        "        else:\r\n",
        "            try:\r\n",
        "                if item == 'assign':\r\n",
        "                    refine_moodle('moodle/v0.1/assign', metadata[item], 'id_pseudonym')\r\n",
        "                elif item == 'user':\r\n",
        "                    refine_moodle('moodle/v0.1/user', metadata[item], 'id_pseudonym')\r\n",
        "                else:\r\n",
        "                    refine_moodle('moodle/v0.1/' + item, metadata[item], 'id')\r\n",
        "            except AnalysisException as e:\r\n",
        "                # This means the table may have not been properly refined due to errors with the primary key not aligning with columns expected in the lookup table.\r\n",
        "                pass\r\n",
        "            \r\n",
        "            logger.info('Refined table: ' + item + ' from: ' + table_path)\r\n",
        "    logger.info('Finished refining Moodle tables')"
      ],
      "outputs": [
        {
          "output_type": "display_data",
          "data": {
            "application/vnd.livy.statement-meta+json": {
              "spark_pool": "spark3p2sm",
              "session_id": "3",
              "statement_id": 12,
              "state": "finished",
              "livy_statement_state": "available",
              "queued_time": "2023-04-28T00:22:27.6576266Z",
              "session_start_time": null,
              "execution_start_time": "2023-04-28T00:22:27.8082693Z",
              "execution_finish_time": "2023-04-28T00:22:27.9689851Z",
              "spark_jobs": null,
              "parent_msg_id": "5f63fab3-a946-40e0-84f3-754d26500ead"
            },
            "text/plain": "StatementMeta(spark3p2sm, 3, 12, Finished, Available)"
          },
          "metadata": {}
        }
      ],
      "execution_count": 11,
      "metadata": {
        "jupyter": {
          "source_hidden": false,
          "outputs_hidden": false
        },
        "nteract": {
          "transient": {
            "deleting": false
          }
        }
      }
    },
    {
      "cell_type": "code",
      "source": [
        "# NOTE: RUN THIS CODEBLOCK\r\n",
        "metadata = oea.get_metadata_from_url('https://raw.githubusercontent.com/cstohlmann/oea-moodle-module/main/test_data/metadata.csv')\r\n",
        "refine_moodle_dataset('stage2/Ingested/moodle/v0.1')\r\n",
        "#refine_moodle('moodle/v0.1/assign', metadata['assign'], 'id')\r\n",
        "#oea.refine('moodle/v0.1/assign_grades', metadata['assign_grades'], 'id')\r\n",
        "#oea.refine('moodle/v0.1/assign_submission', metadata['assign_submission'], 'id')\r\n",
        "#oea.refine('moodle/v0.1/assign_user_mapping', metadata['assign_user_mapping'], 'id')\r\n",
        "#oea.refine('moodle/v0.1/assignsubmission_file', metadata['assignsubmission_file'], 'id')\r\n",
        "#oea.refine('moodle/v0.1/cohort', metadata['cohort'], 'id')\r\n",
        "#oea.refine('moodle/v0.1/course', metadata['course'], 'id')\r\n",
        "#oea.refine('moodle/v0.1/course_categories', metadata['course_categories'], 'id')\r\n",
        "#oea.refine('moodle/v0.1/enrol', metadata['enrol'], 'id')\r\n",
        "#oea.refine('moodle/v0.1/forum', metadata['forum'], 'id')\r\n",
        "#oea.refine('moodle/v0.1/forum_discussions', metadata['forum_discussions'], 'id')\r\n",
        "#oea.refine('moodle/v0.1/forum_grades', metadata['forum_grades'], 'id')\r\n",
        "#oea.refine('moodle/v0.1/forum_posts', metadata['forum_posts'], 'id')\r\n",
        "#oea.refine('moodle/v0.1/lesson', metadata['lesson'], 'id')\r\n",
        "#oea.refine('moodle/v0.1/lesson_answers', metadata['lesson_answers'], 'id')\r\n",
        "#oea.refine('moodle/v0.1/lesson_attempts', metadata['lesson_attempts'], 'id')\r\n",
        "#oea.refine('moodle/v0.1/lesson_grades', metadata['lesson_grades'], 'id')\r\n",
        "#oea.refine('moodle/v0.1/lesson_pages', metadata['lesson_pages'], 'id')\r\n",
        "#oea.refine('moodle/v0.1/lesson_timer', metadata['lesson_timer'], 'id')\r\n",
        "#oea.refine('moodle/v0.1/page', metadata['page'], 'id')\r\n",
        "#oea.refine('moodle/v0.1/quiz', metadata['quiz'], 'id') \r\n",
        "#oea.refine('moodle/v0.1/quiz_attempts', metadata['quiz_attempts'], 'id')\r\n",
        "#oea.refine('moodle/v0.1/quiz_grades', metadata['quiz_grades'], 'id')\r\n",
        "#oea.refine('moodle/v0.1/role', metadata['role'], 'id')\r\n",
        "#oea.refine('moodle/v0.1/role_assignments', metadata['role_assignments'], 'id')\r\n",
        "#oea.refine('moodle/v0.1/user', metadata['user'], 'id')\r\n",
        "#oea.refine('moodle/v0.1/user_enrolments', metadata['user_enrolments'], 'id')"
      ],
      "outputs": [
        {
          "output_type": "display_data",
          "data": {
            "application/vnd.livy.statement-meta+json": {
              "spark_pool": "spark3p2sm",
              "session_id": "3",
              "statement_id": 13,
              "state": "finished",
              "livy_statement_state": "available",
              "queued_time": "2023-04-28T00:23:56.9425394Z",
              "session_start_time": null,
              "execution_start_time": "2023-04-28T00:23:57.1198689Z",
              "execution_finish_time": "2023-04-28T00:25:59.0861086Z",
              "spark_jobs": null,
              "parent_msg_id": "23c6b1e8-ef9a-4cdc-a8b1-c1de4d95b11d"
            },
            "text/plain": "StatementMeta(spark3p2sm, 3, 13, Finished, Available)"
          },
          "metadata": {}
        },
        {
          "output_type": "stream",
          "name": "stdout",
          "text": [
            "2023-04-28 00:24:13,982 - OEA - INFO - Processed 5 updated rows from stage2/Ingested/moodle/v0.1/assign into stage2/Refined\n2023-04-28 00:24:14,352 - OEA - INFO - Refined table: assign from: stage2/Ingested/moodle/v0.1/assign\n2023-04-28 00:24:17,710 - OEA - INFO - Refined table: assign_grades from: stage2/Ingested/moodle/v0.1/assign_grades\n2023-04-28 00:24:21,162 - OEA - INFO - Refined table: assign_submission from: stage2/Ingested/moodle/v0.1/assign_submission\n2023-04-28 00:24:24,345 - OEA - INFO - Refined table: assign_user_mapping from: stage2/Ingested/moodle/v0.1/assign_user_mapping\n2023-04-28 00:24:27,613 - OEA - INFO - Refined table: assignsubmission_file from: stage2/Ingested/moodle/v0.1/assignsubmission_file\n2023-04-28 00:24:30,913 - OEA - INFO - Refined table: cohort from: stage2/Ingested/moodle/v0.1/cohort\n2023-04-28 00:24:35,541 - OEA - INFO - Refined table: course from: stage2/Ingested/moodle/v0.1/course\n2023-04-28 00:24:38,893 - OEA - INFO - Refined table: course_categories from: stage2/Ingested/moodle/v0.1/course_categories\n2023-04-28 00:24:43,298 - OEA - INFO - Refined table: enrol from: stage2/Ingested/moodle/v0.1/enrol\n2023-04-28 00:24:46,932 - OEA - INFO - Refined table: forum from: stage2/Ingested/moodle/v0.1/forum\n2023-04-28 00:24:50,285 - OEA - INFO - Refined table: forum_discussions from: stage2/Ingested/moodle/v0.1/forum_discussions\n2023-04-28 00:24:53,954 - OEA - INFO - Refined table: forum_grades from: stage2/Ingested/moodle/v0.1/forum_grades\n2023-04-28 00:24:57,770 - OEA - INFO - Refined table: forum_posts from: stage2/Ingested/moodle/v0.1/forum_posts\n2023-04-28 00:25:02,308 - OEA - INFO - Refined table: lesson from: stage2/Ingested/moodle/v0.1/lesson\n2023-04-28 00:25:05,932 - OEA - INFO - Refined table: lesson_answers from: stage2/Ingested/moodle/v0.1/lesson_answers\n2023-04-28 00:25:08,843 - OEA - INFO - Refined table: lesson_attempts from: stage2/Ingested/moodle/v0.1/lesson_attempts\n2023-04-28 00:25:14,603 - OEA - INFO - Refined table: lesson_grades from: stage2/Ingested/moodle/v0.1/lesson_grades\n2023-04-28 00:25:17,832 - OEA - INFO - Refined table: lesson_pages from: stage2/Ingested/moodle/v0.1/lesson_pages\n2023-04-28 00:25:21,358 - OEA - INFO - Refined table: lesson_timer from: stage2/Ingested/moodle/v0.1/lesson_timer\n2023-04-28 00:25:24,543 - OEA - INFO - Refined table: page from: stage2/Ingested/moodle/v0.1/page\n2023-04-28 00:25:29,122 - OEA - INFO - Refined table: quiz from: stage2/Ingested/moodle/v0.1/quiz\n2023-04-28 00:25:32,481 - OEA - INFO - Refined table: quiz_attempts from: stage2/Ingested/moodle/v0.1/quiz_attempts\n2023-04-28 00:25:37,181 - OEA - INFO - Refined table: quiz_grades from: stage2/Ingested/moodle/v0.1/quiz_grades\n2023-04-28 00:25:40,032 - OEA - INFO - Refined table: role from: stage2/Ingested/moodle/v0.1/role\n2023-04-28 00:25:43,073 - OEA - INFO - Refined table: role_assignments from: stage2/Ingested/moodle/v0.1/role_assignments\n2023-04-28 00:25:54,970 - OEA - INFO - Processed 600 updated rows from stage2/Ingested/moodle/v0.1/user into stage2/Refined\n2023-04-28 00:25:55,289 - OEA - INFO - Refined table: user from: stage2/Ingested/moodle/v0.1/user\n2023-04-28 00:25:58,746 - OEA - INFO - Refined table: user_enrolments from: stage2/Ingested/moodle/v0.1/user_enrolments\n2023-04-28 00:25:58,746 - OEA - INFO - Finished refining Moodle tables\n"
          ]
        }
      ],
      "execution_count": 12,
      "metadata": {
        "jupyter": {
          "source_hidden": false,
          "outputs_hidden": false
        },
        "nteract": {
          "transient": {
            "deleting": false
          }
        }
      }
    },
    {
      "cell_type": "code",
      "source": [
        "#metadata = oea.get_metadata_from_url('https://raw.githubusercontent.com/microsoft/OpenEduAnalytics/main/modules/module_catalog/Moodle/test_data/metadata.csv')\r\n",
        "metadata = oea.get_metadata_from_url('https://raw.githubusercontent.com/cstohlmann/oea-moodle-module/main/test_data/metadata.csv')\r\n",
        "refine_moodle_dataset('stage2/Ingested/moodle/v0.1')"
      ],
      "outputs": [
        {
          "output_type": "display_data",
          "data": {
            "application/vnd.livy.statement-meta+json": {
              "spark_pool": "spark3p2sm",
              "session_id": "3",
              "statement_id": 7,
              "state": "finished",
              "livy_statement_state": "available",
              "queued_time": "2023-04-28T00:06:03.8041231Z",
              "session_start_time": null,
              "execution_start_time": "2023-04-28T00:06:03.95634Z",
              "execution_finish_time": "2023-04-28T00:06:40.1768907Z",
              "spark_jobs": null,
              "parent_msg_id": "92c70dd5-7fbc-4bec-a51d-eff3f89f950a"
            },
            "text/plain": "StatementMeta(spark3p2sm, 3, 7, Finished, Available)"
          },
          "metadata": {}
        },
        {
          "output_type": "stream",
          "name": "stdout",
          "text": [
            "2023-04-28 00:06:08,496 - OEA - INFO - Refined table: assign from: stage2/Ingested/moodle/v0.1/assign\n2023-04-28 00:06:09,612 - OEA - INFO - Refined table: assign_grades from: stage2/Ingested/moodle/v0.1/assign_grades\n2023-04-28 00:06:10,624 - OEA - INFO - Refined table: assign_submission from: stage2/Ingested/moodle/v0.1/assign_submission\n2023-04-28 00:06:11,586 - OEA - INFO - Refined table: assign_user_mapping from: stage2/Ingested/moodle/v0.1/assign_user_mapping\n2023-04-28 00:06:12,387 - OEA - INFO - Refined table: assignsubmission_file from: stage2/Ingested/moodle/v0.1/assignsubmission_file\n2023-04-28 00:06:13,328 - OEA - INFO - Refined table: cohort from: stage2/Ingested/moodle/v0.1/cohort\n2023-04-28 00:06:15,521 - OEA - INFO - Refined table: course from: stage2/Ingested/moodle/v0.1/course\n2023-04-28 00:06:16,518 - OEA - INFO - Refined table: course_categories from: stage2/Ingested/moodle/v0.1/course_categories\n2023-04-28 00:06:18,311 - OEA - INFO - Refined table: enrol from: stage2/Ingested/moodle/v0.1/enrol\n2023-04-28 00:06:19,787 - OEA - INFO - Refined table: forum from: stage2/Ingested/moodle/v0.1/forum\n2023-04-28 00:06:20,782 - OEA - INFO - Refined table: forum_discussions from: stage2/Ingested/moodle/v0.1/forum_discussions\n2023-04-28 00:06:21,629 - OEA - INFO - Refined table: forum_grades from: stage2/Ingested/moodle/v0.1/forum_grades\n2023-04-28 00:06:22,946 - OEA - INFO - Refined table: forum_posts from: stage2/Ingested/moodle/v0.1/forum_posts\n2023-04-28 00:06:25,107 - OEA - INFO - Refined table: lesson from: stage2/Ingested/moodle/v0.1/lesson\n2023-04-28 00:06:26,100 - OEA - INFO - Refined table: lesson_answers from: stage2/Ingested/moodle/v0.1/lesson_answers\n2023-04-28 00:06:26,992 - OEA - INFO - Refined table: lesson_attempts from: stage2/Ingested/moodle/v0.1/lesson_attempts\n2023-04-28 00:06:27,802 - OEA - INFO - Refined table: lesson_grades from: stage2/Ingested/moodle/v0.1/lesson_grades\n2023-04-28 00:06:28,751 - OEA - INFO - Refined table: lesson_pages from: stage2/Ingested/moodle/v0.1/lesson_pages\n2023-04-28 00:06:29,551 - OEA - INFO - Refined table: lesson_timer from: stage2/Ingested/moodle/v0.1/lesson_timer\n2023-04-28 00:06:30,746 - OEA - INFO - Refined table: page from: stage2/Ingested/moodle/v0.1/page\n2023-04-28 00:06:32,672 - OEA - INFO - Refined table: quiz from: stage2/Ingested/moodle/v0.1/quiz\n2023-04-28 00:06:33,721 - OEA - INFO - Refined table: quiz_attempts from: stage2/Ingested/moodle/v0.1/quiz_attempts\n2023-04-28 00:06:34,563 - OEA - INFO - Refined table: quiz_grades from: stage2/Ingested/moodle/v0.1/quiz_grades\n2023-04-28 00:06:35,336 - OEA - INFO - Refined table: role from: stage2/Ingested/moodle/v0.1/role\n2023-04-28 00:06:36,206 - OEA - INFO - Refined table: role_assignments from: stage2/Ingested/moodle/v0.1/role_assignments\n2023-04-28 00:06:39,041 - OEA - INFO - Refined table: user from: stage2/Ingested/moodle/v0.1/user\n2023-04-28 00:06:40,024 - OEA - INFO - Refined table: user_enrolments from: stage2/Ingested/moodle/v0.1/user_enrolments\n2023-04-28 00:06:40,024 - OEA - INFO - Finished refining Moodle tables\n"
          ]
        }
      ],
      "execution_count": 6,
      "metadata": {
        "jupyter": {
          "source_hidden": false,
          "outputs_hidden": false
        },
        "nteract": {
          "transient": {
            "deleting": false
          }
        }
      }
    },
    {
      "cell_type": "code",
      "source": [
        "# This block represents what the blocks above (in this step) accomplish\r\n",
        "#metadata = oea.get_metadata_from_url('https://raw.githubusercontent.com/microsoft/OpenEduAnalytics/main/modules/module_catalog/Moodle/test_data/metadata.csv')\r\n",
        "\r\n",
        "#oea.refine('moodle/v0.1/assign', metadata['assign'], 'id_pseudonym')\r\n",
        "#oea.refine('moodle/v0.1/assign_grades', metadata['assign_grades'], 'id')\r\n",
        "#oea.refine('moodle/v0.1/assign_submission', metadata['assign_submission'], 'id')\r\n",
        "#oea.refine('moodle/v0.1/assign_user_mapping', metadata['assign_user_mapping'], 'id')\r\n",
        "#oea.refine('moodle/v0.1/assignsubmission_file', metadata['assignsubmission_file'], 'id')\r\n",
        "#oea.refine('moodle/v0.1/context', metadata['context'], 'id')\r\n",
        "#oea.refine('moodle/v0.1/course', metadata['course'], 'id')\r\n",
        "#oea.refine('moodle/v0.1/course_categories', metadata['course_categories'], 'id')\r\n",
        "#oea.refine('moodle/v0.1/enrol', metadata['enrol'], 'id')\r\n",
        "#oea.refine('moodle/v0.1/forum', metadata['forum'], 'id')\r\n",
        "#oea.refine('moodle/v0.1/forum_discussions', metadata['forum_discussions'], 'id')\r\n",
        "#oea.refine('moodle/v0.1/forum_grades', metadata['forum_grades'], 'id')\r\n",
        "#oea.refine('moodle/v0.1/lesson', metadata['lesson'], 'id')\r\n",
        "#oea.refine('moodle/v0.1/lesson_answers', metadata['lesson_answers'], 'id')\r\n",
        "#oea.refine('moodle/v0.1/lesson_attempts', metadata['lesson_attempts'], 'id')\r\n",
        "#oea.refine('moodle/v0.1/lesson_grades', metadata['lesson_grades'], 'id')\r\n",
        "#oea.refine('moodle/v0.1/messages', metadata['messages'], 'id')\r\n",
        "#oea.refine('moodle/v0.1/message_conversations', metadata['message_conversations'], 'id')\r\n",
        "#oea.refine('moodle/v0.1/message_conversation_members', metadata['message_conversation_members'], 'id')\r\n",
        "#oea.refine('moodle/v0.1/quiz', metadata['quiz'], 'id') \r\n",
        "#oea.refine('moodle/v0.1/quiz_attempts', metadata['quiz_attempts'], 'id')\r\n",
        "#oea.refine('moodle/v0.1/quiz_grades', metadata['quiz_grades'], 'id')\r\n",
        "#oea.refine('moodle/v0.1/role', metadata['role'], 'id')\r\n",
        "#oea.refine('moodle/v0.1/role_assignments', metadata['role_assignments'], 'id')\r\n",
        "#oea.refine('moodle/v0.1/user', metadata['user'], 'id_pseudonym')\r\n",
        "#oea.refine('moodle/v0.1/user_enrolments', metadata['user_enrolments'], 'id')\r\n"
      ],
      "outputs": [],
      "execution_count": 12,
      "metadata": {
        "jupyter": {
          "source_hidden": false,
          "outputs_hidden": false
        },
        "nteract": {
          "transient": {
            "deleting": false
          }
        },
        "collapsed": false
      }
    },
    {
      "cell_type": "markdown",
      "source": [
        "## 5.) Demonstrate Lake Database Queries/Final Remarks"
      ],
      "metadata": {
        "nteract": {
          "transient": {
            "deleting": false
          }
        }
      }
    },
    {
      "cell_type": "code",
      "source": [
        "oea.add_to_lake_db('stage2/Refined/moodle/v0.1/general/assign')"
      ],
      "outputs": [],
      "execution_count": 13,
      "metadata": {
        "jupyter": {
          "source_hidden": false,
          "outputs_hidden": false
        },
        "nteract": {
          "transient": {
            "deleting": false
          }
        }
      }
    },
    {
      "cell_type": "code",
      "source": [
        "oea.add_to_lake_db('stage2/Refined/moodle/v0.1/general/course')"
      ],
      "outputs": [],
      "execution_count": 14,
      "metadata": {
        "jupyter": {
          "source_hidden": false,
          "outputs_hidden": false
        },
        "nteract": {
          "transient": {
            "deleting": false
          }
        }
      }
    },
    {
      "cell_type": "code",
      "source": [
        "# 5) Now you can query the refined data tables in the lake db\r\n",
        "#df = spark.sql(\"select * from ldb_sam_s2r_moodle_v0p1.assign\")\r\n",
        "df = spark.sql(\"select * from ldb_dev_s2r_moodle_v0p1.assign\")\r\n",
        "display(df)\r\n",
        "df.printSchema()\r\n",
        "#df = spark.sql(\"select * from ldb_sam_s2r_moodle_v0p1.course\")\r\n",
        "df = spark.sql(\"select * from ldb_dev_s2r_moodle_v0p1.course\")\r\n",
        "display(df)\r\n",
        "df.printSchema()\r\n",
        "# You can use the \"lookup\" table for joins (people with restricted access won't be able to perform this query because they won't have access to data in the \"sensitive\" folder in the data lake)\r\n",
        "#df = spark.sql(\"select c.fullname, c.id, a.id_pseudonym, a.name, a.nosubmissions, a.maxattempts, a.grade from ldb_sam_s2r_moodle_v0p1.course c, ldb_sam_s2r_moodle_v0p1.assign a where c.id = a.course\")\r\n",
        "df = spark.sql(\"select c.fullname, c.id, a.id_pseudonym, a.name, a.nosubmissions, a.maxattempts, a.grade from ldb_dev_s2r_moodle_v0p1.course c, ldb_dev_s2r_moodle_v0p1.assign a where c.id = a.course\")\r\n",
        "display(df)"
      ],
      "outputs": [],
      "execution_count": 15,
      "metadata": {
        "jupyter": {
          "source_hidden": false,
          "outputs_hidden": false
        },
        "nteract": {
          "transient": {
            "deleting": false
          }
        },
        "collapsed": false
      }
    },
    {
      "cell_type": "code",
      "source": [
        "# Run this cell to reset this example (deleting all the example Moodle data in your workspace)\r\n",
        "oea.rm_if_exists('stage1/Transactional/moodle')\r\n",
        "oea.rm_if_exists('stage2/Ingested/moodle')\r\n",
        "oea.rm_if_exists('stage2/Refined/moodle')\r\n",
        "oea.drop_lake_db('ldb_sam_s2i_moodle_v0p1')\r\n",
        "oea.drop_lake_db('ldb_sam_s2r_moodle_v0p1')"
      ],
      "outputs": [],
      "execution_count": 19,
      "metadata": {
        "jupyter": {
          "source_hidden": false,
          "outputs_hidden": false
        },
        "nteract": {
          "transient": {
            "deleting": false
          }
        }
      }
    },
    {
      "cell_type": "markdown",
      "source": [
        "## Appendix"
      ],
      "metadata": {
        "nteract": {
          "transient": {
            "deleting": false
          }
        }
      }
    },
    {
      "cell_type": "code",
      "source": [
        "# generate an initial metadata file for manual modification\r\n",
        "metadata = oea.create_metadata_from_lake_db('ldb_sam_s2i_moodle_v0p1')\r\n",
        "dlw = DataLakeWriter(oea.to_url('stage1/Transactional/moodle'))\r\n",
        "dlw.write('metadata.csv', metadata)"
      ],
      "outputs": [],
      "execution_count": null,
      "metadata": {
        "jupyter": {
          "source_hidden": false,
          "outputs_hidden": false
        },
        "nteract": {
          "transient": {
            "deleting": false
          }
        }
      }
    },
    {
      "cell_type": "code",
      "source": [
        "# Create a sql db for the ingested Moodle data\r\n",
        "oea.create_sql_db('stage2/Ingested/moodle')"
      ],
      "outputs": [],
      "execution_count": null,
      "metadata": {
        "jupyter": {
          "source_hidden": false,
          "outputs_hidden": false
        },
        "nteract": {
          "transient": {
            "deleting": false
          }
        }
      }
    },
    {
      "cell_type": "code",
      "source": [
        "oea.create_sql_db('stage2/Refined/moodle')"
      ],
      "outputs": [],
      "execution_count": 16,
      "metadata": {
        "jupyter": {
          "source_hidden": false,
          "outputs_hidden": false
        },
        "nteract": {
          "transient": {
            "deleting": false
          }
        }
      }
    }
  ],
  "metadata": {
    "kernelspec": {
      "name": "synapse_pyspark",
      "language": "Python",
      "display_name": "Synapse PySpark"
    },
    "language_info": {
      "name": "python"
    },
    "kernel_info": {
      "name": "synapse_pyspark"
    },
    "description": null,
    "save_output": true,
    "synapse_widget": {
      "version": "0.1",
      "state": {}
    }
  },
  "nbformat": 4,
  "nbformat_minor": 2
}