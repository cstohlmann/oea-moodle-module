{
  "cells": [
    {
      "cell_type": "markdown",
      "source": [
        "# Test for processing Moodle data\r\n",
        "\r\n",
        "This notebook demonstrates possible data processing and exploration of the Moodle data, using the OEA_py class notebook. \r\n",
        "\r\n",
        "Most of the data processing done in this notebook are also achieved by executing the Moodle module main pipeline. This notebook is designed as an alternate approach to the same processing, as well as module data exploration and visualization. \r\n",
        "\r\n",
        "The steps are clearly outlined below:\r\n",
        "1. Set the workspace,\r\n",
        "2. Land Moodle Module Higher Ed. Test Data,\r\n",
        "3. Ingest the Moodle Module Test Data,\r\n",
        "4. Refine the Moodle Module Test Data, \r\n",
        "5. Demonstrate Lake Database Queries/Final Remarks, and\r\n",
        "6. Appendix"
      ],
      "metadata": {
        "nteract": {
          "transient": {
            "deleting": false
          }
        }
      }
    },
    {
      "cell_type": "code",
      "source": [
        "%run OEA_py"
      ],
      "outputs": [
        {
          "output_type": "display_data",
          "data": {
            "application/vnd.livy.statement-meta+json": {
              "spark_pool": null,
              "session_id": "4",
              "statement_id": -1,
              "state": "finished",
              "livy_statement_state": "available",
              "queued_time": "2023-05-02T15:36:15.5276013Z",
              "session_start_time": null,
              "execution_start_time": "2023-05-02T15:40:17.4571126Z",
              "execution_finish_time": "2023-05-02T15:40:17.457311Z",
              "spark_jobs": null,
              "parent_msg_id": "8f9644eb-04fa-47cb-9b7f-5eb821d8d2f4"
            },
            "text/plain": "StatementMeta(, 4, -1, Finished, Available)"
          },
          "metadata": {}
        },
        {
          "output_type": "stream",
          "name": "stdout",
          "text": [
            "2023-05-02 15:40:16,802 - OEA - INFO - Now using workspace: dev\n2023-05-02 15:40:16,804 - OEA - INFO - OEA initialized.\n"
          ]
        }
      ],
      "execution_count": 1,
      "metadata": {
        "jupyter": {
          "source_hidden": false,
          "outputs_hidden": false
        },
        "nteract": {
          "transient": {
            "deleting": false
          }
        }
      }
    },
    {
      "cell_type": "code",
      "source": [
        "# 1) set the workspace (this determines where in the data lake you'll be writing to and reading from).\r\n",
        "# You can work in 'dev', 'prod', or a sandbox with any name you choose.\r\n",
        "# For example, Sam the developer can create a 'sam' workspace and expect to find his datasets in the data lake under oea/sandboxes/sam\r\n",
        "oea.set_workspace('dev')"
      ],
      "outputs": [
        {
          "output_type": "display_data",
          "data": {
            "application/vnd.livy.statement-meta+json": {
              "spark_pool": "spark3p2sm",
              "session_id": "4",
              "statement_id": 3,
              "state": "finished",
              "livy_statement_state": "available",
              "queued_time": "2023-05-02T15:36:21.4629384Z",
              "session_start_time": null,
              "execution_start_time": "2023-05-02T15:40:17.5950848Z",
              "execution_finish_time": "2023-05-02T15:40:17.7568553Z",
              "spark_jobs": null,
              "parent_msg_id": "5e701a93-efa6-48e9-be7a-f35a899de8df"
            },
            "text/plain": "StatementMeta(spark3p2sm, 4, 3, Finished, Available)"
          },
          "metadata": {}
        },
        {
          "output_type": "stream",
          "name": "stdout",
          "text": [
            "2023-05-02 15:40:17,561 - OEA - INFO - Now using workspace: dev\n"
          ]
        }
      ],
      "execution_count": 2,
      "metadata": {
        "jupyter": {
          "source_hidden": false,
          "outputs_hidden": false
        },
        "nteract": {
          "transient": {
            "deleting": false
          }
        }
      }
    },
    {
      "cell_type": "markdown",
      "source": [
        "## 2.) Land Moodle Module Higher Ed. Test Data\r\n",
        "\r\n",
        "Directory: ```GitHub.com (raw data) -> stage1/Transactional/moodle```\r\n",
        "\r\n",
        "The code block below lands 27 OEA Moodle module test data tables, formatted as Moodle Higher Ed. data in your data lake. \r\n",
        "\r\n",
        "Moodle test data tables landed in stage 1:\r\n",
        " 1. **assign**\r\n",
        " 2. **assign_grades**\r\n",
        " 3. **assign_submission**\r\n",
        " 4. **assignsubmission_file**\r\n",
        " 5. **assign_user_mapping**\r\n",
        " 6. **cohort**\r\n",
        " 7. **course**\r\n",
        " 8. **course_categories**\r\n",
        " 9. **enrol**\r\n",
        " 10. **forum**\r\n",
        " 11. **forum_discussions**\r\n",
        " 12. **forum_posts** \r\n",
        " 13. **forum_grades**\r\n",
        " 14. **lesson**\r\n",
        " 15. **lesson_answers**\r\n",
        " 16. **lesson_attempts**\r\n",
        " 17. **lesson_grades**\r\n",
        " 18. **lesson_pages** \r\n",
        " 19. **lesson_timer** \r\n",
        " 20. **page** \r\n",
        " 21. **quiz**\r\n",
        " 22. **quiz_attempts**\r\n",
        " 23. **quiz_grades**\r\n",
        " 24. **role**\r\n",
        " 25. **role_assignments**\r\n",
        " 26. **user** \r\n",
        " 27. **user_enrolments**\r\n",
        "\r\n",
        "**To-Do's:**\r\n",
        " - Correct the test dataset as needed\r\n",
        " - Remove top codeblock for when launching on OEA."
      ],
      "metadata": {
        "nteract": {
          "transient": {
            "deleting": false
          }
        }
      }
    },
    {
      "cell_type": "code",
      "source": [
        "# NOTE: RUN THIS CODE BLOCK (do not run the block below this one - this is for dev, and the other is for when launched on OEA).\r\n",
        "# In this example we pull Moodle HEd test csv data files from github and land it in oea/sandboxes/sam/stage1/Transactional/moodle/v4.1\r\n",
        "data = requests.get('https://raw.githubusercontent.com/cstohlmann/oea-moodle-module/main/test_data/hed_test_data/cohort.csv').text\r\n",
        "oea.land(data, 'moodle/v4.1/cohort', 'cohort_hed_test_data.csv', oea.SNAPSHOT_BATCH_DATA)\r\n",
        "data = requests.get('https://raw.githubusercontent.com/cstohlmann/oea-moodle-module/main/test_data/hed_test_data/course.csv').text\r\n",
        "oea.land(data, 'moodle/v4.1/course', 'course_hed_test_data.csv', oea.SNAPSHOT_BATCH_DATA)\r\n",
        "data = requests.get('https://raw.githubusercontent.com/cstohlmann/oea-moodle-module/main/test_data/hed_test_data/course_categories.csv').text\r\n",
        "oea.land(data, 'moodle/v4.1/course_categories', 'coursecategories_hed_test_data.csv', oea.SNAPSHOT_BATCH_DATA)\r\n",
        "data = requests.get('https://raw.githubusercontent.com/cstohlmann/oea-moodle-module/main/test_data/hed_test_data/enrol.csv').text\r\n",
        "oea.land(data, 'moodle/v4.1/enrol', 'enrol_hed_test_data.csv', oea.SNAPSHOT_BATCH_DATA)\r\n",
        "data = requests.get('https://raw.githubusercontent.com/cstohlmann/oea-moodle-module/main/test_data/hed_test_data/role.csv').text\r\n",
        "oea.land(data, 'moodle/v4.1/role', 'role_hed_test_data.csv', oea.SNAPSHOT_BATCH_DATA)\r\n",
        "data = requests.get('https://raw.githubusercontent.com/cstohlmann/oea-moodle-module/main/test_data/hed_test_data/role_assignments.csv').text\r\n",
        "oea.land(data, 'moodle/v4.1/role_assignments', 'roleassignments_hed_test_data.csv', oea.SNAPSHOT_BATCH_DATA)\r\n",
        "data = requests.get('https://raw.githubusercontent.com/cstohlmann/oea-moodle-module/main/test_data/hed_test_data/user.csv').text\r\n",
        "oea.land(data, 'moodle/v4.1/user', 'user_hed_test_data.csv', oea.SNAPSHOT_BATCH_DATA)\r\n",
        "\r\n",
        "data = requests.get('https://raw.githubusercontent.com/cstohlmann/oea-moodle-module/main/test_data/hed_test_data/page.csv').text\r\n",
        "oea.land(data, 'moodle/v4.1/page', 'page_hed_test_data.csv', oea.DELTA_BATCH_DATA)\r\n",
        "data = requests.get('https://raw.githubusercontent.com/cstohlmann/oea-moodle-module/main/test_data/hed_test_data/user_enrolments.csv').text\r\n",
        "oea.land(data, 'moodle/v4.1/user_enrolments', 'userenrolments_hed_test_data.csv', oea.DELTA_BATCH_DATA)\r\n",
        "\r\n",
        "data = requests.get('https://raw.githubusercontent.com/cstohlmann/oea-moodle-module/main/test_data/hed_test_data/assign.csv').text\r\n",
        "oea.land(data, 'moodle/v4.1/assign', 'assign_hed_test_data.csv', oea.ADDITIVE_BATCH_DATA)\r\n",
        "data = requests.get('https://raw.githubusercontent.com/cstohlmann/oea-moodle-module/main/test_data/hed_test_data/assign_grades.csv').text\r\n",
        "oea.land(data, 'moodle/v4.1/assign_grades', 'assigngrades_hed_test_data.csv', oea.ADDITIVE_BATCH_DATA)\r\n",
        "data = requests.get('https://raw.githubusercontent.com/cstohlmann/oea-moodle-module/main/test_data/hed_test_data/assign_submission.csv').text\r\n",
        "oea.land(data, 'moodle/v4.1/assign_submission', 'assignsubmission_hed_test_data.csv', oea.ADDITIVE_BATCH_DATA)\r\n",
        "data = requests.get('https://raw.githubusercontent.com/cstohlmann/oea-moodle-module/main/test_data/hed_test_data/assignsubmission_file.csv').text\r\n",
        "oea.land(data, 'moodle/v4.1/assignsubmission_file', 'assignsubmissionfile_hed_test_data.csv', oea.ADDITIVE_BATCH_DATA)\r\n",
        "data = requests.get('https://raw.githubusercontent.com/cstohlmann/oea-moodle-module/main/test_data/hed_test_data/assign_user_mapping.csv').text\r\n",
        "oea.land(data, 'moodle/v4.1/assign_user_mapping', 'assignusermapping_hed_test_data.csv', oea.ADDITIVE_BATCH_DATA)\r\n",
        "data = requests.get('https://raw.githubusercontent.com/cstohlmann/oea-moodle-module/main/test_data/hed_test_data/forum.csv').text\r\n",
        "oea.land(data, 'moodle/v4.1/forum', 'forum_hed_test_data.csv', oea.ADDITIVE_BATCH_DATA)\r\n",
        "data = requests.get('https://raw.githubusercontent.com/cstohlmann/oea-moodle-module/main/test_data/hed_test_data/forum_discussions.csv').text\r\n",
        "oea.land(data, 'moodle/v4.1/forum_discussions', 'forumdiscussions_hed_test_data.csv', oea.ADDITIVE_BATCH_DATA)\r\n",
        "data = requests.get('https://raw.githubusercontent.com/cstohlmann/oea-moodle-module/main/test_data/hed_test_data/forum_grades.csv').text\r\n",
        "oea.land(data, 'moodle/v4.1/forum_grades', 'forumgrades_hed_test_data.csv', oea.ADDITIVE_BATCH_DATA)\r\n",
        "data = requests.get('https://raw.githubusercontent.com/cstohlmann/oea-moodle-module/main/test_data/hed_test_data/forum_posts.csv').text\r\n",
        "oea.land(data, 'moodle/v4.1/forum_posts', 'forumposts_hed_test_data.csv', oea.ADDITIVE_BATCH_DATA)\r\n",
        "data = requests.get('https://raw.githubusercontent.com/cstohlmann/oea-moodle-module/main/test_data/hed_test_data/lesson.csv').text\r\n",
        "oea.land(data, 'moodle/v4.1/lesson', 'lesson_hed_test_data.csv', oea.ADDITIVE_BATCH_DATA)\r\n",
        "data = requests.get('https://raw.githubusercontent.com/cstohlmann/oea-moodle-module/main/test_data/hed_test_data/lesson_answers.csv').text\r\n",
        "oea.land(data, 'moodle/v4.1/lesson_answers', 'lessonanswers_hed_test_data.csv', oea.ADDITIVE_BATCH_DATA)\r\n",
        "data = requests.get('https://raw.githubusercontent.com/cstohlmann/oea-moodle-module/main/test_data/hed_test_data/lesson_attempts.csv').text\r\n",
        "oea.land(data, 'moodle/v4.1/lesson_attempts', 'lessonattempts_hed_test_data.csv', oea.ADDITIVE_BATCH_DATA)\r\n",
        "data = requests.get('https://raw.githubusercontent.com/cstohlmann/oea-moodle-module/main/test_data/hed_test_data/lesson_grades.csv').text\r\n",
        "oea.land(data, 'moodle/v4.1/lesson_grades', 'lessongrades_hed_test_data.csv', oea.ADDITIVE_BATCH_DATA)\r\n",
        "data = requests.get('https://raw.githubusercontent.com/cstohlmann/oea-moodle-module/main/test_data/hed_test_data/lesson_pages.csv').text\r\n",
        "oea.land(data, 'moodle/v4.1/lesson_pages', 'lessonpages_hed_test_data.csv', oea.ADDITIVE_BATCH_DATA)\r\n",
        "data = requests.get('https://raw.githubusercontent.com/cstohlmann/oea-moodle-module/main/test_data/hed_test_data/lesson_timer.csv').text\r\n",
        "oea.land(data, 'moodle/v4.1/lesson_timer', 'lessontimer_hed_test_data.csv', oea.ADDITIVE_BATCH_DATA)\r\n",
        "data = requests.get('https://raw.githubusercontent.com/cstohlmann/oea-moodle-module/main/test_data/hed_test_data/quiz.csv').text\r\n",
        "oea.land(data, 'moodle/v4.1/quiz', 'quiz_hed_test_data.csv', oea.ADDITIVE_BATCH_DATA)\r\n",
        "data = requests.get('https://raw.githubusercontent.com/cstohlmann/oea-moodle-module/main/test_data/hed_test_data/quiz_attempts.csv').text\r\n",
        "oea.land(data, 'moodle/v4.1/quiz_attempts', 'quizattempts_hed_test_data.csv', oea.ADDITIVE_BATCH_DATA)\r\n",
        "data = requests.get('https://raw.githubusercontent.com/cstohlmann/oea-moodle-module/main/test_data/hed_test_data/quiz_grades.csv').text\r\n",
        "oea.land(data, 'moodle/v4.1/quiz_grades', 'quizgrades_hed_test_data.csv', oea.ADDITIVE_BATCH_DATA)"
      ],
      "outputs": [
        {
          "output_type": "display_data",
          "data": {
            "application/vnd.livy.statement-meta+json": {
              "spark_pool": "spark3p2sm",
              "session_id": "4",
              "statement_id": 4,
              "state": "finished",
              "livy_statement_state": "available",
              "queued_time": "2023-05-02T15:36:45.4225866Z",
              "session_start_time": null,
              "execution_start_time": "2023-05-02T15:40:17.9501372Z",
              "execution_finish_time": "2023-05-02T15:40:30.7029598Z",
              "spark_jobs": null,
              "parent_msg_id": "5e510346-c9fa-4ac5-aef8-85c1cc97064a"
            },
            "text/plain": "StatementMeta(spark3p2sm, 4, 4, Finished, Available)"
          },
          "metadata": {}
        },
        {
          "output_type": "execute_result",
          "execution_count": 9,
          "data": {
            "text/plain": "'stage1/Transactional/moodle/v4.1/quiz_grades/additive_batch_data/rundate=2023-05-02 15:40:29/quizgrades_hed_test_data.csv'"
          },
          "metadata": {}
        }
      ],
      "execution_count": 3,
      "metadata": {
        "jupyter": {
          "source_hidden": false,
          "outputs_hidden": false
        },
        "nteract": {
          "transient": {
            "deleting": false
          }
        }
      }
    },
    {
      "cell_type": "code",
      "source": [
        "# 2.1) Land batch data files into stage1 of the data lake.\r\n",
        "# In this example we pull Moodle HEd test csv data files from github and land it in oea/sandboxes/sam/stage1/Transactional/moodle/v4.1\r\n",
        "data = requests.get('https://raw.githubusercontent.com/microsoft/OpenEduAnalytics/main/modules/module_catalog/Moodle/test_data/hed_test_data/cohort.csv').text\r\n",
        "oea.land(data, 'moodle/v4.1/cohort', 'cohort_hed_test_data.csv', oea.SNAPSHOT_BATCH_DATA)\r\n",
        "data = requests.get('https://raw.githubusercontent.com/microsoft/OpenEduAnalytics/main/modules/module_catalog/Moodle/test_data/hed_test_data/course.csv').text\r\n",
        "oea.land(data, 'moodle/v4.1/course', 'course_hed_test_data.csv', oea.SNAPSHOT_BATCH_DATA)\r\n",
        "data = requests.get('https://raw.githubusercontent.com/microsoft/OpenEduAnalytics/main/modules/module_catalog/Moodle/test_data/hed_test_data/course_categories.csv').text\r\n",
        "oea.land(data, 'moodle/v4.1/course_categories', 'coursecategories_hed_test_data.csv', oea.SNAPSHOT_BATCH_DATA)\r\n",
        "data = requests.get('https://raw.githubusercontent.com/microsoft/OpenEduAnalytics/main/modules/module_catalog/Moodle/test_data/hed_test_data/enrol.csv').text\r\n",
        "oea.land(data, 'moodle/v4.1/enrol', 'enrol_hed_test_data.csv', oea.SNAPSHOT_BATCH_DATA)\r\n",
        "data = requests.get('https://raw.githubusercontent.com/microsoft/OpenEduAnalytics/main/modules/module_catalog/Moodle/test_data/hed_test_data/role.csv').text\r\n",
        "oea.land(data, 'moodle/v4.1/role', 'role_hed_test_data.csv', oea.SNAPSHOT_BATCH_DATA)\r\n",
        "data = requests.get('https://raw.githubusercontent.com/microsoft/OpenEduAnalytics/main/modules/module_catalog/Moodle/test_data/hed_test_data/role_assignments.csv').text\r\n",
        "oea.land(data, 'moodle/v4.1/role_assignments', 'roleassignments_hed_test_data.csv', oea.SNAPSHOT_BATCH_DATA)\r\n",
        "data = requests.get('https://raw.githubusercontent.com/microsoft/OpenEduAnalytics/main/modules/module_catalog/Moodle/test_data/hed_test_data/user.csv').text\r\n",
        "oea.land(data, 'moodle/v4.1/user', 'user_hed_test_data.csv', oea.SNAPSHOT_BATCH_DATA)\r\n",
        "\r\n",
        "data = requests.get('https://raw.githubusercontent.com/microsoft/OpenEduAnalytics/main/modules/module_catalog/Moodle/test_data/hed_test_data/page.csv').text\r\n",
        "oea.land(data, 'moodle/v4.1/page', 'page_hed_test_data.csv', oea.DELTA_BATCH_DATA)\r\n",
        "data = requests.get('https://raw.githubusercontent.com/microsoft/OpenEduAnalytics/main/modules/module_catalog/Moodle/test_data/hed_test_data/user_enrolments.csv').text\r\n",
        "oea.land(data, 'moodle/v4.1/user_enrolments', 'userenrolments_hed_test_data.csv', oea.DELTA_BATCH_DATA)\r\n",
        "\r\n",
        "data = requests.get('https://raw.githubusercontent.com/microsoft/OpenEduAnalytics/main/modules/module_catalog/Moodle/test_data/hed_test_data/assign.csv').text\r\n",
        "oea.land(data, 'moodle/v4.1/assign', 'assign_hed_test_data.csv', oea.ADDITIVE_BATCH_DATA)\r\n",
        "data = requests.get('https://raw.githubusercontent.com/microsoft/OpenEduAnalytics/main/modules/module_catalog/Moodle/test_data/hed_test_data/assign_grades.csv').text\r\n",
        "oea.land(data, 'moodle/v4.1/assign_grades', 'assigngrades_hed_test_data.csv', oea.ADDITIVE_BATCH_DATA)\r\n",
        "data = requests.get('https://raw.githubusercontent.com/microsoft/OpenEduAnalytics/main/modules/module_catalog/Moodle/test_data/hed_test_data/assign_submission.csv').text\r\n",
        "oea.land(data, 'moodle/v4.1/assign_submission', 'assignsubmission_hed_test_data.csv', oea.ADDITIVE_BATCH_DATA)\r\n",
        "data = requests.get('https://raw.githubusercontent.com/microsoft/OpenEduAnalytics/main/modules/module_catalog/Moodle/test_data/hed_test_data/assignsubmission_file.csv').text\r\n",
        "oea.land(data, 'moodle/v4.1/assignsubmission_file', 'assignsubmissionfile_hed_test_data.csv', oea.ADDITIVE_BATCH_DATA)\r\n",
        "data = requests.get('https://raw.githubusercontent.com/microsoft/OpenEduAnalytics/main/modules/module_catalog/Moodle/test_data/hed_test_data/assign_user_mapping.csv').text\r\n",
        "oea.land(data, 'moodle/v4.1/assign_user_mapping', 'assignusermapping_hed_test_data.csv', oea.ADDITIVE_BATCH_DATA)\r\n",
        "data = requests.get('https://raw.githubusercontent.com/microsoft/OpenEduAnalytics/main/modules/module_catalog/Moodle/test_data/hed_test_data/forum.csv').text\r\n",
        "oea.land(data, 'moodle/v4.1/forum', 'forum_hed_test_data.csv', oea.ADDITIVE_BATCH_DATA)\r\n",
        "data = requests.get('https://raw.githubusercontent.com/microsoft/OpenEduAnalytics/main/modules/module_catalog/Moodle/test_data/hed_test_data/forum_discussions.csv').text\r\n",
        "oea.land(data, 'moodle/v4.1/forum_discussions', 'forumdiscussions_hed_test_data.csv', oea.ADDITIVE_BATCH_DATA)\r\n",
        "data = requests.get('https://raw.githubusercontent.com/microsoft/OpenEduAnalytics/main/modules/module_catalog/Moodle/test_data/hed_test_data/forum_grades.csv').text\r\n",
        "oea.land(data, 'moodle/v4.1/forum_grades', 'forumgrades_hed_test_data.csv', oea.ADDITIVE_BATCH_DATA)\r\n",
        "data = requests.get('https://raw.githubusercontent.com/microsoft/OpenEduAnalytics/main/modules/module_catalog/Moodle/test_data/hed_test_data/forum_posts.csv').text\r\n",
        "oea.land(data, 'moodle/v4.1/forum_posts', 'forumposts_hed_test_data.csv', oea.ADDITIVE_BATCH_DATA)\r\n",
        "data = requests.get('https://raw.githubusercontent.com/microsoft/OpenEduAnalytics/main/modules/module_catalog/Moodle/test_data/hed_test_data/lesson.csv').text\r\n",
        "oea.land(data, 'moodle/v4.1/lesson', 'lesson_hed_test_data.csv', oea.ADDITIVE_BATCH_DATA)\r\n",
        "data = requests.get('https://raw.githubusercontent.com/microsoft/OpenEduAnalytics/main/modules/module_catalog/Moodle/test_data/hed_test_data/lesson_answers.csv').text\r\n",
        "oea.land(data, 'moodle/v4.1/lesson_answers', 'lessonanswers_hed_test_data.csv', oea.ADDITIVE_BATCH_DATA)\r\n",
        "data = requests.get('https://raw.githubusercontent.com/microsoft/OpenEduAnalytics/main/modules/module_catalog/Moodle/test_data/hed_test_data/lesson_attempts.csv').text\r\n",
        "oea.land(data, 'moodle/v4.1/lesson_attempts', 'lessonattempts_hed_test_data.csv', oea.ADDITIVE_BATCH_DATA)\r\n",
        "data = requests.get('https://raw.githubusercontent.com/microsoft/OpenEduAnalytics/main/modules/module_catalog/Moodle/test_data/hed_test_data/lesson_grades.csv').text\r\n",
        "oea.land(data, 'moodle/v4.1/lesson_grades', 'lessongrades_hed_test_data.csv', oea.ADDITIVE_BATCH_DATA)\r\n",
        "data = requests.get('https://raw.githubusercontent.com/microsoft/OpenEduAnalytics/main/modules/module_catalog/Moodle/test_data/hed_test_data/lesson_pages.csv').text\r\n",
        "oea.land(data, 'moodle/v4.1/lesson_pages', 'lessonpages_hed_test_data.csv', oea.ADDITIVE_BATCH_DATA)\r\n",
        "data = requests.get('https://raw.githubusercontent.com/microsoft/OpenEduAnalytics/main/modules/module_catalog/Moodle/test_data/hed_test_data/lesson_timer.csv').text\r\n",
        "oea.land(data, 'moodle/v4.1/lesson_timer', 'lessontimer_hed_test_data.csv', oea.ADDITIVE_BATCH_DATA)\r\n",
        "data = requests.get('https://raw.githubusercontent.com/microsoft/OpenEduAnalytics/main/modules/module_catalog/Moodle/test_data/hed_test_data/quiz.csv').text\r\n",
        "oea.land(data, 'moodle/v4.1/quiz', 'quiz_hed_test_data.csv', oea.ADDITIVE_BATCH_DATA)\r\n",
        "data = requests.get('https://raw.githubusercontent.com/microsoft/OpenEduAnalytics/main/modules/module_catalog/Moodle/test_data/hed_test_data/quiz_attempts.csv').text\r\n",
        "oea.land(data, 'moodle/v4.1/quiz_attempts', 'quizattempts_hed_test_data.csv', oea.ADDITIVE_BATCH_DATA)\r\n",
        "data = requests.get('https://raw.githubusercontent.com/microsoft/OpenEduAnalytics/main/modules/module_catalog/Moodle/test_data/hed_test_data/quiz_grades.csv').text\r\n",
        "oea.land(data, 'moodle/v4.1/quiz_grades', 'quizgrades_hed_test_data.csv', oea.ADDITIVE_BATCH_DATA)"
      ],
      "outputs": [],
      "execution_count": null,
      "metadata": {
        "jupyter": {
          "source_hidden": false,
          "outputs_hidden": false
        },
        "nteract": {
          "transient": {
            "deleting": false
          }
        }
      }
    },
    {
      "cell_type": "markdown",
      "source": [
        "## 3.) Ingest the Moodle Module Test Data\r\n",
        "\r\n",
        "Directory: ```stage1/Transactional/moodle -> stage2/Ingested/moodle```\r\n",
        "\r\n",
        "This step ingests the Moodle module test data from stage1 to stage2/Ingested.\r\n",
        "\r\n",
        "The code blocks in this step ingest the data using the ```oea.ingest()``` function as normal.\r\n",
        "\r\n",
        "**To-Do's:**\r\n",
        " - Check if Moodle test data accurately reflects actual (production) Moodle data."
      ],
      "metadata": {
        "nteract": {
          "transient": {
            "deleting": false
          }
        }
      }
    },
    {
      "cell_type": "code",
      "source": [
        "# NOTE: RUN THIS CODEBLOCK; not the one below\r\n",
        "# 3) The next step is to ingest the batch data into stage2\r\n",
        "# Note that when you run this the first time, you'll see an info message like \"Number of new inbound rows processed: 2\".\r\n",
        "# If you run this a second time, the number of inbound rows processed will be 0 because the ingestion uses spark structured streaming to keep track of what data has already been processed.\r\n",
        "oea.ingest(f'moodle/v4.1/assign', 'id')\r\n",
        "oea.ingest(f'moodle/v4.1/assign_grades', 'id')\r\n",
        "oea.ingest(f'moodle/v4.1/assign_submission', 'id')\r\n",
        "oea.ingest(f'moodle/v4.1/assign_user_mapping', 'id')\r\n",
        "oea.ingest(f'moodle/v4.1/assignsubmission_file', 'id')\r\n",
        "oea.ingest(f'moodle/v4.1/cohort', 'id')\r\n",
        "oea.ingest(f'moodle/v4.1/course', 'id')\r\n",
        "oea.ingest(f'moodle/v4.1/course_categories', 'id')\r\n",
        "oea.ingest(f'moodle/v4.1/enrol', 'id')\r\n",
        "oea.ingest(f'moodle/v4.1/forum', 'id')\r\n",
        "oea.ingest(f'moodle/v4.1/forum_discussions', 'id')\r\n",
        "oea.ingest(f'moodle/v4.1/forum_grades', 'id')\r\n",
        "oea.ingest(f'moodle/v4.1/forum_posts', 'id')\r\n",
        "oea.ingest(f'moodle/v4.1/lesson', 'id')\r\n",
        "oea.ingest(f'moodle/v4.1/lesson_answers', 'id')\r\n",
        "oea.ingest(f'moodle/v4.1/lesson_attempts', 'id')\r\n",
        "oea.ingest(f'moodle/v4.1/lesson_grades', 'id')\r\n",
        "oea.ingest(f'moodle/v4.1/lesson_pages', 'id')\r\n",
        "oea.ingest(f'moodle/v4.1/lesson_timer', 'id')\r\n",
        "oea.ingest(f'moodle/v4.1/page', 'id')\r\n",
        "oea.ingest(f'moodle/v4.1/quiz', 'id')\r\n",
        "oea.ingest(f'moodle/v4.1/quiz_attempts', 'id')\r\n",
        "oea.ingest(f'moodle/v4.1/quiz_grades', 'id')\r\n",
        "oea.ingest(f'moodle/v4.1/role', 'id')\r\n",
        "oea.ingest(f'moodle/v4.1/role_assignments', 'id')\r\n",
        "oea.ingest(f'moodle/v4.1/user', 'id')\r\n",
        "oea.ingest(f'moodle/v4.1/user_enrolments', 'id')"
      ],
      "outputs": [
        {
          "output_type": "display_data",
          "data": {
            "application/vnd.livy.statement-meta+json": {
              "spark_pool": "spark3p2sm",
              "session_id": "4",
              "statement_id": 5,
              "state": "finished",
              "livy_statement_state": "available",
              "queued_time": "2023-05-02T15:37:49.7142858Z",
              "session_start_time": null,
              "execution_start_time": "2023-05-02T15:40:30.8629228Z",
              "execution_finish_time": "2023-05-02T15:46:52.2084053Z",
              "spark_jobs": null,
              "parent_msg_id": "fe8e8985-0894-49d6-8efc-ebbff69a9964"
            },
            "text/plain": "StatementMeta(spark3p2sm, 4, 5, Finished, Available)"
          },
          "metadata": {}
        },
        {
          "output_type": "stream",
          "name": "stdout",
          "text": [
            "2023-05-02 15:40:31,112 - OEA - INFO - Ingesting from: stage1/Transactional/moodle/v4.1/assign, batch type of: additive, source data format of: csv\nsource_path is: abfss://oea@stoeacisd3v08kw1.dfs.core.windows.net/dev/stage1/Transactional/moodle/v4.1/assign/additive_batch_data/rundate=2023-05-02 15:40:22\n2023-05-02 15:40:48,104 - py4j.java_gateway - INFO - Callback Server Starting\n2023-05-02 15:40:48,105 - py4j.java_gateway - INFO - Socket listening on ('127.0.0.1', 34853)\n2023-05-02 15:40:50,724 - py4j.java_gateway - INFO - Callback Connection ready to receive messages\n2023-05-02 15:40:50,738 - py4j.java_gateway - INFO - Received command c on object id p0\n2023-05-02 15:41:26,399 - OEA - INFO - Number of new inbound rows processed: 5\n2023-05-02 15:41:45,616 - OEA - INFO - Ingesting from: stage1/Transactional/moodle/v4.1/assign_grades, batch type of: additive, source data format of: csv\nsource_path is: abfss://oea@stoeacisd3v08kw1.dfs.core.windows.net/dev/stage1/Transactional/moodle/v4.1/assign_grades/additive_batch_data/rundate=2023-05-02 15:40:23\n2023-05-02 15:41:47,819 - py4j.java_gateway - INFO - Received command c on object id p1\n2023-05-02 15:41:54,149 - OEA - INFO - Number of new inbound rows processed: 231\n2023-05-02 15:41:55,835 - OEA - INFO - Ingesting from: stage1/Transactional/moodle/v4.1/assign_submission, batch type of: additive, source data format of: csv\nsource_path is: abfss://oea@stoeacisd3v08kw1.dfs.core.windows.net/dev/stage1/Transactional/moodle/v4.1/assign_submission/additive_batch_data/rundate=2023-05-02 15:40:23\n2023-05-02 15:41:57,726 - py4j.java_gateway - INFO - Received command c on object id p2\n2023-05-02 15:42:07,283 - OEA - INFO - Number of new inbound rows processed: 137\n2023-05-02 15:42:09,241 - OEA - INFO - Ingesting from: stage1/Transactional/moodle/v4.1/assign_user_mapping, batch type of: additive, source data format of: csv\nsource_path is: abfss://oea@stoeacisd3v08kw1.dfs.core.windows.net/dev/stage1/Transactional/moodle/v4.1/assign_user_mapping/additive_batch_data/rundate=2023-05-02 15:40:24\n2023-05-02 15:42:11,202 - py4j.java_gateway - INFO - Received command c on object id p3\n2023-05-02 15:42:18,337 - OEA - INFO - Number of new inbound rows processed: 212\n2023-05-02 15:42:20,246 - OEA - INFO - Ingesting from: stage1/Transactional/moodle/v4.1/assignsubmission_file, batch type of: additive, source data format of: csv\nsource_path is: abfss://oea@stoeacisd3v08kw1.dfs.core.windows.net/dev/stage1/Transactional/moodle/v4.1/assignsubmission_file/additive_batch_data/rundate=2023-05-02 15:40:23\n2023-05-02 15:42:21,970 - py4j.java_gateway - INFO - Received command c on object id p4\n2023-05-02 15:42:25,848 - OEA - INFO - Number of new inbound rows processed: 469\n2023-05-02 15:42:27,462 - OEA - INFO - Ingesting from: stage1/Transactional/moodle/v4.1/cohort, batch type of: snapshot, source data format of: csv\nsource_path is: abfss://oea@stoeacisd3v08kw1.dfs.core.windows.net/dev/stage1/Transactional/moodle/v4.1/cohort/snapshot_batch_data/rundate=2023-05-02 15:40:17\n2023-05-02 15:42:29,078 - py4j.java_gateway - INFO - Received command c on object id p5\n2023-05-02 15:42:33,021 - OEA - INFO - Number of new inbound rows processed: 5\n2023-05-02 15:42:34,689 - OEA - INFO - Ingesting from: stage1/Transactional/moodle/v4.1/course, batch type of: snapshot, source data format of: csv\nsource_path is: abfss://oea@stoeacisd3v08kw1.dfs.core.windows.net/dev/stage1/Transactional/moodle/v4.1/course/snapshot_batch_data/rundate=2023-05-02 15:40:19\n2023-05-02 15:42:36,264 - py4j.java_gateway - INFO - Received command c on object id p6\n2023-05-02 15:42:40,576 - OEA - INFO - Number of new inbound rows processed: 87\n2023-05-02 15:42:42,560 - OEA - INFO - Ingesting from: stage1/Transactional/moodle/v4.1/course_categories, batch type of: snapshot, source data format of: csv\nsource_path is: abfss://oea@stoeacisd3v08kw1.dfs.core.windows.net/dev/stage1/Transactional/moodle/v4.1/course_categories/snapshot_batch_data/rundate=2023-05-02 15:40:19\n2023-05-02 15:42:44,264 - py4j.java_gateway - INFO - Received command c on object id p7\n2023-05-02 15:42:47,922 - OEA - INFO - Number of new inbound rows processed: 87\n2023-05-02 15:42:49,705 - OEA - INFO - Ingesting from: stage1/Transactional/moodle/v4.1/enrol, batch type of: snapshot, source data format of: csv\nsource_path is: abfss://oea@stoeacisd3v08kw1.dfs.core.windows.net/dev/stage1/Transactional/moodle/v4.1/enrol/snapshot_batch_data/rundate=2023-05-02 15:40:20\n2023-05-02 15:42:51,355 - py4j.java_gateway - INFO - Received command c on object id p8\n2023-05-02 15:42:55,762 - OEA - INFO - Number of new inbound rows processed: 87\n2023-05-02 15:42:57,358 - OEA - INFO - Ingesting from: stage1/Transactional/moodle/v4.1/forum, batch type of: additive, source data format of: csv\nsource_path is: abfss://oea@stoeacisd3v08kw1.dfs.core.windows.net/dev/stage1/Transactional/moodle/v4.1/forum/additive_batch_data/rundate=2023-05-02 15:40:24\n2023-05-02 15:42:58,988 - py4j.java_gateway - INFO - Received command c on object id p9\n2023-05-02 15:43:02,576 - OEA - INFO - Number of new inbound rows processed: 5\n2023-05-02 15:43:04,540 - OEA - INFO - Ingesting from: stage1/Transactional/moodle/v4.1/forum_discussions, batch type of: additive, source data format of: csv\nsource_path is: abfss://oea@stoeacisd3v08kw1.dfs.core.windows.net/dev/stage1/Transactional/moodle/v4.1/forum_discussions/additive_batch_data/rundate=2023-05-02 15:40:25\n2023-05-02 15:43:06,209 - py4j.java_gateway - INFO - Received command c on object id p10\n2023-05-02 15:43:09,861 - OEA - INFO - Number of new inbound rows processed: 432\n2023-05-02 15:43:11,467 - OEA - INFO - Ingesting from: stage1/Transactional/moodle/v4.1/forum_grades, batch type of: additive, source data format of: csv\nsource_path is: abfss://oea@stoeacisd3v08kw1.dfs.core.windows.net/dev/stage1/Transactional/moodle/v4.1/forum_grades/additive_batch_data/rundate=2023-05-02 15:40:25\n2023-05-02 15:43:13,107 - py4j.java_gateway - INFO - Received command c on object id p11\n2023-05-02 15:43:17,006 - OEA - INFO - Number of new inbound rows processed: 1353\n2023-05-02 15:43:19,090 - OEA - INFO - Ingesting from: stage1/Transactional/moodle/v4.1/forum_posts, batch type of: additive, source data format of: csv\nsource_path is: abfss://oea@stoeacisd3v08kw1.dfs.core.windows.net/dev/stage1/Transactional/moodle/v4.1/forum_posts/additive_batch_data/rundate=2023-05-02 15:40:26\n2023-05-02 15:43:20,903 - py4j.java_gateway - INFO - Received command c on object id p12\n2023-05-02 15:43:25,802 - OEA - INFO - Number of new inbound rows processed: 1383\n2023-05-02 15:43:27,509 - OEA - INFO - Ingesting from: stage1/Transactional/moodle/v4.1/lesson, batch type of: additive, source data format of: csv\nsource_path is: abfss://oea@stoeacisd3v08kw1.dfs.core.windows.net/dev/stage1/Transactional/moodle/v4.1/lesson/additive_batch_data/rundate=2023-05-02 15:40:26\n2023-05-02 15:43:29,194 - py4j.java_gateway - INFO - Received command c on object id p13\n2023-05-02 15:43:32,554 - OEA - INFO - Number of new inbound rows processed: 5\n2023-05-02 15:43:34,266 - OEA - INFO - Ingesting from: stage1/Transactional/moodle/v4.1/lesson_answers, batch type of: additive, source data format of: csv\nsource_path is: abfss://oea@stoeacisd3v08kw1.dfs.core.windows.net/dev/stage1/Transactional/moodle/v4.1/lesson_answers/additive_batch_data/rundate=2023-05-02 15:40:26\n2023-05-02 15:43:36,181 - py4j.java_gateway - INFO - Received command c on object id p14\n2023-05-02 15:43:39,517 - OEA - INFO - Number of new inbound rows processed: 51\n2023-05-02 15:43:41,131 - OEA - INFO - Ingesting from: stage1/Transactional/moodle/v4.1/lesson_attempts, batch type of: additive, source data format of: csv\nsource_path is: abfss://oea@stoeacisd3v08kw1.dfs.core.windows.net/dev/stage1/Transactional/moodle/v4.1/lesson_attempts/additive_batch_data/rundate=2023-05-02 15:40:27\n2023-05-02 15:43:42,776 - py4j.java_gateway - INFO - Received command c on object id p15\n2023-05-02 15:43:45,981 - OEA - INFO - Number of new inbound rows processed: 2985\n2023-05-02 15:43:47,416 - OEA - INFO - Ingesting from: stage1/Transactional/moodle/v4.1/lesson_grades, batch type of: additive, source data format of: csv\nsource_path is: abfss://oea@stoeacisd3v08kw1.dfs.core.windows.net/dev/stage1/Transactional/moodle/v4.1/lesson_grades/additive_batch_data/rundate=2023-05-02 15:40:27\n2023-05-02 15:43:49,384 - py4j.java_gateway - INFO - Received command c on object id p16\n2023-05-02 15:43:52,547 - OEA - INFO - Number of new inbound rows processed: 315\n2023-05-02 15:43:54,147 - OEA - INFO - Ingesting from: stage1/Transactional/moodle/v4.1/lesson_pages, batch type of: additive, source data format of: csv\nsource_path is: abfss://oea@stoeacisd3v08kw1.dfs.core.windows.net/dev/stage1/Transactional/moodle/v4.1/lesson_pages/additive_batch_data/rundate=2023-05-02 15:40:28\n2023-05-02 15:43:55,973 - py4j.java_gateway - INFO - Received command c on object id p17\n2023-05-02 15:43:58,880 - OEA - INFO - Number of new inbound rows processed: 5\n2023-05-02 15:44:00,458 - OEA - INFO - Ingesting from: stage1/Transactional/moodle/v4.1/lesson_timer, batch type of: additive, source data format of: csv\nsource_path is: abfss://oea@stoeacisd3v08kw1.dfs.core.windows.net/dev/stage1/Transactional/moodle/v4.1/lesson_timer/additive_batch_data/rundate=2023-05-02 15:40:28\n2023-05-02 15:44:02,179 - py4j.java_gateway - INFO - Received command c on object id p18\n2023-05-02 15:44:05,800 - OEA - INFO - Number of new inbound rows processed: 8499\n2023-05-02 15:44:48,107 - py4j.java_gateway - INFO - Received command  on object id \n2023-05-02 15:44:48,108 - py4j.java_gateway - INFO - Closing down callback connection\n2023-05-02 15:45:52,583 - OEA - INFO - Ingesting from: stage1/Transactional/moodle/v4.1/page, batch type of: delta, source data format of: csv\nsource_path is: abfss://oea@stoeacisd3v08kw1.dfs.core.windows.net/dev/stage1/Transactional/moodle/v4.1/page/delta_batch_data\n2023-05-02 15:45:54,822 - py4j.java_gateway - INFO - Callback Connection ready to receive messages\n2023-05-02 15:45:54,823 - py4j.java_gateway - INFO - Received command c on object id p19\n2023-05-02 15:45:58,304 - OEA - INFO - Number of new inbound rows processed: 5\n2023-05-02 15:45:59,917 - OEA - INFO - Ingesting from: stage1/Transactional/moodle/v4.1/quiz, batch type of: additive, source data format of: csv\nsource_path is: abfss://oea@stoeacisd3v08kw1.dfs.core.windows.net/dev/stage1/Transactional/moodle/v4.1/quiz/additive_batch_data/rundate=2023-05-02 15:40:29\n2023-05-02 15:46:02,306 - py4j.java_gateway - INFO - Received command c on object id p20\n2023-05-02 15:46:05,726 - OEA - INFO - Number of new inbound rows processed: 5\n2023-05-02 15:46:07,398 - OEA - INFO - Ingesting from: stage1/Transactional/moodle/v4.1/quiz_attempts, batch type of: additive, source data format of: csv\nsource_path is: abfss://oea@stoeacisd3v08kw1.dfs.core.windows.net/dev/stage1/Transactional/moodle/v4.1/quiz_attempts/additive_batch_data/rundate=2023-05-02 15:40:29\n2023-05-02 15:46:09,784 - py4j.java_gateway - INFO - Received command c on object id p21\n2023-05-02 15:46:12,857 - OEA - INFO - Number of new inbound rows processed: 94\n2023-05-02 15:46:15,154 - OEA - INFO - Ingesting from: stage1/Transactional/moodle/v4.1/quiz_grades, batch type of: additive, source data format of: csv\nsource_path is: abfss://oea@stoeacisd3v08kw1.dfs.core.windows.net/dev/stage1/Transactional/moodle/v4.1/quiz_grades/additive_batch_data/rundate=2023-05-02 15:40:29\n2023-05-02 15:46:16,826 - py4j.java_gateway - INFO - Received command c on object id p22\n2023-05-02 15:46:19,621 - OEA - INFO - Number of new inbound rows processed: 108\n2023-05-02 15:46:21,552 - OEA - INFO - Ingesting from: stage1/Transactional/moodle/v4.1/role, batch type of: snapshot, source data format of: csv\nsource_path is: abfss://oea@stoeacisd3v08kw1.dfs.core.windows.net/dev/stage1/Transactional/moodle/v4.1/role/snapshot_batch_data/rundate=2023-05-02 15:40:20\n2023-05-02 15:46:23,438 - py4j.java_gateway - INFO - Received command c on object id p23\n2023-05-02 15:46:26,199 - OEA - INFO - Number of new inbound rows processed: 2\n2023-05-02 15:46:27,940 - OEA - INFO - Ingesting from: stage1/Transactional/moodle/v4.1/role_assignments, batch type of: snapshot, source data format of: csv\nsource_path is: abfss://oea@stoeacisd3v08kw1.dfs.core.windows.net/dev/stage1/Transactional/moodle/v4.1/role_assignments/snapshot_batch_data/rundate=2023-05-02 15:40:21\n2023-05-02 15:46:29,651 - py4j.java_gateway - INFO - Received command c on object id p24\n2023-05-02 15:46:33,016 - OEA - INFO - Number of new inbound rows processed: 600\n2023-05-02 15:46:35,411 - OEA - INFO - Ingesting from: stage1/Transactional/moodle/v4.1/user, batch type of: snapshot, source data format of: csv\nsource_path is: abfss://oea@stoeacisd3v08kw1.dfs.core.windows.net/dev/stage1/Transactional/moodle/v4.1/user/snapshot_batch_data/rundate=2023-05-02 15:40:21\n2023-05-02 15:46:37,148 - py4j.java_gateway - INFO - Received command c on object id p25\n2023-05-02 15:46:41,986 - OEA - INFO - Number of new inbound rows processed: 600\n2023-05-02 15:46:43,883 - OEA - INFO - Ingesting from: stage1/Transactional/moodle/v4.1/user_enrolments, batch type of: delta, source data format of: csv\nsource_path is: abfss://oea@stoeacisd3v08kw1.dfs.core.windows.net/dev/stage1/Transactional/moodle/v4.1/user_enrolments/delta_batch_data\n2023-05-02 15:46:45,465 - py4j.java_gateway - INFO - Received command c on object id p26\n2023-05-02 15:46:48,830 - OEA - INFO - Number of new inbound rows processed: 3600\n"
          ]
        },
        {
          "output_type": "execute_result",
          "execution_count": 11,
          "data": {
            "text/plain": "3600"
          },
          "metadata": {}
        }
      ],
      "execution_count": 4,
      "metadata": {
        "jupyter": {
          "source_hidden": false,
          "outputs_hidden": false
        },
        "nteract": {
          "transient": {
            "deleting": false
          }
        }
      }
    },
    {
      "cell_type": "code",
      "source": [
        "# 3) The next step is to ingest the batch data into stage2\r\n",
        "# Note that when you run this the first time, you'll see an info message like \"Number of new inbound rows processed: 2\".\r\n",
        "# If you run this a second time, the number of inbound rows processed will be 0 because the ingestion uses spark structured streaming to keep track of what data has already been processed.\r\n",
        "#options = {'header':True}\r\n",
        "oea.ingest(f'moodle/v0.1/assign', 'id')\r\n",
        "oea.ingest(f'moodle/v0.1/assign_grades', 'id')\r\n",
        "oea.ingest(f'moodle/v0.1/assign_submission', 'id')\r\n",
        "oea.ingest(f'moodle/v0.1/assign_user_mapping', 'id')\r\n",
        "oea.ingest(f'moodle/v0.1/assignsubmission_file', 'id')\r\n",
        "oea.ingest(f'moodle/v0.1/cohort', 'id')\r\n",
        "oea.ingest(f'moodle/v0.1/course', 'id')\r\n",
        "oea.ingest(f'moodle/v0.1/course_categories', 'id')\r\n",
        "oea.ingest(f'moodle/v0.1/enrol', 'id')\r\n",
        "oea.ingest(f'moodle/v0.1/forum', 'id')\r\n",
        "oea.ingest(f'moodle/v0.1/forum_discussions', 'id')\r\n",
        "oea.ingest(f'moodle/v0.1/forum_grades', 'id')\r\n",
        "oea.ingest(f'moodle/v0.1/lesson', 'id')\r\n",
        "oea.ingest(f'moodle/v0.1/lesson_answers', 'id')\r\n",
        "oea.ingest(f'moodle/v0.1/lesson_attempts', 'id')\r\n",
        "oea.ingest(f'moodle/v0.1/lesson_grades', 'id')\r\n",
        "oea.ingest(f'moodle/v0.1/messages', 'id')\r\n",
        "oea.ingest(f'moodle/v0.1/message_conversations', 'id')\r\n",
        "oea.ingest(f'moodle/v0.1/message_conversation_members', 'id')\r\n",
        "oea.ingest(f'moodle/v0.1/quiz', 'id')\r\n",
        "oea.ingest(f'moodle/v0.1/quiz_attempts', 'id')\r\n",
        "oea.ingest(f'moodle/v0.1/quiz_grades', 'id')\r\n",
        "oea.ingest(f'moodle/v0.1/role', 'id')\r\n",
        "oea.ingest(f'moodle/v0.1/role_assignments', 'id')\r\n",
        "oea.ingest(f'moodle/v0.1/user', 'id')\r\n",
        "oea.ingest(f'moodle/v0.1/user_enrolments', 'id')"
      ],
      "outputs": [],
      "execution_count": 8,
      "metadata": {
        "jupyter": {
          "source_hidden": false,
          "outputs_hidden": false
        },
        "nteract": {
          "transient": {
            "deleting": false
          }
        }
      }
    },
    {
      "cell_type": "code",
      "source": [
        "# 3.5) Now you can run queries against the auto-generated \"lake database\" with the ingested Moodle data.\r\n",
        "df = spark.sql(\"select * from ldb_dev_s2i_moodle_v4p1.course\")\r\n",
        "display(df.limit(10))"
      ],
      "outputs": [
        {
          "output_type": "display_data",
          "data": {
            "application/vnd.livy.statement-meta+json": {
              "spark_pool": "spark3p2sm",
              "session_id": "4",
              "statement_id": 6,
              "state": "finished",
              "livy_statement_state": "available",
              "queued_time": "2023-05-02T15:38:43.4557628Z",
              "session_start_time": null,
              "execution_start_time": "2023-05-02T15:46:52.3698799Z",
              "execution_finish_time": "2023-05-02T15:46:55.2168428Z",
              "spark_jobs": null,
              "parent_msg_id": "6af57622-f4dd-4f46-98f1-593c08f7d88a"
            },
            "text/plain": "StatementMeta(spark3p2sm, 4, 6, Finished, Available)"
          },
          "metadata": {}
        },
        {
          "output_type": "display_data",
          "data": {
            "application/vnd.synapse.widget-view+json": {
              "widget_id": "809c9a9d-7e87-491d-a27f-494967416439",
              "widget_type": "Synapse.DataFrame"
            },
            "text/plain": "SynapseWidget(Synapse.DataFrame, 809c9a9d-7e87-491d-a27f-494967416439)"
          },
          "metadata": {}
        }
      ],
      "execution_count": 5,
      "metadata": {
        "jupyter": {
          "source_hidden": false,
          "outputs_hidden": false
        },
        "nteract": {
          "transient": {
            "deleting": false
          }
        },
        "collapsed": false
      }
    },
    {
      "cell_type": "markdown",
      "source": [
        "## 4.) Refine the Moodle Module Test Data\r\n",
        "\r\n",
        "Directory: ```stage2/Ingested/moodle -> stage2/Refined/moodle```\r\n",
        "\r\n",
        "This step then refines the Moodle test data from stage2/Ingested to stage2/Refined, using the metadata.csv. This step is responsible for pseudonymization, which preserves sensitive student information by either hashing or masking the sensitive columns. \r\n",
        "\r\n",
        "Tables are separated into either ```stage2/Refined/moodle/v4.1/general``` or ```stage2/Refined/moodle/v4.1/sensitive```, depending on whether each table is pseudonymized or has a sensitive column-hashing/masking mapping, respectively.\r\n"
      ],
      "metadata": {
        "nteract": {
          "transient": {
            "deleting": false
          }
        }
      }
    },
    {
      "cell_type": "code",
      "source": [
        "def refine_moodle(entity_path, metadata=None, primary_key='id'):\r\n",
        "    source_path = f'stage2/Ingested/{entity_path}'\r\n",
        "    primary_key = oea.fix_column_name(primary_key) # fix the column name, in case it has a space in it or some other invalid character\r\n",
        "    path_dict = oea.parse_path(source_path)\r\n",
        "    sink_general_path = path_dict['entity_parent_path'].replace('Ingested', 'Refined') + '/general/' + path_dict['entity']\r\n",
        "    sink_sensitive_path = path_dict['entity_parent_path'].replace('Ingested', 'Refined') + '/sensitive/' + path_dict['entity'] + '_lookup'\r\n",
        "    if not metadata:\r\n",
        "        all_metadata = oea.get_metadata_from_path(path_dict['entity_parent_path'])\r\n",
        "        metadata = all_metadata[path_dict['entity']]\r\n",
        "\r\n",
        "    df_changes = oea.get_latest_changes(source_path, sink_general_path)\r\n",
        "    spark_schema = oea.to_spark_schema(metadata)\r\n",
        "    df_changes = oea.modify_schema(df_changes, spark_schema)        \r\n",
        "\r\n",
        "    if df_changes.count() > 0:\r\n",
        "        df_pseudo, df_lookup = oea.pseudonymize(df_changes, metadata)\r\n",
        "        oea.upsert(df_pseudo, sink_general_path, primary_key) # todo: remove this assumption that the primary key will always be hashed during pseduonymization\r\n",
        "        oea.upsert(df_lookup, sink_sensitive_path, primary_key)    \r\n",
        "        oea.add_to_lake_db(sink_general_path)\r\n",
        "        oea.add_to_lake_db(sink_sensitive_path)\r\n",
        "        logger.info(f'Processed {df_changes.count()} updated rows from {source_path} into stage2/Refined')\r\n",
        "    else:\r\n",
        "        logger.info(f'No updated rows in {source_path} to process.')\r\n",
        "    return df_changes.count()"
      ],
      "outputs": [
        {
          "output_type": "display_data",
          "data": {
            "application/vnd.livy.statement-meta+json": {
              "spark_pool": "spark3p2sm",
              "session_id": "4",
              "statement_id": 7,
              "state": "finished",
              "livy_statement_state": "available",
              "queued_time": "2023-05-02T15:47:17.5743296Z",
              "session_start_time": null,
              "execution_start_time": "2023-05-02T15:47:17.7082742Z",
              "execution_finish_time": "2023-05-02T15:47:17.8748073Z",
              "spark_jobs": null,
              "parent_msg_id": "c8409096-1562-447e-bb58-1617e554dc73"
            },
            "text/plain": "StatementMeta(spark3p2sm, 4, 7, Finished, Available)"
          },
          "metadata": {}
        }
      ],
      "execution_count": 6,
      "metadata": {
        "jupyter": {
          "source_hidden": false,
          "outputs_hidden": false
        },
        "nteract": {
          "transient": {
            "deleting": false
          }
        }
      }
    },
    {
      "cell_type": "code",
      "source": [
        "# 4) this step refines the data through the use of metadata (this is where the pseudonymization of the data occurs).\r\n",
        "def refine_moodle_dataset(tables_source):\r\n",
        "    items = oea.get_folders(tables_source)\r\n",
        "    for item in items: \r\n",
        "        table_path = tables_source +'/'+ item\r\n",
        "        if item == 'metadata.csv':\r\n",
        "            logger.info('ignore metadata processing, since this is not a table to be ingested')\r\n",
        "        else:\r\n",
        "            try:\r\n",
        "                if item == 'assign':\r\n",
        "                    refine_moodle('moodle/v4.1/assign', metadata[item], 'id_pseudonym')\r\n",
        "                elif item == 'user':\r\n",
        "                    refine_moodle('moodle/v4.1/user', metadata[item], 'id_pseudonym')\r\n",
        "                else:\r\n",
        "                    refine_moodle('moodle/v4.1/' + item, metadata[item], 'id')\r\n",
        "            except AnalysisException as e:\r\n",
        "                # This means the table may have not been properly refined due to errors with the primary key not aligning with columns expected in the lookup table.\r\n",
        "                pass\r\n",
        "            \r\n",
        "            logger.info('Refined table: ' + item + ' from: ' + table_path)\r\n",
        "    logger.info('Finished refining Moodle tables')"
      ],
      "outputs": [
        {
          "output_type": "display_data",
          "data": {
            "application/vnd.livy.statement-meta+json": {
              "spark_pool": "spark3p2sm",
              "session_id": "4",
              "statement_id": 12,
              "state": "finished",
              "livy_statement_state": "available",
              "queued_time": "2023-05-02T15:47:47.5931386Z",
              "session_start_time": null,
              "execution_start_time": "2023-05-02T15:47:47.7359635Z",
              "execution_finish_time": "2023-05-02T15:47:47.8933461Z",
              "spark_jobs": null,
              "parent_msg_id": "7675f9a6-7776-43f8-849a-fd6e1f631ea3"
            },
            "text/plain": "StatementMeta(spark3p2sm, 4, 12, Finished, Available)"
          },
          "metadata": {}
        }
      ],
      "execution_count": 11,
      "metadata": {
        "jupyter": {
          "source_hidden": false,
          "outputs_hidden": false
        },
        "nteract": {
          "transient": {
            "deleting": false
          }
        }
      }
    },
    {
      "cell_type": "code",
      "source": [
        "# NOTE: RUN THIS CODEBLOCK\r\n",
        "metadata = oea.get_metadata_from_url('https://raw.githubusercontent.com/cstohlmann/oea-moodle-module/main/test_data/metadata.csv')\r\n",
        "refine_moodle_dataset('stage2/Ingested/moodle/v4.1')\r\n",
        "#refine_moodle('moodle/v0.1/assign', metadata['assign'], 'id')\r\n",
        "#oea.refine('moodle/v0.1/assign_grades', metadata['assign_grades'], 'id')\r\n",
        "#oea.refine('moodle/v0.1/assign_submission', metadata['assign_submission'], 'id')\r\n",
        "#oea.refine('moodle/v0.1/assign_user_mapping', metadata['assign_user_mapping'], 'id')\r\n",
        "#oea.refine('moodle/v0.1/assignsubmission_file', metadata['assignsubmission_file'], 'id')\r\n",
        "#oea.refine('moodle/v0.1/cohort', metadata['cohort'], 'id')\r\n",
        "#oea.refine('moodle/v0.1/course', metadata['course'], 'id')\r\n",
        "#oea.refine('moodle/v0.1/course_categories', metadata['course_categories'], 'id')\r\n",
        "#oea.refine('moodle/v0.1/enrol', metadata['enrol'], 'id')\r\n",
        "#oea.refine('moodle/v0.1/forum', metadata['forum'], 'id')\r\n",
        "#oea.refine('moodle/v0.1/forum_discussions', metadata['forum_discussions'], 'id')\r\n",
        "#oea.refine('moodle/v0.1/forum_grades', metadata['forum_grades'], 'id')\r\n",
        "#oea.refine('moodle/v0.1/forum_posts', metadata['forum_posts'], 'id')\r\n",
        "#oea.refine('moodle/v0.1/lesson', metadata['lesson'], 'id')\r\n",
        "#oea.refine('moodle/v0.1/lesson_answers', metadata['lesson_answers'], 'id')\r\n",
        "#oea.refine('moodle/v0.1/lesson_attempts', metadata['lesson_attempts'], 'id')\r\n",
        "#oea.refine('moodle/v0.1/lesson_grades', metadata['lesson_grades'], 'id')\r\n",
        "#oea.refine('moodle/v0.1/lesson_pages', metadata['lesson_pages'], 'id')\r\n",
        "#oea.refine('moodle/v0.1/lesson_timer', metadata['lesson_timer'], 'id')\r\n",
        "#oea.refine('moodle/v0.1/page', metadata['page'], 'id')\r\n",
        "#oea.refine('moodle/v0.1/quiz', metadata['quiz'], 'id') \r\n",
        "#oea.refine('moodle/v0.1/quiz_attempts', metadata['quiz_attempts'], 'id')\r\n",
        "#oea.refine('moodle/v0.1/quiz_grades', metadata['quiz_grades'], 'id')\r\n",
        "#oea.refine('moodle/v0.1/role', metadata['role'], 'id')\r\n",
        "#oea.refine('moodle/v0.1/role_assignments', metadata['role_assignments'], 'id')\r\n",
        "#oea.refine('moodle/v0.1/user', metadata['user'], 'id')\r\n",
        "#oea.refine('moodle/v0.1/user_enrolments', metadata['user_enrolments'], 'id')"
      ],
      "outputs": [
        {
          "output_type": "display_data",
          "data": {
            "application/vnd.livy.statement-meta+json": {
              "spark_pool": "spark3p2sm",
              "session_id": "4",
              "statement_id": 13,
              "state": "finished",
              "livy_statement_state": "available",
              "queued_time": "2023-05-02T15:47:50.0898634Z",
              "session_start_time": null,
              "execution_start_time": "2023-05-02T15:47:50.2293678Z",
              "execution_finish_time": "2023-05-02T15:49:54.167946Z",
              "spark_jobs": null,
              "parent_msg_id": "938c48eb-6c61-4aa8-8c7d-7a43303b9361"
            },
            "text/plain": "StatementMeta(spark3p2sm, 4, 13, Finished, Available)"
          },
          "metadata": {}
        },
        {
          "output_type": "stream",
          "name": "stdout",
          "text": [
            "2023-05-02 15:48:04,551 - OEA - INFO - Processed 5 updated rows from stage2/Ingested/moodle/v4.1/assign into stage2/Refined\n2023-05-02 15:48:04,871 - OEA - INFO - Refined table: assign from: stage2/Ingested/moodle/v4.1/assign\n2023-05-02 15:48:08,742 - OEA - INFO - Refined table: assign_grades from: stage2/Ingested/moodle/v4.1/assign_grades\n2023-05-02 15:48:12,283 - OEA - INFO - Refined table: assign_submission from: stage2/Ingested/moodle/v4.1/assign_submission\n2023-05-02 15:48:15,909 - OEA - INFO - Refined table: assign_user_mapping from: stage2/Ingested/moodle/v4.1/assign_user_mapping\n2023-05-02 15:48:19,389 - OEA - INFO - Refined table: assignsubmission_file from: stage2/Ingested/moodle/v4.1/assignsubmission_file\n2023-05-02 15:48:22,769 - OEA - INFO - Refined table: cohort from: stage2/Ingested/moodle/v4.1/cohort\n2023-05-02 15:48:27,435 - OEA - INFO - Refined table: course from: stage2/Ingested/moodle/v4.1/course\n2023-05-02 15:48:30,912 - OEA - INFO - Refined table: course_categories from: stage2/Ingested/moodle/v4.1/course_categories\n2023-05-02 15:48:35,934 - OEA - INFO - Refined table: enrol from: stage2/Ingested/moodle/v4.1/enrol\n2023-05-02 15:48:40,189 - OEA - INFO - Refined table: forum from: stage2/Ingested/moodle/v4.1/forum\n2023-05-02 15:48:44,062 - OEA - INFO - Refined table: forum_discussions from: stage2/Ingested/moodle/v4.1/forum_discussions\n2023-05-02 15:48:47,326 - OEA - INFO - Refined table: forum_grades from: stage2/Ingested/moodle/v4.1/forum_grades\n2023-05-02 15:48:51,674 - OEA - INFO - Refined table: forum_posts from: stage2/Ingested/moodle/v4.1/forum_posts\n2023-05-02 15:48:56,254 - OEA - INFO - Refined table: lesson from: stage2/Ingested/moodle/v4.1/lesson\n2023-05-02 15:48:59,863 - OEA - INFO - Refined table: lesson_answers from: stage2/Ingested/moodle/v4.1/lesson_answers\n2023-05-02 15:49:03,176 - OEA - INFO - Refined table: lesson_attempts from: stage2/Ingested/moodle/v4.1/lesson_attempts\n2023-05-02 15:49:06,676 - OEA - INFO - Refined table: lesson_grades from: stage2/Ingested/moodle/v4.1/lesson_grades\n2023-05-02 15:49:10,445 - OEA - INFO - Refined table: lesson_pages from: stage2/Ingested/moodle/v4.1/lesson_pages\n2023-05-02 15:49:14,176 - OEA - INFO - Refined table: lesson_timer from: stage2/Ingested/moodle/v4.1/lesson_timer\n2023-05-02 15:49:17,543 - OEA - INFO - Refined table: page from: stage2/Ingested/moodle/v4.1/page\n2023-05-02 15:49:24,649 - OEA - INFO - Refined table: quiz from: stage2/Ingested/moodle/v4.1/quiz\n2023-05-02 15:49:28,191 - OEA - INFO - Refined table: quiz_attempts from: stage2/Ingested/moodle/v4.1/quiz_attempts\n2023-05-02 15:49:31,671 - OEA - INFO - Refined table: quiz_grades from: stage2/Ingested/moodle/v4.1/quiz_grades\n2023-05-02 15:49:34,695 - OEA - INFO - Refined table: role from: stage2/Ingested/moodle/v4.1/role\n2023-05-02 15:49:37,857 - OEA - INFO - Refined table: role_assignments from: stage2/Ingested/moodle/v4.1/role_assignments\n2023-05-02 15:49:49,858 - OEA - INFO - Processed 600 updated rows from stage2/Ingested/moodle/v4.1/user into stage2/Refined\n2023-05-02 15:49:50,132 - OEA - INFO - Refined table: user from: stage2/Ingested/moodle/v4.1/user\n2023-05-02 15:49:53,488 - OEA - INFO - Refined table: user_enrolments from: stage2/Ingested/moodle/v4.1/user_enrolments\n2023-05-02 15:49:53,488 - OEA - INFO - Finished refining Moodle tables\n"
          ]
        }
      ],
      "execution_count": 12,
      "metadata": {
        "jupyter": {
          "source_hidden": false,
          "outputs_hidden": false
        },
        "nteract": {
          "transient": {
            "deleting": false
          }
        }
      }
    },
    {
      "cell_type": "code",
      "source": [
        "#metadata = oea.get_metadata_from_url('https://raw.githubusercontent.com/microsoft/OpenEduAnalytics/main/modules/module_catalog/Moodle/test_data/metadata.csv')\r\n",
        "metadata = oea.get_metadata_from_url('https://raw.githubusercontent.com/cstohlmann/oea-moodle-module/main/test_data/metadata.csv')\r\n",
        "refine_moodle_dataset('stage2/Ingested/moodle/v0.1')"
      ],
      "outputs": [
        {
          "output_type": "display_data",
          "data": {
            "application/vnd.livy.statement-meta+json": {
              "spark_pool": "spark3p2sm",
              "session_id": "3",
              "statement_id": 7,
              "state": "finished",
              "livy_statement_state": "available",
              "queued_time": "2023-04-28T00:06:03.8041231Z",
              "session_start_time": null,
              "execution_start_time": "2023-04-28T00:06:03.95634Z",
              "execution_finish_time": "2023-04-28T00:06:40.1768907Z",
              "spark_jobs": null,
              "parent_msg_id": "92c70dd5-7fbc-4bec-a51d-eff3f89f950a"
            },
            "text/plain": "StatementMeta(spark3p2sm, 3, 7, Finished, Available)"
          },
          "metadata": {}
        },
        {
          "output_type": "stream",
          "name": "stdout",
          "text": [
            "2023-04-28 00:06:08,496 - OEA - INFO - Refined table: assign from: stage2/Ingested/moodle/v0.1/assign\n2023-04-28 00:06:09,612 - OEA - INFO - Refined table: assign_grades from: stage2/Ingested/moodle/v0.1/assign_grades\n2023-04-28 00:06:10,624 - OEA - INFO - Refined table: assign_submission from: stage2/Ingested/moodle/v0.1/assign_submission\n2023-04-28 00:06:11,586 - OEA - INFO - Refined table: assign_user_mapping from: stage2/Ingested/moodle/v0.1/assign_user_mapping\n2023-04-28 00:06:12,387 - OEA - INFO - Refined table: assignsubmission_file from: stage2/Ingested/moodle/v0.1/assignsubmission_file\n2023-04-28 00:06:13,328 - OEA - INFO - Refined table: cohort from: stage2/Ingested/moodle/v0.1/cohort\n2023-04-28 00:06:15,521 - OEA - INFO - Refined table: course from: stage2/Ingested/moodle/v0.1/course\n2023-04-28 00:06:16,518 - OEA - INFO - Refined table: course_categories from: stage2/Ingested/moodle/v0.1/course_categories\n2023-04-28 00:06:18,311 - OEA - INFO - Refined table: enrol from: stage2/Ingested/moodle/v0.1/enrol\n2023-04-28 00:06:19,787 - OEA - INFO - Refined table: forum from: stage2/Ingested/moodle/v0.1/forum\n2023-04-28 00:06:20,782 - OEA - INFO - Refined table: forum_discussions from: stage2/Ingested/moodle/v0.1/forum_discussions\n2023-04-28 00:06:21,629 - OEA - INFO - Refined table: forum_grades from: stage2/Ingested/moodle/v0.1/forum_grades\n2023-04-28 00:06:22,946 - OEA - INFO - Refined table: forum_posts from: stage2/Ingested/moodle/v0.1/forum_posts\n2023-04-28 00:06:25,107 - OEA - INFO - Refined table: lesson from: stage2/Ingested/moodle/v0.1/lesson\n2023-04-28 00:06:26,100 - OEA - INFO - Refined table: lesson_answers from: stage2/Ingested/moodle/v0.1/lesson_answers\n2023-04-28 00:06:26,992 - OEA - INFO - Refined table: lesson_attempts from: stage2/Ingested/moodle/v0.1/lesson_attempts\n2023-04-28 00:06:27,802 - OEA - INFO - Refined table: lesson_grades from: stage2/Ingested/moodle/v0.1/lesson_grades\n2023-04-28 00:06:28,751 - OEA - INFO - Refined table: lesson_pages from: stage2/Ingested/moodle/v0.1/lesson_pages\n2023-04-28 00:06:29,551 - OEA - INFO - Refined table: lesson_timer from: stage2/Ingested/moodle/v0.1/lesson_timer\n2023-04-28 00:06:30,746 - OEA - INFO - Refined table: page from: stage2/Ingested/moodle/v0.1/page\n2023-04-28 00:06:32,672 - OEA - INFO - Refined table: quiz from: stage2/Ingested/moodle/v0.1/quiz\n2023-04-28 00:06:33,721 - OEA - INFO - Refined table: quiz_attempts from: stage2/Ingested/moodle/v0.1/quiz_attempts\n2023-04-28 00:06:34,563 - OEA - INFO - Refined table: quiz_grades from: stage2/Ingested/moodle/v0.1/quiz_grades\n2023-04-28 00:06:35,336 - OEA - INFO - Refined table: role from: stage2/Ingested/moodle/v0.1/role\n2023-04-28 00:06:36,206 - OEA - INFO - Refined table: role_assignments from: stage2/Ingested/moodle/v0.1/role_assignments\n2023-04-28 00:06:39,041 - OEA - INFO - Refined table: user from: stage2/Ingested/moodle/v0.1/user\n2023-04-28 00:06:40,024 - OEA - INFO - Refined table: user_enrolments from: stage2/Ingested/moodle/v0.1/user_enrolments\n2023-04-28 00:06:40,024 - OEA - INFO - Finished refining Moodle tables\n"
          ]
        }
      ],
      "execution_count": 6,
      "metadata": {
        "jupyter": {
          "source_hidden": false,
          "outputs_hidden": false
        },
        "nteract": {
          "transient": {
            "deleting": false
          }
        }
      }
    },
    {
      "cell_type": "code",
      "source": [
        "# This block represents what the blocks above (in this step) accomplish\r\n",
        "#metadata = oea.get_metadata_from_url('https://raw.githubusercontent.com/microsoft/OpenEduAnalytics/main/modules/module_catalog/Moodle/test_data/metadata.csv')\r\n",
        "\r\n",
        "#oea.refine('moodle/v0.1/assign', metadata['assign'], 'id_pseudonym')\r\n",
        "#oea.refine('moodle/v0.1/assign_grades', metadata['assign_grades'], 'id')\r\n",
        "#oea.refine('moodle/v0.1/assign_submission', metadata['assign_submission'], 'id')\r\n",
        "#oea.refine('moodle/v0.1/assign_user_mapping', metadata['assign_user_mapping'], 'id')\r\n",
        "#oea.refine('moodle/v0.1/assignsubmission_file', metadata['assignsubmission_file'], 'id')\r\n",
        "#oea.refine('moodle/v0.1/context', metadata['context'], 'id')\r\n",
        "#oea.refine('moodle/v0.1/course', metadata['course'], 'id')\r\n",
        "#oea.refine('moodle/v0.1/course_categories', metadata['course_categories'], 'id')\r\n",
        "#oea.refine('moodle/v0.1/enrol', metadata['enrol'], 'id')\r\n",
        "#oea.refine('moodle/v0.1/forum', metadata['forum'], 'id')\r\n",
        "#oea.refine('moodle/v0.1/forum_discussions', metadata['forum_discussions'], 'id')\r\n",
        "#oea.refine('moodle/v0.1/forum_grades', metadata['forum_grades'], 'id')\r\n",
        "#oea.refine('moodle/v0.1/lesson', metadata['lesson'], 'id')\r\n",
        "#oea.refine('moodle/v0.1/lesson_answers', metadata['lesson_answers'], 'id')\r\n",
        "#oea.refine('moodle/v0.1/lesson_attempts', metadata['lesson_attempts'], 'id')\r\n",
        "#oea.refine('moodle/v0.1/lesson_grades', metadata['lesson_grades'], 'id')\r\n",
        "#oea.refine('moodle/v0.1/messages', metadata['messages'], 'id')\r\n",
        "#oea.refine('moodle/v0.1/message_conversations', metadata['message_conversations'], 'id')\r\n",
        "#oea.refine('moodle/v0.1/message_conversation_members', metadata['message_conversation_members'], 'id')\r\n",
        "#oea.refine('moodle/v0.1/quiz', metadata['quiz'], 'id') \r\n",
        "#oea.refine('moodle/v0.1/quiz_attempts', metadata['quiz_attempts'], 'id')\r\n",
        "#oea.refine('moodle/v0.1/quiz_grades', metadata['quiz_grades'], 'id')\r\n",
        "#oea.refine('moodle/v0.1/role', metadata['role'], 'id')\r\n",
        "#oea.refine('moodle/v0.1/role_assignments', metadata['role_assignments'], 'id')\r\n",
        "#oea.refine('moodle/v0.1/user', metadata['user'], 'id_pseudonym')\r\n",
        "#oea.refine('moodle/v0.1/user_enrolments', metadata['user_enrolments'], 'id')\r\n"
      ],
      "outputs": [],
      "execution_count": 12,
      "metadata": {
        "jupyter": {
          "source_hidden": false,
          "outputs_hidden": false
        },
        "nteract": {
          "transient": {
            "deleting": false
          }
        },
        "collapsed": false
      }
    },
    {
      "cell_type": "markdown",
      "source": [
        "## 5.) Demonstrate Lake Database Queries/Final Remarks"
      ],
      "metadata": {
        "nteract": {
          "transient": {
            "deleting": false
          }
        }
      }
    },
    {
      "cell_type": "code",
      "source": [
        "oea.add_to_lake_db('stage2/Refined/moodle/v0.1/general/assign')"
      ],
      "outputs": [],
      "execution_count": 13,
      "metadata": {
        "jupyter": {
          "source_hidden": false,
          "outputs_hidden": false
        },
        "nteract": {
          "transient": {
            "deleting": false
          }
        }
      }
    },
    {
      "cell_type": "code",
      "source": [
        "oea.add_to_lake_db('stage2/Refined/moodle/v0.1/general/course')"
      ],
      "outputs": [],
      "execution_count": 14,
      "metadata": {
        "jupyter": {
          "source_hidden": false,
          "outputs_hidden": false
        },
        "nteract": {
          "transient": {
            "deleting": false
          }
        }
      }
    },
    {
      "cell_type": "code",
      "source": [
        "# 5) Now you can query the refined data tables in the lake db\r\n",
        "#df = spark.sql(\"select * from ldb_sam_s2r_moodle_v0p1.assign\")\r\n",
        "df = spark.sql(\"select * from ldb_dev_s2r_moodle_v0p1.assign\")\r\n",
        "display(df)\r\n",
        "df.printSchema()\r\n",
        "#df = spark.sql(\"select * from ldb_sam_s2r_moodle_v0p1.course\")\r\n",
        "df = spark.sql(\"select * from ldb_dev_s2r_moodle_v0p1.course\")\r\n",
        "display(df)\r\n",
        "df.printSchema()\r\n",
        "# You can use the \"lookup\" table for joins (people with restricted access won't be able to perform this query because they won't have access to data in the \"sensitive\" folder in the data lake)\r\n",
        "#df = spark.sql(\"select c.fullname, c.id, a.id_pseudonym, a.name, a.nosubmissions, a.maxattempts, a.grade from ldb_sam_s2r_moodle_v0p1.course c, ldb_sam_s2r_moodle_v0p1.assign a where c.id = a.course\")\r\n",
        "df = spark.sql(\"select c.fullname, c.id, a.id_pseudonym, a.name, a.nosubmissions, a.maxattempts, a.grade from ldb_dev_s2r_moodle_v0p1.course c, ldb_dev_s2r_moodle_v0p1.assign a where c.id = a.course\")\r\n",
        "display(df)"
      ],
      "outputs": [],
      "execution_count": 15,
      "metadata": {
        "jupyter": {
          "source_hidden": false,
          "outputs_hidden": false
        },
        "nteract": {
          "transient": {
            "deleting": false
          }
        },
        "collapsed": false
      }
    },
    {
      "cell_type": "code",
      "source": [
        "# Run this cell to reset this example (deleting all the example Moodle data in your workspace)\r\n",
        "oea.rm_if_exists('stage1/Transactional/moodle')\r\n",
        "oea.rm_if_exists('stage2/Ingested/moodle')\r\n",
        "oea.rm_if_exists('stage2/Refined/moodle')\r\n",
        "oea.drop_lake_db('ldb_sam_s2i_moodle_v0p1')\r\n",
        "oea.drop_lake_db('ldb_sam_s2r_moodle_v0p1')"
      ],
      "outputs": [],
      "execution_count": 19,
      "metadata": {
        "jupyter": {
          "source_hidden": false,
          "outputs_hidden": false
        },
        "nteract": {
          "transient": {
            "deleting": false
          }
        }
      }
    },
    {
      "cell_type": "markdown",
      "source": [
        "## Appendix"
      ],
      "metadata": {
        "nteract": {
          "transient": {
            "deleting": false
          }
        }
      }
    },
    {
      "cell_type": "code",
      "source": [
        "# generate an initial metadata file for manual modification\r\n",
        "metadata = oea.create_metadata_from_lake_db('ldb_sam_s2i_moodle_v0p1')\r\n",
        "dlw = DataLakeWriter(oea.to_url('stage1/Transactional/moodle'))\r\n",
        "dlw.write('metadata.csv', metadata)"
      ],
      "outputs": [],
      "execution_count": null,
      "metadata": {
        "jupyter": {
          "source_hidden": false,
          "outputs_hidden": false
        },
        "nteract": {
          "transient": {
            "deleting": false
          }
        }
      }
    },
    {
      "cell_type": "code",
      "source": [
        "# Create a sql db for the ingested Moodle data\r\n",
        "oea.create_sql_db('stage2/Ingested/moodle')"
      ],
      "outputs": [],
      "execution_count": null,
      "metadata": {
        "jupyter": {
          "source_hidden": false,
          "outputs_hidden": false
        },
        "nteract": {
          "transient": {
            "deleting": false
          }
        }
      }
    },
    {
      "cell_type": "code",
      "source": [
        "oea.create_sql_db('stage2/Refined/moodle')"
      ],
      "outputs": [],
      "execution_count": 16,
      "metadata": {
        "jupyter": {
          "source_hidden": false,
          "outputs_hidden": false
        },
        "nteract": {
          "transient": {
            "deleting": false
          }
        }
      }
    }
  ],
  "metadata": {
    "kernelspec": {
      "name": "synapse_pyspark",
      "language": "Python",
      "display_name": "Synapse PySpark"
    },
    "language_info": {
      "name": "python"
    },
    "kernel_info": {
      "name": "synapse_pyspark"
    },
    "description": null,
    "save_output": true,
    "synapse_widget": {
      "version": "0.1",
      "state": {
        "809c9a9d-7e87-491d-a27f-494967416439": {
          "type": "Synapse.DataFrame",
          "sync_state": {
            "table": {
              "rows": [
                {
                  "0": "08DDFD65A495417587EE3E91F25FEECD",
                  "1": "b8884795-71d3-4a10-970b-a88cdeddb96e",
                  "2": "0",
                  "3": "Communication Criticism 315",
                  "4": "Communication Criticism",
                  "6": "Course in education system",
                  "7": "0",
                  "8": "topics",
                  "9": "1",
                  "10": "1",
                  "11": "2022-01-01T00:00:00.000Z",
                  "12": "2022-06-01T00:00:00.000Z",
                  "13": "0",
                  "14": "0",
                  "15": "0",
                  "16": "0",
                  "17": "0",
                  "18": "1",
                  "19": "1",
                  "20": "null",
                  "21": "0",
                  "22": "0",
                  "23": "0",
                  "24": "en",
                  "25": "gregorian",
                  "27": "2022-01-01T00:00:00.000Z",
                  "28": "0",
                  "29": "0",
                  "30": "0",
                  "31": "0",
                  "32": "0",
                  "33": "b8884795-71d3-4a10-970b-a88cdeddb96e",
                  "34": "1",
                  "35": "0"
                },
                {
                  "0": "3C0DCC5113564086A3726ADA0D329E71",
                  "1": "04480303-e381-45f8-82a5-78eedb73e645",
                  "2": "0",
                  "3": "Management Science 395",
                  "4": "Management Science",
                  "6": "Course in education system",
                  "7": "0",
                  "8": "topics",
                  "9": "1",
                  "10": "1",
                  "11": "2022-01-01T00:00:00.000Z",
                  "12": "2022-06-01T00:00:00.000Z",
                  "13": "0",
                  "14": "0",
                  "15": "0",
                  "16": "0",
                  "17": "0",
                  "18": "1",
                  "19": "1",
                  "20": "null",
                  "21": "0",
                  "22": "0",
                  "23": "0",
                  "24": "en",
                  "25": "gregorian",
                  "27": "2022-01-01T00:00:00.000Z",
                  "28": "0",
                  "29": "0",
                  "30": "0",
                  "31": "0",
                  "32": "0",
                  "33": "04480303-e381-45f8-82a5-78eedb73e645",
                  "34": "1",
                  "35": "0"
                },
                {
                  "0": "6F6FBD3F724F4CB8AE2F090B37BB729A",
                  "1": "bd74bb9c-9e1a-48b4-a29d-0428cbe9772d",
                  "2": "0",
                  "3": "Intro to Ceramics 216",
                  "4": "Intro to Ceramics",
                  "6": "Course in education system",
                  "7": "0",
                  "8": "topics",
                  "9": "1",
                  "10": "1",
                  "11": "2022-01-01T00:00:00.000Z",
                  "12": "2022-06-01T00:00:00.000Z",
                  "13": "0",
                  "14": "0",
                  "15": "0",
                  "16": "0",
                  "17": "0",
                  "18": "1",
                  "19": "1",
                  "20": "null",
                  "21": "0",
                  "22": "0",
                  "23": "0",
                  "24": "en",
                  "25": "gregorian",
                  "27": "2022-01-01T00:00:00.000Z",
                  "28": "0",
                  "29": "0",
                  "30": "0",
                  "31": "0",
                  "32": "0",
                  "33": "bd74bb9c-9e1a-48b4-a29d-0428cbe9772d",
                  "34": "1",
                  "35": "0"
                },
                {
                  "0": "53114219F05E4AAC877219B6D7181E7A",
                  "1": "6c3bcaeb-c72b-4759-b349-67503ed0776e",
                  "2": "0",
                  "3": "Software Design 120",
                  "4": "Software Design",
                  "6": "Course in education system",
                  "7": "0",
                  "8": "topics",
                  "9": "1",
                  "10": "1",
                  "11": "2022-01-01T00:00:00.000Z",
                  "12": "2022-06-01T00:00:00.000Z",
                  "13": "0",
                  "14": "0",
                  "15": "0",
                  "16": "0",
                  "17": "0",
                  "18": "1",
                  "19": "1",
                  "20": "null",
                  "21": "0",
                  "22": "0",
                  "23": "0",
                  "24": "en",
                  "25": "gregorian",
                  "27": "2022-01-01T00:00:00.000Z",
                  "28": "0",
                  "29": "0",
                  "30": "0",
                  "31": "0",
                  "32": "0",
                  "33": "6c3bcaeb-c72b-4759-b349-67503ed0776e",
                  "34": "1",
                  "35": "0"
                },
                {
                  "0": "BE0A4AC2F0264375B4ED97DC17DD6800",
                  "1": "a4c1b3c5-2629-470a-9cd6-b768a652cf4d",
                  "2": "0",
                  "3": "Presentational Speaking 210",
                  "4": "Presentational Speaking",
                  "6": "Course in education system",
                  "7": "0",
                  "8": "topics",
                  "9": "1",
                  "10": "1",
                  "11": "2022-01-01T00:00:00.000Z",
                  "12": "2022-06-01T00:00:00.000Z",
                  "13": "0",
                  "14": "0",
                  "15": "0",
                  "16": "0",
                  "17": "0",
                  "18": "1",
                  "19": "1",
                  "20": "null",
                  "21": "0",
                  "22": "0",
                  "23": "0",
                  "24": "en",
                  "25": "gregorian",
                  "27": "2022-01-01T00:00:00.000Z",
                  "28": "0",
                  "29": "0",
                  "30": "0",
                  "31": "0",
                  "32": "0",
                  "33": "a4c1b3c5-2629-470a-9cd6-b768a652cf4d",
                  "34": "1",
                  "35": "0"
                },
                {
                  "0": "A520F654FBCC4CCEBACEC63D2333D771",
                  "1": "fe4e6ac7-4f63-4a6c-a580-d9156460c087",
                  "2": "0",
                  "3": "Business Labor and Human Rights 431",
                  "4": "Business Labor and Human Rights",
                  "6": "Course in education system",
                  "7": "0",
                  "8": "topics",
                  "9": "1",
                  "10": "1",
                  "11": "2022-01-01T00:00:00.000Z",
                  "12": "2022-06-01T00:00:00.000Z",
                  "13": "0",
                  "14": "0",
                  "15": "0",
                  "16": "0",
                  "17": "0",
                  "18": "1",
                  "19": "1",
                  "20": "null",
                  "21": "0",
                  "22": "0",
                  "23": "0",
                  "24": "en",
                  "25": "gregorian",
                  "27": "2022-01-01T00:00:00.000Z",
                  "28": "0",
                  "29": "0",
                  "30": "0",
                  "31": "0",
                  "32": "0",
                  "33": "fe4e6ac7-4f63-4a6c-a580-d9156460c087",
                  "34": "1",
                  "35": "0"
                },
                {
                  "0": "92C670E8E11A47888A574BE6D6300042",
                  "1": "961623b8-68af-43ab-a3a3-4caf4b961a32",
                  "2": "0",
                  "3": "Ceramics 213",
                  "4": "Ceramics",
                  "6": "Course in education system",
                  "7": "0",
                  "8": "topics",
                  "9": "1",
                  "10": "1",
                  "11": "2022-01-01T00:00:00.000Z",
                  "12": "2022-06-01T00:00:00.000Z",
                  "13": "0",
                  "14": "0",
                  "15": "0",
                  "16": "0",
                  "17": "0",
                  "18": "1",
                  "19": "1",
                  "20": "null",
                  "21": "0",
                  "22": "0",
                  "23": "0",
                  "24": "en",
                  "25": "gregorian",
                  "27": "2022-01-01T00:00:00.000Z",
                  "28": "0",
                  "29": "0",
                  "30": "0",
                  "31": "0",
                  "32": "0",
                  "33": "961623b8-68af-43ab-a3a3-4caf4b961a32",
                  "34": "1",
                  "35": "0"
                },
                {
                  "0": "D2B4723C805C42748F405FDDD94E114C",
                  "1": "067e1246-58f9-4208-be51-14c462016c65",
                  "2": "0",
                  "3": "Discrete Computational Structures 225",
                  "4": "Discrete Computational Structures",
                  "6": "Course in education system",
                  "7": "0",
                  "8": "topics",
                  "9": "1",
                  "10": "1",
                  "11": "2022-01-01T00:00:00.000Z",
                  "12": "2022-06-01T00:00:00.000Z",
                  "13": "0",
                  "14": "0",
                  "15": "0",
                  "16": "0",
                  "17": "0",
                  "18": "1",
                  "19": "1",
                  "20": "null",
                  "21": "0",
                  "22": "0",
                  "23": "0",
                  "24": "en",
                  "25": "gregorian",
                  "27": "2022-01-01T00:00:00.000Z",
                  "28": "0",
                  "29": "0",
                  "30": "0",
                  "31": "0",
                  "32": "0",
                  "33": "067e1246-58f9-4208-be51-14c462016c65",
                  "34": "1",
                  "35": "0"
                },
                {
                  "0": "7307533D0C4143469F22436EF53FDD00",
                  "1": "c399f9f5-439b-47c6-a803-978d2cf6db21",
                  "2": "0",
                  "3": "Gender Communication 334",
                  "4": "Gender Communication",
                  "6": "Course in education system",
                  "7": "0",
                  "8": "topics",
                  "9": "1",
                  "10": "1",
                  "11": "2022-01-01T00:00:00.000Z",
                  "12": "2022-06-01T00:00:00.000Z",
                  "13": "0",
                  "14": "0",
                  "15": "0",
                  "16": "0",
                  "17": "0",
                  "18": "1",
                  "19": "1",
                  "20": "null",
                  "21": "0",
                  "22": "0",
                  "23": "0",
                  "24": "en",
                  "25": "gregorian",
                  "27": "2022-01-01T00:00:00.000Z",
                  "28": "0",
                  "29": "0",
                  "30": "0",
                  "31": "0",
                  "32": "0",
                  "33": "c399f9f5-439b-47c6-a803-978d2cf6db21",
                  "34": "1",
                  "35": "0"
                },
                {
                  "0": "BEB8D1707FEB453A85B387A9C474F08F",
                  "1": "a361f18d-055d-47ba-af57-58f9c4554eec",
                  "2": "0",
                  "3": "Organizational Behavior 308",
                  "4": "Organizational Behavior",
                  "6": "Course in education system",
                  "7": "0",
                  "8": "topics",
                  "9": "1",
                  "10": "1",
                  "11": "2022-01-01T00:00:00.000Z",
                  "12": "2022-06-01T00:00:00.000Z",
                  "13": "0",
                  "14": "0",
                  "15": "0",
                  "16": "0",
                  "17": "0",
                  "18": "1",
                  "19": "1",
                  "20": "null",
                  "21": "0",
                  "22": "0",
                  "23": "0",
                  "24": "en",
                  "25": "gregorian",
                  "27": "2022-01-01T00:00:00.000Z",
                  "28": "0",
                  "29": "0",
                  "30": "0",
                  "31": "0",
                  "32": "0",
                  "33": "a361f18d-055d-47ba-af57-58f9c4554eec",
                  "34": "1",
                  "35": "0"
                }
              ],
              "schema": [
                {
                  "key": "0",
                  "name": "id",
                  "type": "string"
                },
                {
                  "key": "1",
                  "name": "category",
                  "type": "string"
                },
                {
                  "key": "2",
                  "name": "sortorder",
                  "type": "string"
                },
                {
                  "key": "3",
                  "name": "fullname",
                  "type": "string"
                },
                {
                  "key": "4",
                  "name": "shortname",
                  "type": "string"
                },
                {
                  "key": "5",
                  "name": "idnumber",
                  "type": "string"
                },
                {
                  "key": "6",
                  "name": "summary",
                  "type": "string"
                },
                {
                  "key": "7",
                  "name": "summaryformat",
                  "type": "string"
                },
                {
                  "key": "8",
                  "name": "format",
                  "type": "string"
                },
                {
                  "key": "9",
                  "name": "showgrades",
                  "type": "string"
                },
                {
                  "key": "10",
                  "name": "newsitems",
                  "type": "string"
                },
                {
                  "key": "11",
                  "name": "startdate",
                  "type": "string"
                },
                {
                  "key": "12",
                  "name": "enddate",
                  "type": "string"
                },
                {
                  "key": "13",
                  "name": "relativedatesmode",
                  "type": "string"
                },
                {
                  "key": "14",
                  "name": "marker",
                  "type": "string"
                },
                {
                  "key": "15",
                  "name": "maxbytes",
                  "type": "string"
                },
                {
                  "key": "16",
                  "name": "legacyfiles",
                  "type": "string"
                },
                {
                  "key": "17",
                  "name": "showreports",
                  "type": "string"
                },
                {
                  "key": "18",
                  "name": "visible",
                  "type": "string"
                },
                {
                  "key": "19",
                  "name": "visibleold",
                  "type": "string"
                },
                {
                  "key": "20",
                  "name": "downloadcontent",
                  "type": "string"
                },
                {
                  "key": "21",
                  "name": "groupmode",
                  "type": "string"
                },
                {
                  "key": "22",
                  "name": "groupmodeforce",
                  "type": "string"
                },
                {
                  "key": "23",
                  "name": "defaultgroupingid",
                  "type": "string"
                },
                {
                  "key": "24",
                  "name": "lang",
                  "type": "string"
                },
                {
                  "key": "25",
                  "name": "calendartype",
                  "type": "string"
                },
                {
                  "key": "26",
                  "name": "theme",
                  "type": "string"
                },
                {
                  "key": "27",
                  "name": "timecreated",
                  "type": "string"
                },
                {
                  "key": "28",
                  "name": "timemodified",
                  "type": "string"
                },
                {
                  "key": "29",
                  "name": "requested",
                  "type": "string"
                },
                {
                  "key": "30",
                  "name": "enablecompletion",
                  "type": "string"
                },
                {
                  "key": "31",
                  "name": "completionnotify",
                  "type": "string"
                },
                {
                  "key": "32",
                  "name": "cacherev",
                  "type": "string"
                },
                {
                  "key": "33",
                  "name": "originalcourseid",
                  "type": "string"
                },
                {
                  "key": "34",
                  "name": "showactivitydates",
                  "type": "string"
                },
                {
                  "key": "35",
                  "name": "showcompletionconditions",
                  "type": "string"
                }
              ],
              "truncated": false
            },
            "isSummary": false,
            "language": "scala"
          },
          "persist_state": {
            "view": {
              "type": "details",
              "tableOptions": {},
              "chartOptions": {
                "chartType": "bar",
                "aggregationType": "count",
                "categoryFieldKeys": [
                  "0"
                ],
                "seriesFieldKeys": [
                  "0"
                ],
                "isStacked": false
              }
            }
          }
        }
      }
    }
  },
  "nbformat": 4,
  "nbformat_minor": 2
}