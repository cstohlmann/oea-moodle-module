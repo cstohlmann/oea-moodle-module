{
  "nbformat": 4,
  "nbformat_minor": 2,
  "cells": [
    {
      "cell_type": "markdown",
      "metadata": {
        "nteract": {
          "transient": {
            "deleting": false
          }
        }
      },
      "source": [
        "# Moodle Module - Ingest\r\n",
        "\r\n",
        "This notebook demonstrates the utility of the OEA_py class notebook, and speeding up the process of ingesting the Moodle data.\r\n",
        "\r\n",
        "The steps outlined below describe how this notebook is used to ingest the Moodle module tables:\r\n",
        "\r\n",
        "- Set the workspace for where the tables are located. \r\n",
        "- 1 function is defined and used:\r\n",
        "   1. **oea.ingest**: utilizes the oea.ingest method as normally expected."
      ]
    },
    {
      "cell_type": "code",
      "execution_count": null,
      "outputs": [],
      "metadata": {
        "jupyter": {
          "source_hidden": false,
          "outputs_hidden": false
        },
        "nteract": {
          "transient": {
            "deleting": false
          }
        },
        "tags": [
          "parameters"
        ]
      },
      "source": [
        "workspace = 'dev'"
      ]
    },
    {
      "cell_type": "code",
      "execution_count": null,
      "outputs": [],
      "metadata": {
        "jupyter": {
          "source_hidden": false,
          "outputs_hidden": false
        },
        "nteract": {
          "transient": {
            "deleting": false
          }
        }
      },
      "source": [
        "%run OEA_py"
      ]
    },
    {
      "cell_type": "code",
      "execution_count": null,
      "outputs": [],
      "metadata": {
        "jupyter": {
          "source_hidden": false,
          "outputs_hidden": false
        },
        "nteract": {
          "transient": {
            "deleting": false
          }
        }
      },
      "source": [
        "# 1) set the workspace (this determines where in the data lake you'll be writing to and reading from).\r\n",
        "# You can work in 'dev', 'prod', or a sandbox with any name you choose.\r\n",
        "# For example, Sam the developer can create a 'sam' workspace and expect to find his datasets in the data lake under oea/sandboxes/sam\r\n",
        "oea.set_workspace(workspace)"
      ]
    },
    {
      "cell_type": "code",
      "execution_count": null,
      "outputs": [],
      "metadata": {
        "jupyter": {
          "source_hidden": false,
          "outputs_hidden": false
        },
        "nteract": {
          "transient": {
            "deleting": false
          }
        }
      },
      "source": [
        "# 2) The next step is to ingest the batch data into stage2\r\n",
        "# Note that when you run this the first time, you'll see an info message like \"Number of new inbound rows processed: 2\".\r\n",
        "# If you run this a second time, the number of inbound rows processed will be 0 because the ingestion uses spark structured streaming to keep track of what data has already been processed.\r\n",
        "#options = {'header':True}\r\n",
        "oea.ingest(f'moodle/v0.1/assign', 'id')\r\n",
        "oea.ingest(f'moodle/v0.1/assign_grades', 'id')\r\n",
        "oea.ingest(f'moodle/v0.1/assign_submission', 'id')\r\n",
        "oea.ingest(f'moodle/v0.1/assign_user_mapping', 'id')\r\n",
        "oea.ingest(f'moodle/v0.1/assignsubmission_file', 'id')\r\n",
        "oea.ingest(f'moodle/v0.1/context', 'id')\r\n",
        "oea.ingest(f'moodle/v0.1/course', 'id')\r\n",
        "oea.ingest(f'moodle/v0.1/course_categories', 'id')\r\n",
        "oea.ingest(f'moodle/v0.1/enrol', 'id')\r\n",
        "oea.ingest(f'moodle/v0.1/forum', 'id')\r\n",
        "oea.ingest(f'moodle/v0.1/forum_discussions', 'id')\r\n",
        "oea.ingest(f'moodle/v0.1/forum_grades', 'id')\r\n",
        "oea.ingest(f'moodle/v0.1/lesson', 'id')\r\n",
        "oea.ingest(f'moodle/v0.1/lesson_answers', 'id')\r\n",
        "oea.ingest(f'moodle/v0.1/lesson_attempts', 'id')\r\n",
        "oea.ingest(f'moodle/v0.1/lesson_grades', 'id')\r\n",
        "oea.ingest(f'moodle/v0.1/messages', 'id')\r\n",
        "oea.ingest(f'moodle/v0.1/message_conversations', 'id')\r\n",
        "oea.ingest(f'moodle/v0.1/message_conversation_members', 'id')\r\n",
        "oea.ingest(f'moodle/v0.1/quiz', 'id')\r\n",
        "oea.ingest(f'moodle/v0.1/quiz_attempts', 'id')\r\n",
        "oea.ingest(f'moodle/v0.1/quiz_grades', 'id')\r\n",
        "oea.ingest(f'moodle/v0.1/role', 'id')\r\n",
        "oea.ingest(f'moodle/v0.1/role_assignments', 'id')\r\n",
        "oea.ingest(f'moodle/v0.1/user', 'id')\r\n",
        "oea.ingest(f'moodle/v0.1/user_enrolments', 'id')"
      ]
    }
  ],
  "metadata": {
    "description": "Used for \"2_ingest_moodle\" pipeline.",
    "save_output": true,
    "kernelspec": {
      "name": "synapse_pyspark",
      "display_name": "Synapse PySpark"
    },
    "language_info": {
      "name": "python"
    }
  }
}