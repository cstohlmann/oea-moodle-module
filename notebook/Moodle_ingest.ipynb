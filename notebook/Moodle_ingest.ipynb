{
  "cells": [
    {
      "cell_type": "markdown",
      "source": [
        "# Moodle Module - Ingest\r\n",
        "\r\n",
        "This notebook demonstrates the utility of the OEA_py class notebook, and speeding up the process of ingesting the Moodle data.\r\n",
        "\r\n",
        "The steps outlined below describe how this notebook is used to ingest the Moodle module tables:\r\n",
        "\r\n",
        "- Set the workspace for where the tables are located. \r\n",
        "- 1 function is defined and used:\r\n",
        "   1. **oea.ingest**: utilizes the oea.ingest method as normally expected."
      ],
      "metadata": {
        "nteract": {
          "transient": {
            "deleting": false
          }
        }
      }
    },
    {
      "cell_type": "code",
      "source": [
        "workspace = 'dev'\r\n",
        "version = '4.1'"
      ],
      "outputs": [],
      "execution_count": null,
      "metadata": {
        "jupyter": {
          "source_hidden": false,
          "outputs_hidden": false
        },
        "nteract": {
          "transient": {
            "deleting": false
          }
        },
        "tags": [
          "parameters"
        ]
      }
    },
    {
      "cell_type": "code",
      "source": [
        "%run OEA_py"
      ],
      "outputs": [],
      "execution_count": null,
      "metadata": {
        "jupyter": {
          "source_hidden": false,
          "outputs_hidden": false
        },
        "nteract": {
          "transient": {
            "deleting": false
          }
        }
      }
    },
    {
      "cell_type": "code",
      "source": [
        "# 1) set the workspace (this determines where in the data lake you'll be writing to and reading from).\r\n",
        "# You can work in 'dev', 'prod', or a sandbox with any name you choose.\r\n",
        "# For example, Sam the developer can create a 'sam' workspace and expect to find his datasets in the data lake under oea/sandboxes/sam\r\n",
        "oea.set_workspace(workspace)"
      ],
      "outputs": [],
      "execution_count": null,
      "metadata": {
        "jupyter": {
          "source_hidden": false,
          "outputs_hidden": false
        },
        "nteract": {
          "transient": {
            "deleting": false
          }
        }
      }
    },
    {
      "cell_type": "code",
      "source": [
        "# 2) The next step is to ingest the batch data into stage2\r\n",
        "# Note that when you run this the first time, you'll see an info message like \"Number of new inbound rows processed: 2\".\r\n",
        "# If you run this a second time, the number of inbound rows processed will be 0 because the ingestion uses spark structured streaming to keep track of what data has already been processed.\r\n",
        "oea.ingest(f'moodle/v{version}/assign', 'id')\r\n",
        "oea.ingest(f'moodle/v{version}/assign_grades', 'id')\r\n",
        "oea.ingest(f'moodle/v{version}/assign_submission', 'id')\r\n",
        "oea.ingest(f'moodle/v{version}/assign_user_mapping', 'id')\r\n",
        "oea.ingest(f'moodle/v{version}/assignsubmission_file', 'id')\r\n",
        "oea.ingest(f'moodle/v{version}/cohort', 'id')\r\n",
        "oea.ingest(f'moodle/v{version}/course', 'id')\r\n",
        "oea.ingest(f'moodle/v{version}/course_categories', 'id')\r\n",
        "oea.ingest(f'moodle/v{version}/enrol', 'id')\r\n",
        "oea.ingest(f'moodle/v{version}/forum', 'id')\r\n",
        "oea.ingest(f'moodle/v{version}/forum_discussions', 'id')\r\n",
        "oea.ingest(f'moodle/v{version}/forum_grades', 'id')\r\n",
        "oea.ingest(f'moodle/v{version}/forum_posts', 'id')\r\n",
        "oea.ingest(f'moodle/v{version}/lesson', 'id')\r\n",
        "oea.ingest(f'moodle/v{version}/lesson_answers', 'id')\r\n",
        "oea.ingest(f'moodle/v{version}/lesson_attempts', 'id')\r\n",
        "oea.ingest(f'moodle/v{version}/lesson_grades', 'id')\r\n",
        "oea.ingest(f'moodle/v{version}/lesson_pages', 'id')\r\n",
        "oea.ingest(f'moodle/v{version}/lesson_timer', 'id')\r\n",
        "oea.ingest(f'moodle/v{version}/page', 'id')\r\n",
        "oea.ingest(f'moodle/v{version}/quiz', 'id')\r\n",
        "oea.ingest(f'moodle/v{version}/quiz_attempts', 'id')\r\n",
        "oea.ingest(f'moodle/v{version}/quiz_grades', 'id')\r\n",
        "oea.ingest(f'moodle/v{version}/role', 'id')\r\n",
        "oea.ingest(f'moodle/v{version}/role_assignments', 'id')\r\n",
        "oea.ingest(f'moodle/v{version}/user', 'id')\r\n",
        "oea.ingest(f'moodle/v{version}/user_enrolments', 'id')"
      ],
      "outputs": [],
      "execution_count": null,
      "metadata": {
        "jupyter": {
          "source_hidden": false,
          "outputs_hidden": false
        },
        "nteract": {
          "transient": {
            "deleting": false
          }
        }
      }
    }
  ],
  "metadata": {
    "kernelspec": {
      "name": "synapse_pyspark",
      "display_name": "Synapse PySpark"
    },
    "language_info": {
      "name": "python"
    },
    "description": "Used for \"2_ingest_moodle\" pipeline.",
    "save_output": true,
    "synapse_widget": {
      "version": "0.1",
      "state": {}
    }
  },
  "nbformat": 4,
  "nbformat_minor": 2
}