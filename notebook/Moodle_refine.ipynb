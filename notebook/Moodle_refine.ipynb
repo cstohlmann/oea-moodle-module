{
  "cells": [
    {
      "cell_type": "markdown",
      "source": [
        "# Moodle Module - Refine\r\n",
        "\r\n",
        "This notebook demonstrates the utility of the OEA_py class notebook, and speeding up the process of refining/pseudonymizing the Moodle data. \r\n",
        "\r\n",
        "The steps outlined below describe how this notebook is used to refine tables originally from the Moodle data source:\r\n",
        "\r\n",
        "- Set the workspace for where the tables are located. \r\n",
        "- 3 functions are defined and used:\r\n",
        "   1. **refine_moodle**: almost identical to the ```oea.refine()``` function, except removes the assumption that primary keys are always hashed.\r\n",
        "   2. **refine_moodle_dataset**: uses a simple function that iterate through refining Moodle table currently contained in ```stage2/Ingested/moodle``` of the data lake.\r\n",
        "   3. **oea.add_to_lake_db**: uses the OEA_py function to add the refined Moodle tables that are not automatically added, to the lake db."
      ],
      "metadata": {
        "nteract": {
          "transient": {
            "deleting": false
          }
        }
      }
    },
    {
      "cell_type": "code",
      "source": [
        "workspace = 'dev'\r\n",
        "version = '4.1'"
      ],
      "outputs": [],
      "execution_count": null,
      "metadata": {
        "jupyter": {
          "source_hidden": false,
          "outputs_hidden": false
        },
        "nteract": {
          "transient": {
            "deleting": false
          }
        },
        "tags": [
          "parameters"
        ]
      }
    },
    {
      "cell_type": "code",
      "source": [
        "%run OEA_py"
      ],
      "outputs": [],
      "execution_count": null,
      "metadata": {
        "jupyter": {
          "source_hidden": false,
          "outputs_hidden": false
        },
        "nteract": {
          "transient": {
            "deleting": false
          }
        }
      }
    },
    {
      "cell_type": "code",
      "source": [
        "# 1) set the workspace (this determines where in the data lake you'll be writing to and reading from).\r\n",
        "# You can work in 'dev', 'prod', or a sandbox with any name you choose.\r\n",
        "# For example, Sam the developer can create a 'sam' workspace and expect to find his datasets in the data lake under oea/sandboxes/sam\r\n",
        "oea.set_workspace(workspace)"
      ],
      "outputs": [],
      "execution_count": null,
      "metadata": {
        "jupyter": {
          "source_hidden": false,
          "outputs_hidden": false
        },
        "nteract": {
          "transient": {
            "deleting": false
          }
        }
      }
    },
    {
      "cell_type": "code",
      "source": [
        "def refine_moodle(entity_path, metadata=None, primary_key='id'):\r\n",
        "    source_path = f'stage2/Ingested/{entity_path}'\r\n",
        "    primary_key = oea.fix_column_name(primary_key) # fix the column name, in case it has a space in it or some other invalid character\r\n",
        "    path_dict = oea.parse_path(source_path)\r\n",
        "    sink_general_path = path_dict['entity_parent_path'].replace('Ingested', 'Refined') + '/general/' + path_dict['entity']\r\n",
        "    sink_sensitive_path = path_dict['entity_parent_path'].replace('Ingested', 'Refined') + '/sensitive/' + path_dict['entity'] + '_lookup'\r\n",
        "    if not metadata:\r\n",
        "        all_metadata = oea.get_metadata_from_path(path_dict['entity_parent_path'])\r\n",
        "        metadata = all_metadata[path_dict['entity']]\r\n",
        "\r\n",
        "    df_changes = oea.get_latest_changes(source_path, sink_general_path)\r\n",
        "    spark_schema = oea.to_spark_schema(metadata)\r\n",
        "    df_changes = oea.modify_schema(df_changes, spark_schema)        \r\n",
        "\r\n",
        "    if df_changes.count() > 0:\r\n",
        "        df_pseudo, df_lookup = oea.pseudonymize(df_changes, metadata)\r\n",
        "        oea.upsert(df_pseudo, sink_general_path, primary_key) # todo: remove this assumption that the primary key will always be hashed during pseduonymization\r\n",
        "        oea.upsert(df_lookup, sink_sensitive_path, primary_key)    \r\n",
        "        oea.add_to_lake_db(sink_general_path)\r\n",
        "        oea.add_to_lake_db(sink_sensitive_path)\r\n",
        "        logger.info(f'Processed {df_changes.count()} updated rows from {source_path} into stage2/Refined')\r\n",
        "    else:\r\n",
        "        logger.info(f'No updated rows in {source_path} to process.')\r\n",
        "    return df_changes.count()"
      ],
      "outputs": [],
      "execution_count": null,
      "metadata": {
        "jupyter": {
          "source_hidden": false,
          "outputs_hidden": false
        },
        "nteract": {
          "transient": {
            "deleting": false
          }
        }
      }
    },
    {
      "cell_type": "code",
      "source": [
        "# 2) this step refines the data through the use of metadata (this is where the pseudonymization of the data occurs).\r\n",
        "def refine_moodle_dataset(tables_source):\r\n",
        "    items = oea.get_folders(tables_source)\r\n",
        "    for item in items: \r\n",
        "        table_path = tables_source +'/'+ item\r\n",
        "        if item == 'metadata.csv':\r\n",
        "            logger.info('ignore metadata processing, since this is not a table to be ingested')\r\n",
        "        else:\r\n",
        "            try:\r\n",
        "                if item == 'assign':\r\n",
        "                    refine_moodle(f'moodle/v{version}/assign', metadata[item], 'id_pseudonym')\r\n",
        "                elif item == 'user':\r\n",
        "                    refine_moodle(f'moodle/v{version}}/user', metadata[item], 'id_pseudonym')\r\n",
        "                else:\r\n",
        "                    refine_moodle(f'moodle/v{version}/{item}', metadata[item], 'id')\r\n",
        "            except AnalysisException as e:\r\n",
        "                # This means the table may have not been properly refined due to errors with the primary key not aligning with columns expected in the lookup table.\r\n",
        "                pass\r\n",
        "            \r\n",
        "            logger.info('Refined table: ' + item + ' from: ' + table_path)\r\n",
        "    logger.info('Finished refining Moodle tables')"
      ],
      "outputs": [],
      "execution_count": null,
      "metadata": {
        "jupyter": {
          "source_hidden": false,
          "outputs_hidden": false
        },
        "nteract": {
          "transient": {
            "deleting": false
          }
        }
      }
    },
    {
      "cell_type": "code",
      "source": [
        "metadata = oea.get_metadata_from_url('https://raw.githubusercontent.com/microsoft/OpenEduAnalytics/main/modules/module_catalog/Moodle/test_data/metadata.csv')\r\n",
        "refine_moodle_dataset(f'stage2/Ingested/moodle/v{version}}')"
      ],
      "outputs": [],
      "execution_count": null,
      "metadata": {
        "jupyter": {
          "source_hidden": false,
          "outputs_hidden": false
        },
        "nteract": {
          "transient": {
            "deleting": false
          }
        }
      }
    },
    {
      "cell_type": "code",
      "source": [
        "# Add the refined tables to the lake db manually (code currently does not handle auto-adding tables to the lake db, when the lookup table is not created)\r\n",
        "oea.add_to_lake_db(f'stage2/Refined/moodle/v{version}/general/assign_grades')\r\n",
        "oea.add_to_lake_db(f'stage2/Refined/moodle/v{version}/general/assign_submission')\r\n",
        "oea.add_to_lake_db(f'stage2/Refined/moodle/v{version}/general/assign_user_mapping')\r\n",
        "oea.add_to_lake_db(f'stage2/Refined/moodle/v{version}/general/assignsubmission_file')\r\n",
        "oea.add_to_lake_db(f'stage2/Refined/moodle/v{version}/general/cohort')\r\n",
        "oea.add_to_lake_db(f'stage2/Refined/moodle/v{version}/general/course')\r\n",
        "oea.add_to_lake_db(f'stage2/Refined/moodle/v{version}/general/course_categories')\r\n",
        "oea.add_to_lake_db(f'stage2/Refined/moodle/v{version}/general/enrol')\r\n",
        "oea.add_to_lake_db(f'stage2/Refined/moodle/v{version}/general/forum')\r\n",
        "oea.add_to_lake_db(f'stage2/Refined/moodle/v{version}/general/forum_discussions')\r\n",
        "oea.add_to_lake_db(f'stage2/Refined/moodle/v{version}/general/forum_grades')\r\n",
        "oea.add_to_lake_db(f'stage2/Refined/moodle/v{version}/general/forum_posts')\r\n",
        "oea.add_to_lake_db(f'stage2/Refined/moodle/v{version}/general/lesson')\r\n",
        "oea.add_to_lake_db(f'stage2/Refined/moodle/v{version}/general/lesson_answers')\r\n",
        "oea.add_to_lake_db(f'stage2/Refined/moodle/v{version}/general/lesson_attempts')\r\n",
        "oea.add_to_lake_db(f'stage2/Refined/moodle/v{version}/general/lesson_grades')\r\n",
        "oea.add_to_lake_db(f'stage2/Refined/moodle/v{version}/general/lesson_pages')\r\n",
        "oea.add_to_lake_db(f'stage2/Refined/moodle/v{version}/general/lesson_timer')\r\n",
        "oea.add_to_lake_db(f'stage2/Refined/moodle/v{version}/general/page')\r\n",
        "oea.add_to_lake_db(f'stage2/Refined/moodle/v{version}/general/quiz')\r\n",
        "oea.add_to_lake_db(f'stage2/Refined/moodle/v{version}/general/quiz_attempts')\r\n",
        "oea.add_to_lake_db(f'stage2/Refined/moodle/v{version}/general/quiz_grades')\r\n",
        "oea.add_to_lake_db(f'stage2/Refined/moodle/v{version}/general/role')\r\n",
        "oea.add_to_lake_db(f'stage2/Refined/moodle/v{version}/general/role_assignments')\r\n",
        "oea.add_to_lake_db(f'stage2/Refined/moodle/v{version}/general/user_enrolments')"
      ],
      "outputs": [],
      "execution_count": null,
      "metadata": {
        "jupyter": {
          "source_hidden": false,
          "outputs_hidden": false
        },
        "nteract": {
          "transient": {
            "deleting": false
          }
        }
      }
    }
  ],
  "metadata": {
    "kernelspec": {
      "name": "synapse_pyspark",
      "display_name": "python"
    },
    "language_info": {
      "name": "python"
    },
    "description": "Used for \"3_refine_moodle\" pipeline.",
    "save_output": true,
    "synapse_widget": {
      "version": "0.1",
      "state": {}
    }
  },
  "nbformat": 4,
  "nbformat_minor": 2
}