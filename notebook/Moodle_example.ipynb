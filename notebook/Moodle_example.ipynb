{
  "cells": [
    {
      "cell_type": "markdown",
      "source": [
        "# Test for processing Moodle data\r\n",
        "\r\n",
        "This notebook demonstrates possible data processing and exploration of the Moodle data, using the OEA_py class notebook. \r\n",
        "\r\n",
        "Most of the data processing done in this notebook are also achieved by executing the Moodle module main pipeline. This notebook is designed as an alternate approach to the same processing, as well as module data exploration and visualization. \r\n",
        "\r\n",
        "The steps are clearly outlined below:\r\n",
        "1. Set the workspace,\r\n",
        "2. Land Moodle Module Higher Ed. Test Data,\r\n",
        "3. Ingest the Moodle Module Test Data,\r\n",
        "4. Refine the Moodle Module Test Data, \r\n",
        "5. Demonstrate Lake Database Queries/Final Remarks, and\r\n",
        "6. Appendix"
      ],
      "metadata": {
        "nteract": {
          "transient": {
            "deleting": false
          }
        }
      }
    },
    {
      "cell_type": "code",
      "source": [
        "%run OEA_py"
      ],
      "outputs": [],
      "execution_count": null,
      "metadata": {
        "jupyter": {
          "source_hidden": false,
          "outputs_hidden": false
        },
        "nteract": {
          "transient": {
            "deleting": false
          }
        }
      }
    },
    {
      "cell_type": "code",
      "source": [
        "# 1) set the workspace (this determines where in the data lake you'll be writing to and reading from).\r\n",
        "# You can work in 'dev', 'prod', or a sandbox with any name you choose.\r\n",
        "# For example, Sam the developer can create a 'sam' workspace and expect to find his datasets in the data lake under oea/sandboxes/sam\r\n",
        "oea.set_workspace('dev')"
      ],
      "outputs": [],
      "execution_count": null,
      "metadata": {
        "jupyter": {
          "source_hidden": false,
          "outputs_hidden": false
        },
        "nteract": {
          "transient": {
            "deleting": false
          }
        }
      }
    },
    {
      "cell_type": "markdown",
      "source": [
        "## 2.) Land Moodle Module Higher Ed. Test Data\r\n",
        "\r\n",
        "Directory: ```GitHub.com (raw data) -> stage1/Transactional/moodle```\r\n",
        "\r\n",
        "The code block below lands 27 OEA Moodle module test data tables, formatted as Moodle Higher Ed. data in your data lake. \r\n",
        "\r\n",
        "Moodle test data tables landed in stage 1:\r\n",
        " 1. **assign**\r\n",
        " 2. **assign_grades**\r\n",
        " 3. **assign_submission**\r\n",
        " 4. **assignsubmission_file**\r\n",
        " 5. **assign_user_mapping**\r\n",
        " 6. **cohort**\r\n",
        " 7. **course**\r\n",
        " 8. **course_categories**\r\n",
        " 9. **enrol**\r\n",
        " 10. **forum**\r\n",
        " 11. **forum_discussions**\r\n",
        " 12. **forum_posts** \r\n",
        " 13. **forum_grades**\r\n",
        " 14. **lesson**\r\n",
        " 15. **lesson_answers**\r\n",
        " 16. **lesson_attempts**\r\n",
        " 17. **lesson_grades**\r\n",
        " 18. **lesson_pages** \r\n",
        " 19. **lesson_timer** \r\n",
        " 20. **page** \r\n",
        " 21. **quiz**\r\n",
        " 22. **quiz_attempts**\r\n",
        " 23. **quiz_grades**\r\n",
        " 24. **role**\r\n",
        " 25. **role_assignments**\r\n",
        " 26. **user** \r\n",
        " 27. **user_enrolments**"
      ],
      "metadata": {
        "nteract": {
          "transient": {
            "deleting": false
          }
        }
      }
    },
    {
      "cell_type": "code",
      "source": [
        "# 2.1) Land batch data files into stage1 of the data lake.\r\n",
        "# In this example we pull Moodle HEd test csv data files from github and land it in oea/sandboxes/sam/stage1/Transactional/moodle/v4.1\r\n",
        "data = requests.get('https://raw.githubusercontent.com/microsoft/OpenEduAnalytics/main/modules/module_catalog/Moodle/test_data/hed_test_data/cohort.csv').text\r\n",
        "oea.land(data, 'moodle/v4.1/cohort', 'cohort_hed_test_data.csv', oea.SNAPSHOT_BATCH_DATA)\r\n",
        "data = requests.get('https://raw.githubusercontent.com/microsoft/OpenEduAnalytics/main/modules/module_catalog/Moodle/test_data/hed_test_data/course.csv').text\r\n",
        "oea.land(data, 'moodle/v4.1/course', 'course_hed_test_data.csv', oea.SNAPSHOT_BATCH_DATA)\r\n",
        "data = requests.get('https://raw.githubusercontent.com/microsoft/OpenEduAnalytics/main/modules/module_catalog/Moodle/test_data/hed_test_data/course_categories.csv').text\r\n",
        "oea.land(data, 'moodle/v4.1/course_categories', 'coursecategories_hed_test_data.csv', oea.SNAPSHOT_BATCH_DATA)\r\n",
        "data = requests.get('https://raw.githubusercontent.com/microsoft/OpenEduAnalytics/main/modules/module_catalog/Moodle/test_data/hed_test_data/enrol.csv').text\r\n",
        "oea.land(data, 'moodle/v4.1/enrol', 'enrol_hed_test_data.csv', oea.SNAPSHOT_BATCH_DATA)\r\n",
        "data = requests.get('https://raw.githubusercontent.com/microsoft/OpenEduAnalytics/main/modules/module_catalog/Moodle/test_data/hed_test_data/role.csv').text\r\n",
        "oea.land(data, 'moodle/v4.1/role', 'role_hed_test_data.csv', oea.SNAPSHOT_BATCH_DATA)\r\n",
        "data = requests.get('https://raw.githubusercontent.com/microsoft/OpenEduAnalytics/main/modules/module_catalog/Moodle/test_data/hed_test_data/role_assignments.csv').text\r\n",
        "oea.land(data, 'moodle/v4.1/role_assignments', 'roleassignments_hed_test_data.csv', oea.SNAPSHOT_BATCH_DATA)\r\n",
        "data = requests.get('https://raw.githubusercontent.com/microsoft/OpenEduAnalytics/main/modules/module_catalog/Moodle/test_data/hed_test_data/user.csv').text\r\n",
        "oea.land(data, 'moodle/v4.1/user', 'user_hed_test_data.csv', oea.SNAPSHOT_BATCH_DATA)\r\n",
        "\r\n",
        "data = requests.get('https://raw.githubusercontent.com/microsoft/OpenEduAnalytics/main/modules/module_catalog/Moodle/test_data/hed_test_data/page.csv').text\r\n",
        "oea.land(data, 'moodle/v4.1/page', 'page_hed_test_data.csv', oea.DELTA_BATCH_DATA)\r\n",
        "data = requests.get('https://raw.githubusercontent.com/microsoft/OpenEduAnalytics/main/modules/module_catalog/Moodle/test_data/hed_test_data/user_enrolments.csv').text\r\n",
        "oea.land(data, 'moodle/v4.1/user_enrolments', 'userenrolments_hed_test_data.csv', oea.DELTA_BATCH_DATA)\r\n",
        "\r\n",
        "data = requests.get('https://raw.githubusercontent.com/microsoft/OpenEduAnalytics/main/modules/module_catalog/Moodle/test_data/hed_test_data/assign.csv').text\r\n",
        "oea.land(data, 'moodle/v4.1/assign', 'assign_hed_test_data.csv', oea.ADDITIVE_BATCH_DATA)\r\n",
        "data = requests.get('https://raw.githubusercontent.com/microsoft/OpenEduAnalytics/main/modules/module_catalog/Moodle/test_data/hed_test_data/assign_grades.csv').text\r\n",
        "oea.land(data, 'moodle/v4.1/assign_grades', 'assigngrades_hed_test_data.csv', oea.ADDITIVE_BATCH_DATA)\r\n",
        "data = requests.get('https://raw.githubusercontent.com/microsoft/OpenEduAnalytics/main/modules/module_catalog/Moodle/test_data/hed_test_data/assign_submission.csv').text\r\n",
        "oea.land(data, 'moodle/v4.1/assign_submission', 'assignsubmission_hed_test_data.csv', oea.ADDITIVE_BATCH_DATA)\r\n",
        "data = requests.get('https://raw.githubusercontent.com/microsoft/OpenEduAnalytics/main/modules/module_catalog/Moodle/test_data/hed_test_data/assignsubmission_file.csv').text\r\n",
        "oea.land(data, 'moodle/v4.1/assignsubmission_file', 'assignsubmissionfile_hed_test_data.csv', oea.ADDITIVE_BATCH_DATA)\r\n",
        "data = requests.get('https://raw.githubusercontent.com/microsoft/OpenEduAnalytics/main/modules/module_catalog/Moodle/test_data/hed_test_data/assign_user_mapping.csv').text\r\n",
        "oea.land(data, 'moodle/v4.1/assign_user_mapping', 'assignusermapping_hed_test_data.csv', oea.ADDITIVE_BATCH_DATA)\r\n",
        "data = requests.get('https://raw.githubusercontent.com/microsoft/OpenEduAnalytics/main/modules/module_catalog/Moodle/test_data/hed_test_data/forum.csv').text\r\n",
        "oea.land(data, 'moodle/v4.1/forum', 'forum_hed_test_data.csv', oea.ADDITIVE_BATCH_DATA)\r\n",
        "data = requests.get('https://raw.githubusercontent.com/microsoft/OpenEduAnalytics/main/modules/module_catalog/Moodle/test_data/hed_test_data/forum_discussions.csv').text\r\n",
        "oea.land(data, 'moodle/v4.1/forum_discussions', 'forumdiscussions_hed_test_data.csv', oea.ADDITIVE_BATCH_DATA)\r\n",
        "data = requests.get('https://raw.githubusercontent.com/microsoft/OpenEduAnalytics/main/modules/module_catalog/Moodle/test_data/hed_test_data/forum_grades.csv').text\r\n",
        "oea.land(data, 'moodle/v4.1/forum_grades', 'forumgrades_hed_test_data.csv', oea.ADDITIVE_BATCH_DATA)\r\n",
        "data = requests.get('https://raw.githubusercontent.com/microsoft/OpenEduAnalytics/main/modules/module_catalog/Moodle/test_data/hed_test_data/forum_posts.csv').text\r\n",
        "oea.land(data, 'moodle/v4.1/forum_posts', 'forumposts_hed_test_data.csv', oea.ADDITIVE_BATCH_DATA)\r\n",
        "data = requests.get('https://raw.githubusercontent.com/microsoft/OpenEduAnalytics/main/modules/module_catalog/Moodle/test_data/hed_test_data/lesson.csv').text\r\n",
        "oea.land(data, 'moodle/v4.1/lesson', 'lesson_hed_test_data.csv', oea.ADDITIVE_BATCH_DATA)\r\n",
        "data = requests.get('https://raw.githubusercontent.com/microsoft/OpenEduAnalytics/main/modules/module_catalog/Moodle/test_data/hed_test_data/lesson_answers.csv').text\r\n",
        "oea.land(data, 'moodle/v4.1/lesson_answers', 'lessonanswers_hed_test_data.csv', oea.ADDITIVE_BATCH_DATA)\r\n",
        "data = requests.get('https://raw.githubusercontent.com/microsoft/OpenEduAnalytics/main/modules/module_catalog/Moodle/test_data/hed_test_data/lesson_attempts.csv').text\r\n",
        "oea.land(data, 'moodle/v4.1/lesson_attempts', 'lessonattempts_hed_test_data.csv', oea.ADDITIVE_BATCH_DATA)\r\n",
        "data = requests.get('https://raw.githubusercontent.com/microsoft/OpenEduAnalytics/main/modules/module_catalog/Moodle/test_data/hed_test_data/lesson_grades.csv').text\r\n",
        "oea.land(data, 'moodle/v4.1/lesson_grades', 'lessongrades_hed_test_data.csv', oea.ADDITIVE_BATCH_DATA)\r\n",
        "data = requests.get('https://raw.githubusercontent.com/microsoft/OpenEduAnalytics/main/modules/module_catalog/Moodle/test_data/hed_test_data/lesson_pages.csv').text\r\n",
        "oea.land(data, 'moodle/v4.1/lesson_pages', 'lessonpages_hed_test_data.csv', oea.ADDITIVE_BATCH_DATA)\r\n",
        "data = requests.get('https://raw.githubusercontent.com/microsoft/OpenEduAnalytics/main/modules/module_catalog/Moodle/test_data/hed_test_data/lesson_timer.csv').text\r\n",
        "oea.land(data, 'moodle/v4.1/lesson_timer', 'lessontimer_hed_test_data.csv', oea.ADDITIVE_BATCH_DATA)\r\n",
        "data = requests.get('https://raw.githubusercontent.com/microsoft/OpenEduAnalytics/main/modules/module_catalog/Moodle/test_data/hed_test_data/quiz.csv').text\r\n",
        "oea.land(data, 'moodle/v4.1/quiz', 'quiz_hed_test_data.csv', oea.ADDITIVE_BATCH_DATA)\r\n",
        "data = requests.get('https://raw.githubusercontent.com/microsoft/OpenEduAnalytics/main/modules/module_catalog/Moodle/test_data/hed_test_data/quiz_attempts.csv').text\r\n",
        "oea.land(data, 'moodle/v4.1/quiz_attempts', 'quizattempts_hed_test_data.csv', oea.ADDITIVE_BATCH_DATA)\r\n",
        "data = requests.get('https://raw.githubusercontent.com/microsoft/OpenEduAnalytics/main/modules/module_catalog/Moodle/test_data/hed_test_data/quiz_grades.csv').text\r\n",
        "oea.land(data, 'moodle/v4.1/quiz_grades', 'quizgrades_hed_test_data.csv', oea.ADDITIVE_BATCH_DATA)"
      ],
      "outputs": [],
      "execution_count": null,
      "metadata": {
        "jupyter": {
          "source_hidden": false,
          "outputs_hidden": false
        },
        "nteract": {
          "transient": {
            "deleting": false
          }
        }
      }
    },
    {
      "cell_type": "markdown",
      "source": [
        "## 3.) Ingest the Moodle Module Test Data\r\n",
        "\r\n",
        "Directory: ```stage1/Transactional/moodle -> stage2/Ingested/moodle```\r\n",
        "\r\n",
        "This step ingests the Moodle module test data from stage1 to stage2/Ingested.\r\n",
        "\r\n",
        "The code blocks in this step ingest the data using the ```oea.ingest()``` function as normal.\r\n",
        "\r\n",
        "**To-Do's:**\r\n",
        " - Check if Moodle test data accurately reflects actual (production) Moodle data."
      ],
      "metadata": {
        "nteract": {
          "transient": {
            "deleting": false
          }
        }
      }
    },
    {
      "cell_type": "code",
      "source": [
        "# NOTE: RUN THIS CODEBLOCK; not the one below\r\n",
        "# 3) The next step is to ingest the batch data into stage2\r\n",
        "# Note that when you run this the first time, you'll see an info message like \"Number of new inbound rows processed: 2\".\r\n",
        "# If you run this a second time, the number of inbound rows processed will be 0 because the ingestion uses spark structured streaming to keep track of what data has already been processed.\r\n",
        "oea.ingest(f'moodle/v4.1/assign', 'id')\r\n",
        "oea.ingest(f'moodle/v4.1/assign_grades', 'id')\r\n",
        "oea.ingest(f'moodle/v4.1/assign_submission', 'id')\r\n",
        "oea.ingest(f'moodle/v4.1/assign_user_mapping', 'id')\r\n",
        "oea.ingest(f'moodle/v4.1/assignsubmission_file', 'id')\r\n",
        "oea.ingest(f'moodle/v4.1/cohort', 'id')\r\n",
        "oea.ingest(f'moodle/v4.1/course', 'id')\r\n",
        "oea.ingest(f'moodle/v4.1/course_categories', 'id')\r\n",
        "oea.ingest(f'moodle/v4.1/enrol', 'id')\r\n",
        "oea.ingest(f'moodle/v4.1/forum', 'id')\r\n",
        "oea.ingest(f'moodle/v4.1/forum_discussions', 'id')\r\n",
        "oea.ingest(f'moodle/v4.1/forum_grades', 'id')\r\n",
        "oea.ingest(f'moodle/v4.1/forum_posts', 'id')\r\n",
        "oea.ingest(f'moodle/v4.1/lesson', 'id')\r\n",
        "oea.ingest(f'moodle/v4.1/lesson_answers', 'id')\r\n",
        "oea.ingest(f'moodle/v4.1/lesson_attempts', 'id')\r\n",
        "oea.ingest(f'moodle/v4.1/lesson_grades', 'id')\r\n",
        "oea.ingest(f'moodle/v4.1/lesson_pages', 'id')\r\n",
        "oea.ingest(f'moodle/v4.1/lesson_timer', 'id')\r\n",
        "oea.ingest(f'moodle/v4.1/page', 'id')\r\n",
        "oea.ingest(f'moodle/v4.1/quiz', 'id')\r\n",
        "oea.ingest(f'moodle/v4.1/quiz_attempts', 'id')\r\n",
        "oea.ingest(f'moodle/v4.1/quiz_grades', 'id')\r\n",
        "oea.ingest(f'moodle/v4.1/role', 'id')\r\n",
        "oea.ingest(f'moodle/v4.1/role_assignments', 'id')\r\n",
        "oea.ingest(f'moodle/v4.1/user', 'id')\r\n",
        "oea.ingest(f'moodle/v4.1/user_enrolments', 'id')"
      ],
      "outputs": [],
      "execution_count": null,
      "metadata": {
        "jupyter": {
          "source_hidden": false,
          "outputs_hidden": false
        },
        "nteract": {
          "transient": {
            "deleting": false
          }
        }
      }
    },
    {
      "cell_type": "code",
      "source": [
        "# 3.5) Now you can run queries against the auto-generated \"lake database\" with the ingested Moodle data.\r\n",
        "df = spark.sql(\"select * from ldb_dev_s2i_moodle_v4p1.course\")\r\n",
        "display(df.limit(10))"
      ],
      "outputs": [],
      "execution_count": null,
      "metadata": {
        "jupyter": {
          "source_hidden": false,
          "outputs_hidden": false
        },
        "nteract": {
          "transient": {
            "deleting": false
          }
        },
        "collapsed": false
      }
    },
    {
      "cell_type": "markdown",
      "source": [
        "## 4.) Refine the Moodle Module Test Data\r\n",
        "\r\n",
        "Directory: ```stage2/Ingested/moodle -> stage2/Refined/moodle```\r\n",
        "\r\n",
        "This step then refines the Moodle test data from stage2/Ingested to stage2/Refined, using the metadata.csv. This step is responsible for pseudonymization, which preserves sensitive student information by either hashing or masking the sensitive columns. \r\n",
        "\r\n",
        "Tables are separated into either ```stage2/Refined/moodle/v4.1/general``` or ```stage2/Refined/moodle/v4.1/sensitive```, depending on whether each table is pseudonymized or has a sensitive column-hashing/masking mapping, respectively.\r\n"
      ],
      "metadata": {
        "nteract": {
          "transient": {
            "deleting": false
          }
        }
      }
    },
    {
      "cell_type": "code",
      "source": [
        "def refine_moodle(entity_path, metadata=None, primary_key='id'):\r\n",
        "    source_path = f'stage2/Ingested/{entity_path}'\r\n",
        "    primary_key = oea.fix_column_name(primary_key) # fix the column name, in case it has a space in it or some other invalid character\r\n",
        "    path_dict = oea.parse_path(source_path)\r\n",
        "    sink_general_path = path_dict['entity_parent_path'].replace('Ingested', 'Refined') + '/general/' + path_dict['entity']\r\n",
        "    sink_sensitive_path = path_dict['entity_parent_path'].replace('Ingested', 'Refined') + '/sensitive/' + path_dict['entity'] + '_lookup'\r\n",
        "    if not metadata:\r\n",
        "        all_metadata = oea.get_metadata_from_path(path_dict['entity_parent_path'])\r\n",
        "        metadata = all_metadata[path_dict['entity']]\r\n",
        "\r\n",
        "    df_changes = oea.get_latest_changes(source_path, sink_general_path)\r\n",
        "    spark_schema = oea.to_spark_schema(metadata)\r\n",
        "    df_changes = oea.modify_schema(df_changes, spark_schema)        \r\n",
        "\r\n",
        "    if df_changes.count() > 0:\r\n",
        "        df_pseudo, df_lookup = oea.pseudonymize(df_changes, metadata)\r\n",
        "        oea.upsert(df_pseudo, sink_general_path, primary_key) # todo: remove this assumption that the primary key will always be hashed during pseduonymization\r\n",
        "        oea.upsert(df_lookup, sink_sensitive_path, primary_key)    \r\n",
        "        oea.add_to_lake_db(sink_general_path)\r\n",
        "        oea.add_to_lake_db(sink_sensitive_path)\r\n",
        "        logger.info(f'Processed {df_changes.count()} updated rows from {source_path} into stage2/Refined')\r\n",
        "    else:\r\n",
        "        logger.info(f'No updated rows in {source_path} to process.')\r\n",
        "    return df_changes.count()"
      ],
      "outputs": [],
      "execution_count": null,
      "metadata": {
        "jupyter": {
          "source_hidden": false,
          "outputs_hidden": false
        },
        "nteract": {
          "transient": {
            "deleting": false
          }
        }
      }
    },
    {
      "cell_type": "code",
      "source": [
        "# 4) this step refines the data through the use of metadata (this is where the pseudonymization of the data occurs).\r\n",
        "def refine_moodle_dataset(tables_source):\r\n",
        "    items = oea.get_folders(tables_source)\r\n",
        "    for item in items: \r\n",
        "        table_path = tables_source +'/'+ item\r\n",
        "        if item == 'metadata.csv':\r\n",
        "            logger.info('ignore metadata processing, since this is not a table to be ingested')\r\n",
        "        else:\r\n",
        "            try:\r\n",
        "                if item == 'assign':\r\n",
        "                    refine_moodle('moodle/v0.1/assign', metadata[item], 'id_pseudonym')\r\n",
        "                elif item == 'user':\r\n",
        "                    refine_moodle('moodle/v0.1/user', metadata[item], 'id_pseudonym')\r\n",
        "                else:\r\n",
        "                    refine_moodle('moodle/v0.1/' + item, metadata[item], 'id')\r\n",
        "            except AnalysisException as e:\r\n",
        "                # This means the table may have not been properly refined due to errors with the primary key not aligning with columns expected in the lookup table.\r\n",
        "                pass\r\n",
        "            \r\n",
        "            logger.info('Refined table: ' + item + ' from: ' + table_path)\r\n",
        "    logger.info('Finished refining Moodle tables')"
      ],
      "outputs": [],
      "execution_count": null,
      "metadata": {
        "jupyter": {
          "source_hidden": false,
          "outputs_hidden": false
        },
        "nteract": {
          "transient": {
            "deleting": false
          }
        }
      }
    },
    {
      "cell_type": "code",
      "source": [
        "metadata = oea.get_metadata_from_url('https://raw.githubusercontent.com/microsoft/OpenEduAnalytics/main/modules/module_catalog/Moodle/test_data/metadata.csv')\r\n",
        "refine_moodle_dataset('stage2/Ingested/moodle/v4.1')"
      ],
      "outputs": [],
      "execution_count": null,
      "metadata": {
        "jupyter": {
          "source_hidden": false,
          "outputs_hidden": false
        },
        "nteract": {
          "transient": {
            "deleting": false
          }
        }
      }
    },
    {
      "cell_type": "markdown",
      "source": [
        "## 5.) Demonstrate Lake Database Queries/Final Remarks"
      ],
      "metadata": {
        "nteract": {
          "transient": {
            "deleting": false
          }
        }
      }
    },
    {
      "cell_type": "code",
      "source": [
        "oea.add_to_lake_db('stage2/Refined/moodle/v4.1/general/assign')"
      ],
      "outputs": [],
      "execution_count": null,
      "metadata": {
        "jupyter": {
          "source_hidden": false,
          "outputs_hidden": false
        },
        "nteract": {
          "transient": {
            "deleting": false
          }
        }
      }
    },
    {
      "cell_type": "code",
      "source": [
        "oea.add_to_lake_db('stage2/Refined/moodle/v4.1/general/course')"
      ],
      "outputs": [],
      "execution_count": null,
      "metadata": {
        "jupyter": {
          "source_hidden": false,
          "outputs_hidden": false
        },
        "nteract": {
          "transient": {
            "deleting": false
          }
        }
      }
    },
    {
      "cell_type": "code",
      "source": [
        "# 5) Now you can query the refined data tables in the lake db\r\n",
        "df = spark.sql(\"select * from ldb_dev_s2r_moodle_v4p1.assign\")\r\n",
        "display(df)\r\n",
        "df.printSchema()\r\n",
        "df = spark.sql(\"select * from ldb_dev_s2r_moodle_v4p1.course\")\r\n",
        "display(df)\r\n",
        "df.printSchema()\r\n",
        "# You can use the \"lookup\" table for joins (people with restricted access won't be able to perform this query because they won't have access to data in the \"sensitive\" folder in the data lake)\r\n",
        "df = spark.sql(\"select c.fullname, c.id, a.id_pseudonym, a.name, a.nosubmissions, a.maxattempts, a.grade from ldb_dev_s2r_moodle_v4p1.course c, ldb_dev_s2r_moodle_v4p1.assign a where c.id = a.course\")\r\n",
        "display(df)"
      ],
      "outputs": [],
      "execution_count": null,
      "metadata": {
        "jupyter": {
          "source_hidden": false,
          "outputs_hidden": false
        },
        "nteract": {
          "transient": {
            "deleting": false
          }
        },
        "collapsed": false
      }
    },
    {
      "cell_type": "code",
      "source": [
        "# Run this cell to reset this example (deleting all the example Moodle data in your workspace)\r\n",
        "oea.rm_if_exists('stage1/Transactional/moodle')\r\n",
        "oea.rm_if_exists('stage2/Ingested/moodle')\r\n",
        "oea.rm_if_exists('stage2/Refined/moodle')\r\n",
        "oea.drop_lake_db('ldb_dev_s2i_moodle_v4p1')\r\n",
        "oea.drop_lake_db('ldb_dev_s2r_moodle_v4p1')"
      ],
      "outputs": [],
      "execution_count": null,
      "metadata": {
        "jupyter": {
          "source_hidden": false,
          "outputs_hidden": false
        },
        "nteract": {
          "transient": {
            "deleting": false
          }
        }
      }
    },
    {
      "cell_type": "markdown",
      "source": [
        "## Appendix"
      ],
      "metadata": {
        "nteract": {
          "transient": {
            "deleting": false
          }
        }
      }
    },
    {
      "cell_type": "code",
      "source": [
        "# generate an initial metadata file for manual modification\r\n",
        "metadata = oea.create_metadata_from_lake_db('ldb_dev_s2i_moodle_v4p1')\r\n",
        "dlw = DataLakeWriter(oea.to_url('stage1/Transactional/moodle'))\r\n",
        "dlw.write('metadata.csv', metadata)"
      ],
      "outputs": [],
      "execution_count": null,
      "metadata": {
        "jupyter": {
          "source_hidden": false,
          "outputs_hidden": false
        },
        "nteract": {
          "transient": {
            "deleting": false
          }
        }
      }
    },
    {
      "cell_type": "code",
      "source": [
        "# Create a sql db for the ingested Moodle data\r\n",
        "oea.create_sql_db('stage2/Ingested/moodle')"
      ],
      "outputs": [],
      "execution_count": null,
      "metadata": {
        "jupyter": {
          "source_hidden": false,
          "outputs_hidden": false
        },
        "nteract": {
          "transient": {
            "deleting": false
          }
        }
      }
    },
    {
      "cell_type": "code",
      "source": [
        "oea.create_sql_db('stage2/Refined/moodle')"
      ],
      "outputs": [],
      "execution_count": null,
      "metadata": {
        "jupyter": {
          "source_hidden": false,
          "outputs_hidden": false
        },
        "nteract": {
          "transient": {
            "deleting": false
          }
        }
      }
    }
  ],
  "metadata": {
    "kernelspec": {
      "name": "synapse_pyspark",
      "display_name": "Synapse PySpark"
    },
    "language_info": {
      "name": "python"
    },
    "description": null,
    "save_output": true,
    "synapse_widget": {
      "version": "0.1",
      "state": {}
    }
  },
  "nbformat": 4,
  "nbformat_minor": 2
}