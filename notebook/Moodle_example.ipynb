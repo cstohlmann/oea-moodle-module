{
  "nbformat": 4,
  "nbformat_minor": 2,
  "cells": [
    {
      "cell_type": "markdown",
      "metadata": {
        "nteract": {
          "transient": {
            "deleting": false
          }
        }
      },
      "source": [
        "# Test for processing Moodle data\r\n",
        "\r\n",
        "This notebook demonstrates possible data processing and exploration of the Moodle data, using the OEA_py class notebook. \r\n",
        "\r\n",
        "Most of the data processing done in this notebook are also achieved by executing the Moodle module main pipeline. This notebook is designed as an alternate approach to the same processing, as well as module data exploration and visualization. \r\n",
        "\r\n",
        "The steps are clearly outlined below:\r\n",
        "1. Set the workspace,\r\n",
        "2. Land Moodle Module Higher Ed. Test Data,\r\n",
        "3. Ingest the Moodle Module Test Data,\r\n",
        "4. Refine the Moodle Module Test Data, \r\n",
        "5. Demonstrate Lake Database Queries/Final Remarks, and\r\n",
        "6. Appendix"
      ]
    },
    {
      "cell_type": "code",
      "execution_count": 1,
      "outputs": [],
      "metadata": {
        "jupyter": {
          "source_hidden": false,
          "outputs_hidden": false
        },
        "nteract": {
          "transient": {
            "deleting": false
          }
        }
      },
      "source": [
        "%run OEA_py"
      ]
    },
    {
      "cell_type": "code",
      "execution_count": 2,
      "outputs": [],
      "metadata": {
        "jupyter": {
          "source_hidden": false,
          "outputs_hidden": false
        },
        "nteract": {
          "transient": {
            "deleting": false
          }
        }
      },
      "source": [
        "# 1) set the workspace (this determines where in the data lake you'll be writing to and reading from).\r\n",
        "# You can work in 'dev', 'prod', or a sandbox with any name you choose.\r\n",
        "# For example, Sam the developer can create a 'sam' workspace and expect to find his datasets in the data lake under oea/sandboxes/sam\r\n",
        "oea.set_workspace('sam')"
      ]
    },
    {
      "cell_type": "markdown",
      "metadata": {
        "nteract": {
          "transient": {
            "deleting": false
          }
        }
      },
      "source": [
        "## 2.) Land Moodle Module Higher Ed. Test Data\r\n",
        "\r\n",
        "Directory: ```GitHub.com (raw data) -> stage1/Transactional/moodle```\r\n",
        "\r\n",
        "The code block below lands 26 OEA Moodle module test data tables, formatted as Moodle Higher Ed. data in your data lake. \r\n",
        "\r\n",
        "Moodle test data tables landed in stage 1:\r\n",
        " 1. **assign**\r\n",
        " 2. **assign_grades**\r\n",
        " 3. **assign_submission**\r\n",
        " 4. **assignsubmission_file**\r\n",
        " 5. **assign_user_mapping**\r\n",
        " 6. **context**\r\n",
        " 7. **course**\r\n",
        " 8. **course_categories**\r\n",
        " 9. **enrol**\r\n",
        " 10. **forum**\r\n",
        " 11. **forum_discussions**\r\n",
        " 12. **forum_grades**\r\n",
        " 13. **lesson**\r\n",
        " 14. **lesson_answers**\r\n",
        " 15. **lesson_attempts**\r\n",
        " 16. **lesson_grades**\r\n",
        " 17. **messages**\r\n",
        " 18. **message_conversations**\r\n",
        " 19. **message_conversation_members**\r\n",
        " 20. **quiz**\r\n",
        " 21. **quiz_attempts**\r\n",
        " 22. **quiz_grades**\r\n",
        " 23. **role**\r\n",
        " 24. **role_assignments**\r\n",
        " 25. **user** \r\n",
        " 26. **user_enrolments**\r\n",
        "\r\n",
        "\r\n",
        "**To-Do's:**\r\n",
        " - Confirm that files are being landed \"correctly\" in their proper folder partitions."
      ]
    },
    {
      "cell_type": "code",
      "execution_count": null,
      "outputs": [],
      "metadata": {
        "jupyter": {
          "source_hidden": false,
          "outputs_hidden": false
        },
        "nteract": {
          "transient": {
            "deleting": false
          }
        }
      },
      "source": [
        "# 2.1) Land batch data files into stage1 of the data lake.\r\n",
        "# In this example we pull Moodle HEd test csv data files from github and land it in oea/sandboxes/sam/stage1/Transactional/moodle/v0.1\r\n",
        "data = requests.get('https://raw.githubusercontent.com/microsoft/OpenEduAnalytics/main/modules/module_catalog/Moodle/test_data/hed_test_data/context/2023-03-21/moodle_context_hed_test_data.csv').text\r\n",
        "oea.land(data, 'moodle/v0.1/context', 'context_hed_test_data.csv', oea.SNAPSHOT_BATCH_DATA)\r\n",
        "data = requests.get('https://raw.githubusercontent.com/microsoft/OpenEduAnalytics/main/modules/module_catalog/Moodle/test_data/hed_test_data/course/2023-03-21/moodle_course_hed_test_data.csv').text\r\n",
        "oea.land(data, 'moodle/v0.1/course', 'course_hed_test_data.csv', oea.SNAPSHOT_BATCH_DATA)\r\n",
        "data = requests.get('https://raw.githubusercontent.com/microsoft/OpenEduAnalytics/main/modules/module_catalog/Moodle/test_data/hed_test_data/course_categories/2023-03-21/moodle_course_categories_hed_test_data.csv').text\r\n",
        "oea.land(data, 'moodle/v0.1/course_categories', 'coursecategories_hed_test_data.csv', oea.SNAPSHOT_BATCH_DATA)\r\n",
        "data = requests.get('https://raw.githubusercontent.com/microsoft/OpenEduAnalytics/main/modules/module_catalog/Moodle/test_data/hed_test_data/enrol/2023-03-21/moodle_enrol_hed_test_data.csv').text\r\n",
        "oea.land(data, 'moodle/v0.1/enrol', 'enrol_hed_test_data.csv', oea.SNAPSHOT_BATCH_DATA)\r\n",
        "data = requests.get('https://raw.githubusercontent.com/microsoft/OpenEduAnalytics/main/modules/module_catalog/Moodle/test_data/hed_test_data/role/2023-03-21/moodle_role_hed_test_data.csv').text\r\n",
        "oea.land(data, 'moodle/v0.1/role', 'role_hed_test_data.csv', oea.SNAPSHOT_BATCH_DATA)\r\n",
        "data = requests.get('https://raw.githubusercontent.com/microsoft/OpenEduAnalytics/main/modules/module_catalog/Moodle/test_data/hed_test_data/role_assignments/2023-03-21/moodle_role_assignments_hed_test_data.csv').text\r\n",
        "oea.land(data, 'moodle/v0.1/role_assignments', 'roleassignments_hed_test_data.csv', oea.SNAPSHOT_BATCH_DATA)\r\n",
        "data = requests.get('https://raw.githubusercontent.com/microsoft/OpenEduAnalytics/main/modules/module_catalog/Moodle/test_data/hed_test_data/user/2023-03-21/moodle_user_assignments_hed_test_data.csv').text\r\n",
        "oea.land(data, 'moodle/v0.1/user', 'user_hed_test_data.csv', oea.SNAPSHOT_BATCH_DATA)\r\n",
        "\r\n",
        "data = requests.get('https://raw.githubusercontent.com/microsoft/OpenEduAnalytics/main/modules/module_catalog/Moodle/test_data/hed_test_data/user_enrolments/2023-03-21/moodle_user_enrolments_hed_test_data.csv').text\r\n",
        "oea.land(data, 'moodle/v0.1/user_enrolments', 'userenrolments_hed_test_data.csv', oea.DELTA_BATCH_DATA)\r\n",
        "\r\n",
        "data = requests.get('https://raw.githubusercontent.com/microsoft/OpenEduAnalytics/main/modules/module_catalog/Moodle/test_data/hed_test_data/assign/2023-03-21/moodle_assign_hed_test_data.csv').text\r\n",
        "oea.land(data, 'moodle/v0.1/assign', 'assign_hed_test_data.csv', oea.ADDITIVE_BATCH_DATA)\r\n",
        "data = requests.get('https://raw.githubusercontent.com/microsoft/OpenEduAnalytics/main/modules/module_catalog/Moodle/test_data/hed_test_data/assign_grades/2023-03-21/moodle_assign_grades_hed_test_data.csv').text\r\n",
        "oea.land(data, 'moodle/v0.1/assign_grades', 'assigngrades_hed_test_data.csv', oea.ADDITIVE_BATCH_DATA)\r\n",
        "data = requests.get('https://raw.githubusercontent.com/microsoft/OpenEduAnalytics/main/modules/module_catalog/Moodle/test_data/hed_test_data/assign_submission/2023-03-21/moodle_assign_submission_hed_test_data.csv').text\r\n",
        "oea.land(data, 'moodle/v0.1/assign_submission', 'assignsubmission_hed_test_data.csv', oea.ADDITIVE_BATCH_DATA)\r\n",
        "data = requests.get('https://raw.githubusercontent.com/microsoft/OpenEduAnalytics/main/modules/module_catalog/Moodle/test_data/hed_test_data/assignsubmission_file/2023-03-21/moodle_assignsubmission_file_hed_test_data.csv').text\r\n",
        "oea.land(data, 'moodle/v0.1/assignsubmission_file', 'assignsubmissionfile_hed_test_data.csv', oea.ADDITIVE_BATCH_DATA)\r\n",
        "data = requests.get('https://raw.githubusercontent.com/microsoft/OpenEduAnalytics/main/modules/module_catalog/Moodle/test_data/hed_test_data/assign_user_mapping/2023-03-21/moodle_assign_user_mapping_hed_test_data.csv').text\r\n",
        "oea.land(data, 'moodle/v0.1/assign_user_mapping', 'assignusermapping_hed_test_data.csv', oea.ADDITIVE_BATCH_DATA)\r\n",
        "data = requests.get('https://raw.githubusercontent.com/microsoft/OpenEduAnalytics/main/modules/module_catalog/Moodle/test_data/hed_test_data/forum/2023-03-21/moodle_forum_hed_test_data.csv').text\r\n",
        "oea.land(data, 'moodle/v0.1/forum', 'forum_hed_test_data.csv', oea.ADDITIVE_BATCH_DATA)\r\n",
        "data = requests.get('https://raw.githubusercontent.com/microsoft/OpenEduAnalytics/main/modules/module_catalog/Moodle/test_data/hed_test_data/forum_discussions/2023-03-21/moodle_forum_discussions_hed_test_data.csv').text\r\n",
        "oea.land(data, 'moodle/v0.1/forum_discussions', 'forumdiscussions_hed_test_data.csv', oea.ADDITIVE_BATCH_DATA)\r\n",
        "data = requests.get('https://raw.githubusercontent.com/microsoft/OpenEduAnalytics/main/modules/module_catalog/Moodle/test_data/hed_test_data/forum_grades/2023-03-21/moodle_forum_grades_hed_test_data.csv').text\r\n",
        "oea.land(data, 'moodle/v0.1/forum_grades', 'forumgrades_hed_test_data.csv', oea.ADDITIVE_BATCH_DATA)\r\n",
        "data = requests.get('https://raw.githubusercontent.com/microsoft/OpenEduAnalytics/main/modules/module_catalog/Moodle/test_data/hed_test_data/lesson/2023-03-21/moodle_lesson_hed_test_data.csv').text\r\n",
        "oea.land(data, 'moodle/v0.1/lesson', 'lesson_hed_test_data.csv', oea.ADDITIVE_BATCH_DATA)\r\n",
        "data = requests.get('https://raw.githubusercontent.com/microsoft/OpenEduAnalytics/main/modules/module_catalog/Moodle/test_data/hed_test_data/lesson_answers/2023-03-21/moodle_lesson_answers_hed_test_data.csv').text\r\n",
        "oea.land(data, 'moodle/v0.1/lesson_answers', 'lessonanswers_hed_test_data.csv', oea.ADDITIVE_BATCH_DATA)\r\n",
        "data = requests.get('https://raw.githubusercontent.com/microsoft/OpenEduAnalytics/main/modules/module_catalog/Moodle/test_data/hed_test_data/lesson_attempts/2023-03-21/moodle_lesson_attempts_hed_test_data.csv').text\r\n",
        "oea.land(data, 'moodle/v0.1/lesson_attempts', 'lessonattempts_hed_test_data.csv', oea.ADDITIVE_BATCH_DATA)\r\n",
        "data = requests.get('https://raw.githubusercontent.com/microsoft/OpenEduAnalytics/main/modules/module_catalog/Moodle/test_data/hed_test_data/lesson_grades/2023-03-21/moodle_lesson_grades_hed_test_data.csv').text\r\n",
        "oea.land(data, 'moodle/v0.1/lesson_grades', 'lessongrades_hed_test_data.csv', oea.ADDITIVE_BATCH_DATA)\r\n",
        "data = requests.get('https://raw.githubusercontent.com/microsoft/OpenEduAnalytics/main/modules/module_catalog/Moodle/test_data/hed_test_data/messages/2023-03-21/moodle_messages_hed_test_data.csv').text\r\n",
        "oea.land(data, 'moodle/v0.1/messages', 'messages_hed_test_data.csv', oea.ADDITIVE_BATCH_DATA)\r\n",
        "data = requests.get('https://raw.githubusercontent.com/microsoft/OpenEduAnalytics/main/modules/module_catalog/Moodle/test_data/hed_test_data/message_conversations/2023-03-21/moodle_message_conversations_hed_test_data.csv').text\r\n",
        "oea.land(data, 'moodle/v0.1/message_conversations', 'messageconversations_hed_test_data.csv', oea.ADDITIVE_BATCH_DATA)\r\n",
        "data = requests.get('https://raw.githubusercontent.com/microsoft/OpenEduAnalytics/main/modules/module_catalog/Moodle/test_data/hed_test_data/message_conversation_members/2023-03-21/moodle_message_conversation_members_hed_test_data.csv').text\r\n",
        "oea.land(data, 'moodle/v0.1/message_conversation_members', 'messageconversationmembers_hed_test_data.csv', oea.ADDITIVE_BATCH_DATA)\r\n",
        "data = requests.get('https://raw.githubusercontent.com/microsoft/OpenEduAnalytics/main/modules/module_catalog/Moodle/test_data/hed_test_data/quiz/2023-03-21/moodle_quiz_hed_test_data.csv').text\r\n",
        "oea.land(data, 'moodle/v0.1/quiz', 'quiz_hed_test_data.csv', oea.ADDITIVE_BATCH_DATA)\r\n",
        "data = requests.get('https://raw.githubusercontent.com/microsoft/OpenEduAnalytics/main/modules/module_catalog/Moodle/test_data/hed_test_data/quiz_attempts/2023-03-21/moodle_quiz_attempts_hed_test_data.csv').text\r\n",
        "oea.land(data, 'moodle/v0.1/quiz_attempts', 'quizattempts_hed_test_data.csv', oea.ADDITIVE_BATCH_DATA)\r\n",
        "data = requests.get('https://raw.githubusercontent.com/microsoft/OpenEduAnalytics/main/modules/module_catalog/Moodle/test_data/hed_test_data/quiz_grades/2023-03-21/moodle_quiz_grades_hed_test_data.csv').text\r\n",
        "oea.land(data, 'moodle/v0.1/quiz_grades', 'quizgrades_hed_test_data.csv', oea.ADDITIVE_BATCH_DATA)"
      ]
    },
    {
      "cell_type": "markdown",
      "metadata": {
        "nteract": {
          "transient": {
            "deleting": false
          }
        }
      },
      "source": [
        "## 3.) Ingest the Moodle Module Test Data\r\n",
        "\r\n",
        "Directory: ```stage1/Transactional/moodle -> stage2/Ingested/moodle```\r\n",
        "\r\n",
        "This step ingests the Moodle module test data from stage1 to stage2/Ingested.\r\n",
        "\r\n",
        "The code blocks in this step ingest the data using the ```oea.ingest()``` function as normal.\r\n",
        "\r\n",
        "**To-Do's:**\r\n",
        " - Check if Moodle test data accurately reflects actual (production) Moodle data."
      ]
    },
    {
      "cell_type": "code",
      "execution_count": 8,
      "outputs": [],
      "metadata": {
        "jupyter": {
          "source_hidden": false,
          "outputs_hidden": false
        },
        "nteract": {
          "transient": {
            "deleting": false
          }
        }
      },
      "source": [
        "# 3) The next step is to ingest the batch data into stage2\r\n",
        "# Note that when you run this the first time, you'll see an info message like \"Number of new inbound rows processed: 2\".\r\n",
        "# If you run this a second time, the number of inbound rows processed will be 0 because the ingestion uses spark structured streaming to keep track of what data has already been processed.\r\n",
        "#options = {'header':True}\r\n",
        "oea.ingest(f'moodle/v0.1/assign', 'id')\r\n",
        "oea.ingest(f'moodle/v0.1/assign_grades', 'id')\r\n",
        "oea.ingest(f'moodle/v0.1/assign_submission', 'id')\r\n",
        "oea.ingest(f'moodle/v0.1/assign_user_mapping', 'id')\r\n",
        "oea.ingest(f'moodle/v0.1/assignsubmission_file', 'id')\r\n",
        "oea.ingest(f'moodle/v0.1/context', 'id')\r\n",
        "oea.ingest(f'moodle/v0.1/course', 'id')\r\n",
        "oea.ingest(f'moodle/v0.1/course_categories', 'id')\r\n",
        "oea.ingest(f'moodle/v0.1/enrol', 'id')\r\n",
        "oea.ingest(f'moodle/v0.1/forum', 'id')\r\n",
        "oea.ingest(f'moodle/v0.1/forum_discussions', 'id')\r\n",
        "oea.ingest(f'moodle/v0.1/forum_grades', 'id')\r\n",
        "oea.ingest(f'moodle/v0.1/lesson', 'id')\r\n",
        "oea.ingest(f'moodle/v0.1/lesson_answers', 'id')\r\n",
        "oea.ingest(f'moodle/v0.1/lesson_attempts', 'id')\r\n",
        "oea.ingest(f'moodle/v0.1/lesson_grades', 'id')\r\n",
        "oea.ingest(f'moodle/v0.1/messages', 'id')\r\n",
        "oea.ingest(f'moodle/v0.1/message_conversations', 'id')\r\n",
        "oea.ingest(f'moodle/v0.1/message_conversation_members', 'id')\r\n",
        "oea.ingest(f'moodle/v0.1/quiz', 'id')\r\n",
        "oea.ingest(f'moodle/v0.1/quiz_attempts', 'id')\r\n",
        "oea.ingest(f'moodle/v0.1/quiz_grades', 'id')\r\n",
        "oea.ingest(f'moodle/v0.1/role', 'id')\r\n",
        "oea.ingest(f'moodle/v0.1/role_assignments', 'id')\r\n",
        "oea.ingest(f'moodle/v0.1/user', 'id')\r\n",
        "oea.ingest(f'moodle/v0.1/user_enrolments', 'id')"
      ]
    },
    {
      "cell_type": "code",
      "execution_count": 9,
      "outputs": [],
      "metadata": {
        "jupyter": {
          "source_hidden": false,
          "outputs_hidden": false
        },
        "nteract": {
          "transient": {
            "deleting": false
          }
        },
        "collapsed": false
      },
      "source": [
        "# 3.5) Now you can run queries against the auto-generated \"lake database\" with the ingested Moodle data.\r\n",
        "#df = spark.sql(\"select * from ldb_sam_s2i_moodle_v0p1.course\")\r\n",
        "df = spark.sql(\"select * from ldb_dev_s2i_moodle_v0p1.course\")\r\n",
        "display(df.limit(10))"
      ]
    },
    {
      "cell_type": "markdown",
      "metadata": {
        "nteract": {
          "transient": {
            "deleting": false
          }
        }
      },
      "source": [
        "## 4.) Refine the Moodle Module Test Data\r\n",
        "\r\n",
        "Directory: ```stage2/Ingested/moodle -> stage2/Refined/moodle```\r\n",
        "\r\n",
        "This step then refines the Moodle test data from stage2/Ingested to stage2/Refined, using the metadata.csv. This step is responsible for pseudonymization, which preserves sensitive student information by either hashing or masking the sensitive columns. \r\n",
        "\r\n",
        "Tables are separated into either ```stage2/Refined/moodle/v0.1/general``` or ```stage2/Refined/moodle/v0.1/sensitive```, depending on whether each table is pseudonymized or has a sensitive column-hashing/masking mapping, respectively.\r\n",
        ""
      ]
    },
    {
      "cell_type": "code",
      "execution_count": 10,
      "outputs": [],
      "metadata": {
        "jupyter": {
          "source_hidden": false,
          "outputs_hidden": false
        },
        "nteract": {
          "transient": {
            "deleting": false
          }
        }
      },
      "source": [
        "# 4) this step refines the data through the use of metadata (this is where the pseudonymization of the data occurs).\r\n",
        "def refine_moodle_dataset(tables_source):\r\n",
        "    items = oea.get_folders(tables_source)\r\n",
        "    for item in items: \r\n",
        "        table_path = tables_source +'/'+ item\r\n",
        "        if item == 'metadata.csv':\r\n",
        "            logger.info('ignore metadata processing, since this is not a table to be ingested')\r\n",
        "        else:\r\n",
        "            try:\r\n",
        "                if item == 'assign':\r\n",
        "                    oea.refine('moodle/v0.1/assign', metadata[item], 'id_pseudonym')\r\n",
        "                elif item == 'user':\r\n",
        "                    oea.refine('moodle/v0.1/user', metadata[item], 'id_pseudonym')\r\n",
        "                else:\r\n",
        "                    oea.refine('moodle/v0.1/' + item, metadata[item], 'id')\r\n",
        "            except AnalysisException as e:\r\n",
        "                # This means the table may have not been properly refined due to errors with the primary key not aligning with columns expected in the lookup table.\r\n",
        "                pass\r\n",
        "            \r\n",
        "            logger.info('Refined table: ' + item + ' from: ' + table_path)\r\n",
        "    logger.info('Finished refining Moodle tables')"
      ]
    },
    {
      "cell_type": "code",
      "execution_count": 11,
      "outputs": [],
      "metadata": {
        "jupyter": {
          "source_hidden": false,
          "outputs_hidden": false
        },
        "nteract": {
          "transient": {
            "deleting": false
          }
        }
      },
      "source": [
        "#metadata = oea.get_metadata_from_url('https://raw.githubusercontent.com/microsoft/OpenEduAnalytics/main/modules/module_catalog/Moodle/test_data/metadata.csv')\r\n",
        "metadata = oea.get_metadata_from_url('https://raw.githubusercontent.com/cstohlmann/oea-moodle-module/main/test_data/metadata.csv')\r\n",
        "refine_moodle_dataset('stage2/Ingested/moodle/v0.1')"
      ]
    },
    {
      "cell_type": "code",
      "execution_count": 12,
      "outputs": [],
      "metadata": {
        "jupyter": {
          "source_hidden": false,
          "outputs_hidden": false
        },
        "nteract": {
          "transient": {
            "deleting": false
          }
        },
        "collapsed": false
      },
      "source": [
        "# This block represents what the blocks above (in this step) accomplish\r\n",
        "#metadata = oea.get_metadata_from_url('https://raw.githubusercontent.com/microsoft/OpenEduAnalytics/main/modules/module_catalog/Moodle/test_data/metadata.csv')\r\n",
        "\r\n",
        "#oea.refine('moodle/v0.1/assign', metadata['assign'], 'id_pseudonym')\r\n",
        "#oea.refine('moodle/v0.1/assign_grades', metadata['assign_grades'], 'id')\r\n",
        "#oea.refine('moodle/v0.1/assign_submission', metadata['assign_submission'], 'id')\r\n",
        "#oea.refine('moodle/v0.1/assign_user_mapping', metadata['assign_user_mapping'], 'id')\r\n",
        "#oea.refine('moodle/v0.1/assignsubmission_file', metadata['assignsubmission_file'], 'id')\r\n",
        "#oea.refine('moodle/v0.1/context', metadata['context'], 'id')\r\n",
        "#oea.refine('moodle/v0.1/course', metadata['course'], 'id')\r\n",
        "#oea.refine('moodle/v0.1/course_categories', metadata['course_categories'], 'id')\r\n",
        "#oea.refine('moodle/v0.1/enrol', metadata['enrol'], 'id')\r\n",
        "#oea.refine('moodle/v0.1/forum', metadata['forum'], 'id')\r\n",
        "#oea.refine('moodle/v0.1/forum_discussions', metadata['forum_discussions'], 'id')\r\n",
        "#oea.refine('moodle/v0.1/forum_grades', metadata['forum_grades'], 'id')\r\n",
        "#oea.refine('moodle/v0.1/lesson', metadata['lesson'], 'id')\r\n",
        "#oea.refine('moodle/v0.1/lesson_answers', metadata['lesson_answers'], 'id')\r\n",
        "#oea.refine('moodle/v0.1/lesson_attempts', metadata['lesson_attempts'], 'id')\r\n",
        "#oea.refine('moodle/v0.1/lesson_grades', metadata['lesson_grades'], 'id')\r\n",
        "#oea.refine('moodle/v0.1/messages', metadata['messages'], 'id')\r\n",
        "#oea.refine('moodle/v0.1/message_conversations', metadata['message_conversations'], 'id')\r\n",
        "#oea.refine('moodle/v0.1/message_conversation_members', metadata['message_conversation_members'], 'id')\r\n",
        "#oea.refine('moodle/v0.1/quiz', metadata['quiz'], 'id') \r\n",
        "#oea.refine('moodle/v0.1/quiz_attempts', metadata['quiz_attempts'], 'id')\r\n",
        "#oea.refine('moodle/v0.1/quiz_grades', metadata['quiz_grades'], 'id')\r\n",
        "#oea.refine('moodle/v0.1/role', metadata['role'], 'id')\r\n",
        "#oea.refine('moodle/v0.1/role_assignments', metadata['role_assignments'], 'id')\r\n",
        "#oea.refine('moodle/v0.1/user', metadata['user'], 'id_pseudonym')\r\n",
        "#oea.refine('moodle/v0.1/user_enrolments', metadata['user_enrolments'], 'id')\r\n",
        ""
      ]
    },
    {
      "cell_type": "markdown",
      "metadata": {
        "nteract": {
          "transient": {
            "deleting": false
          }
        }
      },
      "source": [
        "## 5.) Demonstrate Lake Database Queries/Final Remarks"
      ]
    },
    {
      "cell_type": "code",
      "execution_count": 13,
      "outputs": [],
      "metadata": {
        "jupyter": {
          "source_hidden": false,
          "outputs_hidden": false
        },
        "nteract": {
          "transient": {
            "deleting": false
          }
        }
      },
      "source": [
        "oea.add_to_lake_db('stage2/Refined/moodle/v0.1/general/assign')"
      ]
    },
    {
      "cell_type": "code",
      "execution_count": 14,
      "outputs": [],
      "metadata": {
        "jupyter": {
          "source_hidden": false,
          "outputs_hidden": false
        },
        "nteract": {
          "transient": {
            "deleting": false
          }
        }
      },
      "source": [
        "oea.add_to_lake_db('stage2/Refined/moodle/v0.1/general/course')"
      ]
    },
    {
      "cell_type": "code",
      "execution_count": 15,
      "outputs": [],
      "metadata": {
        "jupyter": {
          "source_hidden": false,
          "outputs_hidden": false
        },
        "nteract": {
          "transient": {
            "deleting": false
          }
        },
        "collapsed": false
      },
      "source": [
        "# 5) Now you can query the refined data tables in the lake db\r\n",
        "#df = spark.sql(\"select * from ldb_sam_s2r_moodle_v0p1.assign\")\r\n",
        "df = spark.sql(\"select * from ldb_dev_s2r_moodle_v0p1.assign\")\r\n",
        "display(df)\r\n",
        "df.printSchema()\r\n",
        "#df = spark.sql(\"select * from ldb_sam_s2r_moodle_v0p1.course\")\r\n",
        "df = spark.sql(\"select * from ldb_dev_s2r_moodle_v0p1.course\")\r\n",
        "display(df)\r\n",
        "df.printSchema()\r\n",
        "# You can use the \"lookup\" table for joins (people with restricted access won't be able to perform this query because they won't have access to data in the \"sensitive\" folder in the data lake)\r\n",
        "#df = spark.sql(\"select c.fullname, c.id, a.id_pseudonym, a.name, a.nosubmissions, a.maxattempts, a.grade from ldb_sam_s2r_moodle_v0p1.course c, ldb_sam_s2r_moodle_v0p1.assign a where c.id = a.course\")\r\n",
        "df = spark.sql(\"select c.fullname, c.id, a.id_pseudonym, a.name, a.nosubmissions, a.maxattempts, a.grade from ldb_dev_s2r_moodle_v0p1.course c, ldb_dev_s2r_moodle_v0p1.assign a where c.id = a.course\")\r\n",
        "display(df)"
      ]
    },
    {
      "cell_type": "code",
      "execution_count": 19,
      "outputs": [],
      "metadata": {
        "jupyter": {
          "source_hidden": false,
          "outputs_hidden": false
        },
        "nteract": {
          "transient": {
            "deleting": false
          }
        }
      },
      "source": [
        "# Run this cell to reset this example (deleting all the example Moodle data in your workspace)\r\n",
        "oea.rm_if_exists('stage1/Transactional/moodle')\r\n",
        "oea.rm_if_exists('stage2/Ingested/moodle')\r\n",
        "oea.rm_if_exists('stage2/Refined/moodle')\r\n",
        "oea.drop_lake_db('ldb_sam_s2i_moodle_v0p1')\r\n",
        "oea.drop_lake_db('ldb_sam_s2r_moodle_v0p1')"
      ]
    },
    {
      "cell_type": "markdown",
      "metadata": {
        "nteract": {
          "transient": {
            "deleting": false
          }
        }
      },
      "source": [
        "## Appendix"
      ]
    },
    {
      "cell_type": "code",
      "execution_count": null,
      "outputs": [],
      "metadata": {
        "jupyter": {
          "source_hidden": false,
          "outputs_hidden": false
        },
        "nteract": {
          "transient": {
            "deleting": false
          }
        }
      },
      "source": [
        "# generate an initial metadata file for manual modification\r\n",
        "metadata = oea.create_metadata_from_lake_db('ldb_sam_s2i_moodle_v0p1')\r\n",
        "dlw = DataLakeWriter(oea.to_url('stage1/Transactional/moodle'))\r\n",
        "dlw.write('metadata.csv', metadata)"
      ]
    },
    {
      "cell_type": "code",
      "execution_count": null,
      "outputs": [],
      "metadata": {
        "jupyter": {
          "source_hidden": false,
          "outputs_hidden": false
        },
        "nteract": {
          "transient": {
            "deleting": false
          }
        }
      },
      "source": [
        "# Create a sql db for the ingested Moodle data\r\n",
        "oea.create_sql_db('stage2/Ingested/moodle')"
      ]
    },
    {
      "cell_type": "code",
      "execution_count": 16,
      "outputs": [],
      "metadata": {
        "jupyter": {
          "source_hidden": false,
          "outputs_hidden": false
        },
        "nteract": {
          "transient": {
            "deleting": false
          }
        }
      },
      "source": [
        "oea.create_sql_db('stage2/Refined/moodle')"
      ]
    }
  ],
  "metadata": {
    "description": null,
    "save_output": true,
    "kernelspec": {
      "name": "synapse_pyspark",
      "display_name": "Synapse PySpark"
    },
    "language_info": {
      "name": "python"
    }
  }
}